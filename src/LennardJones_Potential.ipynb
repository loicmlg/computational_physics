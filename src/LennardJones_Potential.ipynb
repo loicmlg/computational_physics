{
 "cells": [
  {
   "cell_type": "markdown",
   "metadata": {},
   "source": [
    "# The Lennard-Jones potential\n",
    "\n",
    "Ralf Everaers, ENS Lyon (2021-22)"
   ]
  },
  {
   "cell_type": "markdown",
   "metadata": {},
   "source": [
    "According to Wikipedia [https://en.wikipedia.org/wiki/Lennard-Jones_potential]:\n",
    "\n",
    "\"The Lennard-Jones potential is a simplified model that yet describes the essential features of interactions between simple atoms and molecules: Two interacting particles repel each other at very close distance, attract each other at moderate distance, and do not interact at infinite distance, see figure 1. The Lennard-Jones potential is a pair potential, i.e. no three- or multi-body interactions are covered by the potential.\n",
    "\n",
    "Statistical mechanics and computer simulations can be used to study the Lennard-Jones potential and to obtain thermophysical properties of the 'Lennard-Jones substance'. Both the Lennard-Jones potential and, accordingly, the Lennard-Jones substance are simplified yet realistic models, such as they accurately capture essential physical principles like the presence of a critical and a triple point, condensation and freezing. The Lennard-Jones potential is mathematically simple and is therefore extensively used in studies on matter since the early days of computer simulation. Due to its mathematical simplicity and generic modeling capabilities, the Lennard-Jones potential is probably still the most frequently studied model potential. The Lennard-Jones substance is often even referred to as 'Lennard-Jonesium', suggesting that it is viewed as a chemical element. The Lennard-Jones potential is usually the standard choice for the development of theories for matter (especially soft-matter) as well as for the development and testing of computational methods and algorithms. Upon adjusting the model parameters $\\epsilon$ and $\\sigma$ to real substance properties, the Lennard-Jones potential can be used to describe simple substance (like noble gases) with good accuracy. Furthermore, the Lennard-Jones potential is often used as a building block in molecular models (a.k.a. force fields) for more complex substances.\""
   ]
  },
  {
   "cell_type": "code",
   "execution_count": 1,
   "metadata": {},
   "outputs": [],
   "source": [
    "# Import standard libraries\n",
    "import numpy as np\n",
    "from scipy.special import gamma\n",
    "import matplotlib.pyplot as plt\n",
    "from matplotlib import animation, cm, colors, rc\n",
    "import random\n",
    "import time\n",
    "from imp import reload\n",
    "rc('animation', html='html5')\n",
    "\n",
    "# Import library of our own functions\n",
    "import MPCMolecularDynamics as MD\n",
    "reload(MD)\n",
    "\n",
    "#Include plots into notebook instead of plotting them in extra window\n",
    "%matplotlib inline "
   ]
  },
  {
   "cell_type": "markdown",
   "metadata": {},
   "source": [
    "## Functional form"
   ]
  },
  {
   "cell_type": "markdown",
   "metadata": {},
   "source": [
    "The Lennard-Jones potential with the functional form\n",
    "\n",
    "\\begin{equation}\n",
    "U_{LJ}(r) = 4\\epsilon \\left(\\left(\\frac\\sigma{r}\\right)^{12} - \\left(\\frac\\sigma{r}\\right)^6 \\right)\n",
    "\\end{equation}\n",
    "\n",
    "provides a reasonable description of the interaction between noble gas atoms and is widely used in Molecular Dynamics simulations to represent the excluded volume and van der Waals interactions between atoms of all types."
   ]
  },
  {
   "cell_type": "code",
   "execution_count": 2,
   "metadata": {
    "scrolled": true
   },
   "outputs": [
    {
     "data": {
      "text/plain": [
       "Text(0, 0.5, '$U_{LJ}(r)/\\\\epsilon$')"
      ]
     },
     "execution_count": 2,
     "metadata": {},
     "output_type": "execute_result"
    },
    {
     "data": {
      "image/png": "[encoded data removed]",
      "text/plain": [
       "<Figure size 432x288 with 1 Axes>"
      ]
     },
     "metadata": {
      "needs_background": "light"
     },
     "output_type": "display_data"
    }
   ],
   "source": [
    "r = np.linspace(0.95,3,100)\n",
    "u = 4*(r**(-12)-r**-6)\n",
    "plt.plot(r,u)\n",
    "plt.plot(r,0*r)\n",
    "plt.xlabel(\"$r/\\sigma$\")\n",
    "plt.ylabel(\"$U_{LJ}(r)/\\epsilon$\")"
   ]
  },
  {
   "cell_type": "markdown",
   "metadata": {},
   "source": [
    "The corresponding forces on two particles $i$ and $j$ located at $\\vec r_i$ and $\\vec r_j$ at a mutual distance of $r_{ij}=|\\vec r_i-\\vec r_j|$ are given by\n",
    "\n",
    "\\begin{equation}\n",
    "-\\frac d{d \\vec r_i} U_{LJ}(r_{ij}) = 24\\epsilon \\left(2\\left(\\frac\\sigma{r_{ij}}\\right)^{12} - \\left(\\frac\\sigma{r_{ij}}\\right)^6 \\right) \\frac{\\vec r_i-\\vec r_j}{r_{ij}^2}\n",
    "\\end{equation}\n"
   ]
  },
  {
   "cell_type": "code",
   "execution_count": 3,
   "metadata": {
    "scrolled": true
   },
   "outputs": [
    {
     "data": {
      "text/plain": [
       "Text(0, 0.5, '$f_{LJ}(r)/ (\\\\epsilon/\\\\sigma)$')"
      ]
     },
     "execution_count": 3,
     "metadata": {},
     "output_type": "execute_result"
    },
    {
     "data": {
      "image/png": "[encoded data removed]",
      "text/plain": [
       "<Figure size 432x288 with 1 Axes>"
      ]
     },
     "metadata": {
      "needs_background": "light"
     },
     "output_type": "display_data"
    }
   ],
   "source": [
    "r = np.linspace(0.95,3,100)\n",
    "f = 24*(2*r**(-12)-r**-6)/r\n",
    "plt.plot(r,f)\n",
    "plt.plot(r,0*r)\n",
    "plt.xlabel(\"$r/\\sigma$\")\n",
    "plt.ylabel(\"$f_{LJ}(r)/ (\\epsilon/\\sigma)$\")"
   ]
  },
  {
   "cell_type": "markdown",
   "metadata": {},
   "source": [
    "### Routine for calculating the Lennard-Jones energy for an array of distance vectors"
   ]
  },
  {
   "cell_type": "code",
   "execution_count": 4,
   "metadata": {},
   "outputs": [],
   "source": [
    "def U_LJ(d,epsilon,sigma,distance_vector):\n",
    "    \"\"\"\n",
    "    Lennard-Jones potential energy in d dimensions\n",
    "    \n",
    "    d is the embedding dimension. Needed to distinguish the case of 2 1d distance vectors from 1 2d distance vector.\n",
    "    \n",
    "    epsilon is the energy scale of the LJ potential and can be\n",
    "        a scalar for a single interaction or if all interactions have the same epsilon\n",
    "        an array of the length of the array of distance vectors\n",
    "        \n",
    "    sigma is the interaction range and can be\n",
    "        a scalar for a single interaction or if all interactions have the same epsilon\n",
    "        an array of the length of the array of distance vectors\n",
    "\n",
    "    distance_vector are the instanteneous distances \n",
    "        in d = 1 distance_vector = delta_x\n",
    "        in d>1 distance_vector has to be of the form distance_vector = (delta_x,delta_x) or distance_vector = [delta_x,delta_x]\n",
    "        where delta_x and delta_y can be    \n",
    "            a scalar for a single interaction\n",
    "            an array for several interactions to be evaluated simultaneously\n",
    "\n",
    "    The function returns 4*epsilon*((sigma/r)**(-12)-(sigma/r)**-6) where u has the same format as delta_x\n",
    "    \"\"\"\n",
    "    eps = np.array(epsilon)       \n",
    "    sig = np.array(sigma)       \n",
    "    delta_r = np.array(distance_vector)                   # array of scalar(d=1) or vector (d>1) distances\n",
    "    delta_r_sqr = delta_r**2                              # array of Cartesian components of squared distances\n",
    "    if d > 1:\n",
    "        delta_r_sqr = np.sum(delta_r_sqr,axis=0)         # add up Cartesian components in d>1\n",
    "    relative_inverse_squared_distance = sigma**2/delta_r_sqr\n",
    "    u = 4*epsilon*(relative_inverse_squared_distance**6-relative_inverse_squared_distance**3)\n",
    "    return u"
   ]
  },
  {
   "cell_type": "markdown",
   "metadata": {},
   "source": [
    "Here is a test that the function works with our different data types"
   ]
  },
  {
   "cell_type": "code",
   "execution_count": 5,
   "metadata": {
    "scrolled": false
   },
   "outputs": [
    {
     "name": "stdout",
     "output_type": "stream",
     "text": [
      "target value: \n",
      " -0.8909652875830762\n",
      " \n",
      " Single distance 1d \n",
      " -0.890965287583076\n",
      "Single distance 2d \n",
      " -0.890965287583076\n",
      " \n",
      " Configuration 1d \n",
      " -0.890965287583076\n",
      "Configuration 2d \n",
      " -0.890965287583076\n",
      " \n",
      " Trajectory 1d \n",
      " -0.890965287583076\n",
      "Trajectory 2d \n",
      " -0.890965287583076\n",
      " \n",
      " Ensemble of trajectories 1d \n",
      " -0.890965287583076\n",
      "LEnsemble of trajectories 2d \n",
      " -0.890965287583076\n"
     ]
    }
   ],
   "source": [
    "r=2**(1./6)\n",
    "r=1.2\n",
    "print(\"target value: \\n\",4*(r**(-12)-r**-6))\n",
    "\n",
    "# single distance\n",
    "x = r\n",
    "y = 0\n",
    "print(\" \\n Single distance 1d \\n\",U_LJ(1,1,1,x))\n",
    "print(\"Single distance 2d \\n\",U_LJ(2,1,1,(x,y)))\n",
    "\n",
    "# a configuration or list of distances \n",
    "x = [x,x,x,x]\n",
    "y = [y,y,y,y]\n",
    "print(\" \\n Configuration 1d \\n\",U_LJ(1,1,1,x)[0])\n",
    "print(\"Configuration 2d \\n\",U_LJ(2,1,1,(x,y))[0])\n",
    "\n",
    "# a trajectory or list of configurations \n",
    "x_tr = np.array([x,x,x])\n",
    "y_tr = np.array([y,y,y])\n",
    "print(\" \\n Trajectory 1d \\n\",U_LJ(1,1,1,x_tr)[0,0])\n",
    "print(\"Trajectory 2d \\n\",U_LJ(2,1,1,(x_tr,y_tr))[0,0])\n",
    "\n",
    "# an ensemble or list of trajectories\n",
    "x_tr_ens = np.array([x_tr,x_tr])\n",
    "y_tr_ens = np.array([y_tr,y_tr])\n",
    "print(\" \\n Ensemble of trajectories 1d \\n\",U_LJ(1,1,1,x_tr_ens)[0,0,0])\n",
    "print(\"LEnsemble of trajectories 2d \\n\",U_LJ(2,1,1,(x_tr_ens,y_tr_ens))[0,0,0])\n"
   ]
  },
  {
   "cell_type": "markdown",
   "metadata": {},
   "source": [
    "### Routine for calculating the Lennard-Jones force for an array of distance vectors"
   ]
  },
  {
   "cell_type": "code",
   "execution_count": 6,
   "metadata": {},
   "outputs": [],
   "source": [
    "def f_LJ(d,epsilon,sigma,distance_vector,debug=False):\n",
    "    \"\"\"\n",
    "    Lennard-Jones force in d dimensions\n",
    "    \n",
    "    d is the embedding dimension. Needed to distinguish the case of 2 1d distance vectors from 1 2d distance vector.\n",
    "    \n",
    "    epsilon is the energy scale of the LJ potential and can be\n",
    "        a scalar for a single interaction or if all interactions have the same epsilon\n",
    "        an array of the length of the array of distance vectors\n",
    "        \n",
    "    sigma is the interaction range and can be\n",
    "        a scalar for a single interaction or if all interactions have the same epsilon\n",
    "        an array of the length of the array of distance vectors\n",
    "\n",
    "    distance_vector are the instanteneous distances \n",
    "        in d = 1 distance_vector = delta_x\n",
    "        in d>1 distance_vector has to be of the form distance_vector = (delta_x,delta_x) or distance_vector = [delta_x,delta_x]\n",
    "        where delta_x and delta_y can be    \n",
    "            a scalar for a single interaction\n",
    "            an array for several interactions to be evaluated simultaneously\n",
    "\n",
    "    The function returns -24*epsilon*(2*(sigma/r)**(-12)-(sigma/r)**-6) * distance_vector/r**2 \n",
    "        where f has the same format as distance_vector\n",
    "        and r = |distance_vector|\n",
    "    \"\"\"\n",
    "    eps = np.array(epsilon)       \n",
    "    sig = np.array(sigma)       \n",
    "    delta_r = np.array(distance_vector)       # array of scalar(d=1) or vector (d>1) distances\n",
    "    if debug: \n",
    "        print(delta_r)\n",
    "    delta_r_sqr = delta_r**2                              # array of Cartesian components of squared distances\n",
    "    if d > 1:\n",
    "        delta_r_sqr = np.sum(delta_r_sqr,axis=0)         # add up Cartesian components in d>1\n",
    "    relative_inverse_squared_distance = sigma**2/delta_r_sqr\n",
    "    f = 24*epsilon*(2*relative_inverse_squared_distance**6-relative_inverse_squared_distance**3)/delta_r_sqr*delta_r\n",
    "    return f"
   ]
  },
  {
   "cell_type": "code",
   "execution_count": 7,
   "metadata": {
    "scrolled": false
   },
   "outputs": [
    {
     "name": "stdout",
     "output_type": "stream",
     "text": [
      "target value: \n",
      " -2.2116933422230787\n",
      " \n",
      " Single distance 1d \n",
      " -2.2116933422230787\n",
      "Single distance 2d \n",
      " [-2.21169334 -0.        ]\n",
      " \n",
      " Configuration 1d \n",
      " -2.2116933422230787\n",
      "Configuration 2d \n",
      " -2.2116933422230787 -0.0\n",
      " \n",
      " Trajectory 1d \n",
      " -2.2116933422230787\n",
      "Trajectory 2d \n",
      " -2.2116933422230787 -0.0\n",
      " \n",
      " Ensemble of trajectories 1d \n",
      " -2.2116933422230787\n",
      "Ensemble of trajectories 2d \n",
      " -2.2116933422230787 -0.0\n"
     ]
    }
   ],
   "source": [
    "r=2**(1./6)\n",
    "r=1.2\n",
    "print(\"target value: \\n\",24*(2*r**(-12)-r**-6)/r)\n",
    "\n",
    "# single distance\n",
    "x = r\n",
    "y = 0\n",
    "print(\" \\n Single distance 1d \\n\",f_LJ(1,1,1,x))\n",
    "print(\"Single distance 2d \\n\",f_LJ(2,1,1,(x,y)))\n",
    "\n",
    "# a configuration or list of distances \n",
    "x = [x,x,x,x]\n",
    "y = [y,y,y,y]\n",
    "print(\" \\n Configuration 1d \\n\",f_LJ(1,1,1,x)[0])\n",
    "print(\"Configuration 2d \\n\",f_LJ(2,1,1,(x,y))[0,0],f_LJ(2,1,1,(x,y))[1,0])\n",
    "\n",
    "# a trajectory or list of configurations \n",
    "x_tr = np.array([x,x,x])\n",
    "y_tr = np.array([y,y,y])\n",
    "print(\" \\n Trajectory 1d \\n\",f_LJ(1,1,1,x_tr)[0,0])\n",
    "print(\"Trajectory 2d \\n\",f_LJ(2,1,1,(x_tr,y_tr))[0,0,0],f_LJ(2,1,1,(x_tr,y_tr))[1,0,0])\n",
    "\n",
    "# an ensemble or list of trajectories\n",
    "x_tr_ens = np.array([x_tr,x_tr])\n",
    "y_tr_ens = np.array([y_tr,y_tr])\n",
    "print(\" \\n Ensemble of trajectories 1d \\n\",f_LJ(1,1,1,x_tr_ens)[0,0,0])\n",
    "print(\"Ensemble of trajectories 2d \\n\",f_LJ(2,1,1,(x_tr_ens,y_tr_ens))[0,0,0,0],f_LJ(2,1,1,(x_tr_ens,y_tr_ens))[1,0,0,0])\n"
   ]
  },
  {
   "cell_type": "markdown",
   "metadata": {},
   "source": [
    "## Starting state"
   ]
  },
  {
   "cell_type": "markdown",
   "metadata": {},
   "source": [
    "We can no longer initiate our systems with particles placed at random positions (why?). Instead we place them on a regular square grid, i.e. an unstable configuration which does NOT correspond to a metastable crystal lattice."
   ]
  },
  {
   "cell_type": "code",
   "execution_count": 8,
   "metadata": {},
   "outputs": [
    {
     "data": {
      "text/plain": [
       "array([0, 0, 0, 1, 1, 1, 2, 2, 2, 3])"
      ]
     },
     "execution_count": 8,
     "metadata": {},
     "output_type": "execute_result"
    }
   ],
   "source": [
    "np.arange(10)//3"
   ]
  },
  {
   "cell_type": "code",
   "execution_count": 10,
   "metadata": {},
   "outputs": [],
   "source": [
    "def GridPositionsIn2d(xBox,yBox,NParticles,debug=False):\n",
    "    \"\"\"\n",
    "    Returns two arrays of x- and y-positions for NParticles in the interval \n",
    "        xBox = [xmin,xmax) or xBox * [0,1), if xBox is a float or integer\n",
    "        yBox = [xmin,xmax) or xBox * [0,1), if xBox is a float or integer\n",
    "    \"\"\"\n",
    "    n = np.ceil(np.sqrt(NParticles))            # number of particles in a row or column of our square grid\n",
    "    (xmin, xmax, XBox) = MD.BoxDimensions(xBox)\n",
    "    ax = XBox / n\n",
    "    (ymin, ymax, YBox) = MD.BoxDimensions(yBox)\n",
    "    ay = XBox / n\n",
    "    \n",
    "    if debug:\n",
    "        print(\"Lattice constant: \",ax,ay)\n",
    "    \n",
    "    x = MD.FoldIntoBox(xBox,xmin+ax*(np.arange(NParticles)+0.5))\n",
    "    y = ymin+ ay*(np.arange(NParticles)//n+0.5)\n",
    "        \n",
    "    return x,y"
   ]
  },
  {
   "cell_type": "code",
   "execution_count": 11,
   "metadata": {
    "scrolled": false
   },
   "outputs": [
    {
     "data": {
      "image/png": "[encoded data removed]",
      "text/plain": [
       "<Figure size 432x288 with 1 Axes>"
      ]
     },
     "metadata": {
      "needs_background": "light"
     },
     "output_type": "display_data"
    }
   ],
   "source": [
    "NParticles=100\n",
    "LBox = 15\n",
    "x,y = GridPositionsIn2d(LBox,LBox,NParticles)\n",
    "MD.PlotMDConf(x,y,xBox=LBox,yBox=LBox)"
   ]
  },
  {
   "cell_type": "markdown",
   "metadata": {},
   "source": [
    "## Forces and interaction energies as a function of the position of all particles in the system"
   ]
  },
  {
   "cell_type": "markdown",
   "metadata": {},
   "source": [
    "To calculate the total force acting on a particle in a LJ system we need to\n",
    "\n",
    "    1) deal with periodic boundary conditions in calculating particle distances\n",
    "    2) loop over all particle pairs"
   ]
  },
  {
   "cell_type": "markdown",
   "metadata": {},
   "source": [
    "### Minimum image convention"
   ]
  },
  {
   "cell_type": "markdown",
   "metadata": {},
   "source": [
    "We are going to use the familiar periodic boundary conditions. So far, we have only worried about how to \"fold\" the positions of freely moving particles back into the box, i.e. how to locate the appropriate periodic image of the particles we follow in the central/original simulation box. "
   ]
  },
  {
   "cell_type": "code",
   "execution_count": 13,
   "metadata": {},
   "outputs": [
    {
     "data": {
      "text/plain": [
       "Text(0, 0.5, 'folded position')"
      ]
     },
     "execution_count": 13,
     "metadata": {},
     "output_type": "execute_result"
    },
    {
     "data": {
      "image/png": "[encoded data removed]",
      "text/plain": [
       "<Figure size 432x288 with 1 Axes>"
      ]
     },
     "metadata": {
      "needs_background": "light"
     },
     "output_type": "display_data"
    }
   ],
   "source": [
    "test_x = np.linspace(-1.5*LBox,2.5*LBox,400)\n",
    "xmin = -0.5*LBox\n",
    "plt.plot(test_x,MD.FoldIntoBox((xmin,xmin+LBox),test_x))\n",
    "plt.xlabel(\"x position\")\n",
    "plt.ylabel(\"folded position\")"
   ]
  },
  {
   "cell_type": "markdown",
   "metadata": {},
   "source": [
    "Note that our function allowed us to arbitrarily set the absolute position of the simulation box:"
   ]
  },
  {
   "cell_type": "code",
   "execution_count": 14,
   "metadata": {},
   "outputs": [
    {
     "data": {
      "text/plain": [
       "Text(0, 0.5, 'folded position')"
      ]
     },
     "execution_count": 14,
     "metadata": {},
     "output_type": "execute_result"
    },
    {
     "data": {
      "image/png": "[encoded data removed]",
      "text/plain": [
       "<Figure size 432x288 with 1 Axes>"
      ]
     },
     "metadata": {
      "needs_background": "light"
     },
     "output_type": "display_data"
    }
   ],
   "source": [
    "test_x = np.linspace(-1.5*LBox,2.5*LBox,400)\n",
    "offset_steps = 1\n",
    "# quickly look at the result of choosing other (small) integer values!\n",
    "for offset in range(-offset_steps,offset_steps):\n",
    "    xmin = 1.*offset*LBox/offset_steps\n",
    "    plt.plot(test_x,MD.FoldIntoBox((xmin,xmin+LBox),test_x))\n",
    "plt.xlabel(\"x position\")\n",
    "plt.ylabel(\"folded position\")"
   ]
  },
  {
   "cell_type": "markdown",
   "metadata": {},
   "source": [
    "Obviously such a shift has/should have no impact on our results other than allowing us to locate an interesting zone such as an interface in the center of our animations. "
   ]
  },
  {
   "cell_type": "markdown",
   "metadata": {},
   "source": [
    "Now we have to extend the argument to distance vectors between particles with pair interactions, whose spatial range is shorter than one half of the box size. In this case, a particle interacts at most with the one image of a second particle, which is located closest to it in space."
   ]
  },
  {
   "cell_type": "code",
   "execution_count": 15,
   "metadata": {},
   "outputs": [],
   "source": [
    "def MinimumImage(xBox,dx):\n",
    "    (xmin, xmax, LBox) = MD.BoxDimensions(xBox)\n",
    "    return dx - np.rint(dx/LBox)*LBox"
   ]
  },
  {
   "cell_type": "markdown",
   "metadata": {},
   "source": [
    "In particular, the result of this operation has to be independent of whether or not (and if so, with which offset) we fold the particle positions into the box prior to calculating the interparticle distance using the minimum image convention!"
   ]
  },
  {
   "cell_type": "code",
   "execution_count": 16,
   "metadata": {},
   "outputs": [
    {
     "data": {
      "text/plain": [
       "Text(0, 0.5, 'minimum image')"
      ]
     },
     "execution_count": 16,
     "metadata": {},
     "output_type": "execute_result"
    },
    {
     "data": {
      "image/png": "[encoded data removed]",
      "text/plain": [
       "<Figure size 432x288 with 1 Axes>"
      ]
     },
     "metadata": {
      "needs_background": "light"
     },
     "output_type": "display_data"
    }
   ],
   "source": [
    "#assume that particle 1 is located at x=0\n",
    "test_x1 = 0\n",
    "test_x2 = np.linspace(-1.5*LBox,2.5*LBox,400)\n",
    "offset_steps = 3\n",
    "# quickly look at the result of choosing other (small) integer values!\n",
    "for offset in range(-offset_steps,offset_steps):\n",
    "    xmin = 1.*offset*LBox/offset_steps\n",
    "    folded_test_x1 = MD.FoldIntoBox((xmin,xmin+LBox),test_x1)\n",
    "    folded_test_x2 = MD.FoldIntoBox((xmin,xmin+LBox),test_x2)\n",
    "    plt.plot(test_x,MinimumImage((xmin,xmin+LBox),folded_test_x2-folded_test_x1), linestyle=(2*offset, (3,16)))\n",
    "plt.xlabel(\"delta x\")\n",
    "plt.ylabel(\"minimum image\")"
   ]
  },
  {
   "cell_type": "markdown",
   "metadata": {},
   "source": [
    "Make sure that you understand the maximal possible value!"
   ]
  },
  {
   "cell_type": "markdown",
   "metadata": {},
   "source": [
    "### Looping over all pairs of particles"
   ]
  },
  {
   "cell_type": "markdown",
   "metadata": {},
   "source": [
    "#### Naive version"
   ]
  },
  {
   "cell_type": "markdown",
   "metadata": {},
   "source": [
    "In their simplest and numerically most inefficient version we could implement the following functions with a double loop over all particles:\n",
    "\n",
    "    for i in range(NParticles):\n",
    "\n",
    "        for j in range(i):\n",
    "        #avoids double counting\n",
    "    \n",
    "        #pair interaction\n",
    "        calculate delta_r_ij\n",
    "        calculate f_ij = f_LJ(delta_r_ij)\n",
    "        calculate u_ij = U_LJ(delta_r_ij)\n",
    "    \n",
    "        #add to total force acting on the individual particles\n",
    "        f_i += f_ij\n",
    "        f_j -= f_ij    \n",
    "    \n",
    "        #add to total interaction energy of the individual particles\n",
    "        u_i += u_ij\n",
    "        u_j += u_ij\n",
    "    \n",
    "        #note the different signs for adding up f_j and u_j!"
   ]
  },
  {
   "cell_type": "code",
   "execution_count": 17,
   "metadata": {},
   "outputs": [],
   "source": [
    "def LJ_forces_as_a_function_of_positions(d,epsilon,sigma,LBox,r,debug=False):\n",
    "    \"\"\"\n",
    "    returns the LJ force acting on each particle as a function of the positions of all particles\n",
    "    \"\"\"\n",
    "    r = np.array(r)\n",
    "    N = r.shape[-1]\n",
    "    r = r.transpose()    # so that r[0] = [x[0],y[0]]\n",
    "    f = 0*np.copy(r)     # initialise force array with the same shape as position array\n",
    "    \n",
    "    if debug:\n",
    "        print(N)\n",
    "    \n",
    "    for i in range(1,N):\n",
    "\n",
    "        for j in range(i):\n",
    "        #avoids double counting\n",
    "    \n",
    "            #pair interaction\n",
    "            delta_r_ij = MinimumImage(LBox,r[i]-r[j])\n",
    "            f_ij = f_LJ(d,epsilon,sigma,delta_r_ij)\n",
    "    \n",
    "            #add to total force acting on the individual particles\n",
    "            f[i] += f_ij\n",
    "            f[j] -= f_ij    \n",
    "        \n",
    "            #note the different signs for adding up f_j and u_j!    \n",
    "            \n",
    "    return f.transpose()  # return [fx,fy]"
   ]
  },
  {
   "cell_type": "code",
   "execution_count": 18,
   "metadata": {},
   "outputs": [],
   "source": [
    "def LJ_energies_as_a_function_of_positions(d,epsilon,sigma,LBox,r,debug=False):\n",
    "    \"\"\"\n",
    "    returns the LJ interaction energy for each particle as a function of the positions of all particles\n",
    "    \"\"\"\n",
    "    r = np.array(r)\n",
    "    if d==1:\n",
    "        u = 0*np.copy(r)     # initialise energy array with the same shape as the d=1 position array\n",
    "    else:\n",
    "        u = 0*np.copy(r[0])  # initialise energy array with the same shape as the first Cartesian component\n",
    "                             # of the position array\n",
    "    N = r.shape[-1]\n",
    "    r = r.transpose()        # so that r[0] = [x[0],y[0]]\n",
    "    \n",
    "    if debug:\n",
    "        print(N)\n",
    "    \n",
    "    for i in range(1,N):\n",
    "\n",
    "        for j in range(i):\n",
    "        #avoids double counting\n",
    "    \n",
    "            #pair interaction\n",
    "            delta_r_ij = MinimumImage(LBox,r[i]-r[j])\n",
    "            u_ij = U_LJ(d,epsilon,sigma,delta_r_ij)\n",
    "    \n",
    "            #add to total interaction energy of the individual particles\n",
    "            u[i] += u_ij/2\n",
    "            u[j] += u_ij/2    \n",
    "        \n",
    "            #note the factor of 1/2 and the different signs for adding up f_j and u_j!    \n",
    "            \n",
    "    return u  \n",
    "\n",
    "\n",
    "def LJ_energy_as_a_function_of_positions(d,epsilon,sigma,LBox,r):\n",
    "    \"\"\"\n",
    "    returns the total LJ interaction energy as a function of the positions of all particles\n",
    "    \"\"\"\n",
    "    return np.sum(LJ_energies_as_a_function_of_positions(d,epsilon,sigma,LBox,r))"
   ]
  },
  {
   "cell_type": "markdown",
   "metadata": {},
   "source": [
    "We will write faster code below, so let's quickly measure how long it takes to calculate the forces with the present routines:"
   ]
  },
  {
   "cell_type": "code",
   "execution_count": 19,
   "metadata": {},
   "outputs": [
    {
     "name": "stdout",
     "output_type": "stream",
     "text": [
      "Execution time:  105.86411603999977\n"
     ]
    }
   ],
   "source": [
    "NParticles=900\n",
    "# net forces around missing particle\n",
    "LBox = 80\n",
    "x,y = GridPositionsIn2d(LBox,LBox,NParticles)\n",
    "\n",
    "# to measure the computer time needed to calculate the ensemble of trajectory\n",
    "initialWallTime = time.perf_counter()\n",
    "\n",
    "for i in range(10):\n",
    "    fx,fy = LJ_forces_as_a_function_of_positions(2,1.,1.,LBox,(x,y))\n",
    "\n",
    "print(\"Execution time: \",time.perf_counter() - initialWallTime)"
   ]
  },
  {
   "cell_type": "markdown",
   "metadata": {},
   "source": [
    "### Your turn: vary the number of particles and the density and explore the effect on the LJ energy and forces"
   ]
  },
  {
   "cell_type": "markdown",
   "metadata": {},
   "source": [
    "If a completely filled lattice, the interparticle forces add up to zero by symmetry and construction.\n",
    "\n",
    "It is nevertheless instructive to calculate the interaction energy for box sizes where the lattice constant is close to the minimum a = 2**(1/6) sigma of the LJ potential."
   ]
  },
  {
   "cell_type": "code",
   "execution_count": 20,
   "metadata": {},
   "outputs": [
    {
     "name": "stdout",
     "output_type": "stream",
     "text": [
      "Total energy:  -188.30821062850688\n"
     ]
    },
    {
     "data": {
      "image/png": "[encoded data removed]",
      "text/plain": [
       "<Figure size 432x288 with 2 Axes>"
      ]
     },
     "metadata": {
      "needs_background": "light"
     },
     "output_type": "display_data"
    }
   ],
   "source": [
    "NParticles=100\n",
    "# net forces around missing particle\n",
    "LBox = 12.5\n",
    "x,y = GridPositionsIn2d(LBox,LBox,NParticles)\n",
    "fx,fy = LJ_forces_as_a_function_of_positions(2,1.,1.,LBox,(x,y))\n",
    "u = LJ_energies_as_a_function_of_positions(2,1.,1.,LBox,(x,y))\n",
    "print(\"Total energy: \",np.sum(u))\n",
    "MD.PlotMDConfWithAssociated2dVectors(x,y,fx,fy,xBox=(-LBox/2,LBox/2),xpbc=True,yBox=(-LBox/2,LBox/2),ypbc=True,c=u)"
   ]
  },
  {
   "cell_type": "markdown",
   "metadata": {},
   "source": [
    "It is more interesting to analyse the forces in the case of a missing atom. \n",
    "\n",
    "Look at the result fo the same range of box sizes  and make sure, that we have not mixed up the sign of the calculated forces!"
   ]
  },
  {
   "cell_type": "code",
   "execution_count": 21,
   "metadata": {
    "scrolled": false
   },
   "outputs": [
    {
     "name": "stdout",
     "output_type": "stream",
     "text": [
      "Total energy:  -261.4370327504585\n"
     ]
    },
    {
     "data": {
      "image/png": "[encoded data removed]",
      "text/plain": [
       "<Figure size 432x288 with 2 Axes>"
      ]
     },
     "metadata": {
      "needs_background": "light"
     },
     "output_type": "display_data"
    }
   ],
   "source": [
    "NParticles=99\n",
    "# net forces around missing particle\n",
    "LBox = 11.\n",
    "x,y = GridPositionsIn2d(LBox,LBox,NParticles)\n",
    "fx,fy = LJ_forces_as_a_function_of_positions(2,1.,1.,LBox,(x,y))\n",
    "u = LJ_energies_as_a_function_of_positions(2,1.,1.,LBox,(x,y))\n",
    "print(\"Total energy: \",np.sum(u))\n",
    "MD.PlotMDConfWithAssociated2dVectors(x,y,fx,fy,xBox=(-LBox/2,LBox/2),xpbc=True,yBox=(-LBox/2,LBox/2),ypbc=True,c=u)"
   ]
  },
  {
   "cell_type": "markdown",
   "metadata": {},
   "source": [
    "### Faster versions of the force and energy routines using NumPy arrays"
   ]
  },
  {
   "cell_type": "markdown",
   "metadata": {},
   "source": [
    "We can obtain much faster code uing NumPy ability to perform rapid calculations with arrays. "
   ]
  },
  {
   "cell_type": "code",
   "execution_count": 22,
   "metadata": {},
   "outputs": [
    {
     "name": "stdout",
     "output_type": "stream",
     "text": [
      "[[0 3]\n",
      " [1 0]\n",
      " [2 1]\n",
      " [3 2]]\n",
      "[[0 2]\n",
      " [1 3]\n",
      " [2 0]\n",
      " [3 1]]\n",
      "[[0 1]\n",
      " [1 2]\n",
      " [2 3]\n",
      " [3 0]]\n"
     ]
    }
   ],
   "source": [
    "N=4\n",
    "indices = np.arange(0,N)\n",
    "for k in range(1,N):\n",
    "    print(np.array([indices,np.roll(indices,k)]).transpose())"
   ]
  },
  {
   "cell_type": "code",
   "execution_count": 23,
   "metadata": {},
   "outputs": [],
   "source": [
    "def LJ_forces_as_a_function_of_positions(d,epsilon,sigma,LBox,r,debug=False):\n",
    "    \"\"\"\n",
    "    returns the LJ force acting on each particle as a function of the positions of all particles\n",
    "    \"\"\"\n",
    "    r = np.array(r)\n",
    "    N = r.shape[-1]\n",
    "    f = 0*np.copy(r) #initialise force array with the same shape as position array\n",
    "    \n",
    "    if debug:\n",
    "        print(N)\n",
    "    \n",
    "    for k in range(1,N):\n",
    "        delta_r_pair = MinimumImage(LBox,r-np.roll(r,k,axis=-1))\n",
    "        fpair = f_LJ(d,epsilon,sigma,delta_r_pair)\n",
    "        f += fpair\n",
    "        f -= np.roll(fpair,-k,axis=-1)\n",
    "    return f/2"
   ]
  },
  {
   "cell_type": "code",
   "execution_count": 24,
   "metadata": {},
   "outputs": [],
   "source": [
    "def LJ_energies_as_a_function_of_positions(d,epsilon,sigma,LBox,r,debug=False):\n",
    "    \"\"\"\n",
    "    returns the LJ interaction energy for each particle as a function of the positions of all particles\n",
    "    \"\"\"\n",
    "    r = np.array(r)\n",
    "    if d==1:\n",
    "        u = 0*np.copy(r)     # initialise energy array with the same shape as the d=1 position array\n",
    "    else:\n",
    "        u = 0*np.copy(r[0])  # initialise energy array with the same shape as the first Cartesian component\n",
    "                             # of the position array\n",
    "    N = r.shape[-1]\n",
    "    \n",
    "    if(debug):\n",
    "        print(N,NParticles,epsilon,sigma)\n",
    "    \n",
    "    for k in range(1,N):\n",
    "        delta_r_pair = MinimumImage(LBox,r-np.roll(r,k,axis=-1))\n",
    "        upair = U_LJ(d,epsilon,sigma,delta_r_pair)\n",
    "        u += upair/2\n",
    "        u += np.roll(upair,-k,axis=-1)/2\n",
    "    return u/2\n",
    "\n",
    "def LJ_energy_as_a_function_of_positions(d,epsilon,sigma,LBox,r):\n",
    "    \"\"\"\n",
    "    returns the total LJ interaction energy as a function of the positions of all particles\n",
    "    \"\"\"\n",
    "    return np.sum(LJ_energies_as_a_function_of_positions(d,epsilon,sigma,LBox,r),axis=-1)"
   ]
  },
  {
   "cell_type": "markdown",
   "metadata": {},
   "source": [
    "Let's first check, that we obtain the same results as before!"
   ]
  },
  {
   "cell_type": "code",
   "execution_count": 25,
   "metadata": {
    "scrolled": true
   },
   "outputs": [
    {
     "name": "stdout",
     "output_type": "stream",
     "text": [
      "99\n",
      "Total energy:  -261.4370327504583\n",
      "Total energy:  -261.4370327504583\n"
     ]
    },
    {
     "data": {
      "image/png": "[encoded data removed]",
      "text/plain": [
       "<Figure size 432x288 with 2 Axes>"
      ]
     },
     "metadata": {
      "needs_background": "light"
     },
     "output_type": "display_data"
    }
   ],
   "source": [
    "NParticles=99\n",
    "# net forces around missing particle\n",
    "LBox = 11\n",
    "x,y = GridPositionsIn2d(LBox,LBox,NParticles)\n",
    "fx,fy = LJ_forces_as_a_function_of_positions(2,1.,1.,LBox,(x,y),debug=True)\n",
    "u = LJ_energies_as_a_function_of_positions(2,1.,1.,LBox,(x,y))\n",
    "print(\"Total energy: \",np.sum(u))\n",
    "print(\"Total energy: \",LJ_energy_as_a_function_of_positions(2,1.,1.,LBox,(x,y)))\n",
    "MD.PlotMDConfWithAssociated2dVectors(x,y,fx,fy,xBox=(-LBox/2,LBox/2),xpbc=True,yBox=(-LBox/2,LBox/2),ypbc=True,c=u)"
   ]
  },
  {
   "cell_type": "markdown",
   "metadata": {},
   "source": [
    "This being so we can compare the numerical performance:"
   ]
  },
  {
   "cell_type": "code",
   "execution_count": 26,
   "metadata": {},
   "outputs": [
    {
     "name": "stdout",
     "output_type": "stream",
     "text": [
      "Execution time:  1.089165591999972\n"
     ]
    }
   ],
   "source": [
    "NParticles=900\n",
    "LBox = 80\n",
    "x,y = GridPositionsIn2d(LBox,LBox,NParticles)\n",
    "\n",
    "# to measure the computer time needed to calculate the ensemble of trajectory\n",
    "initialWallTime = time.perf_counter()\n",
    "\n",
    "for i in range(10):\n",
    "    fx,fy = LJ_forces_as_a_function_of_positions(2,1.,1.,LBox,(x,y))\n",
    "\n",
    "print(\"Execution time: \",time.perf_counter() - initialWallTime)"
   ]
  },
  {
   "cell_type": "markdown",
   "metadata": {},
   "source": [
    "Almost 100 times faster for 900 particles. And the more, for larger the systems!"
   ]
  },
  {
   "cell_type": "markdown",
   "metadata": {},
   "source": [
    "And as an added benefit these functions can be directly applied to trajectories or ensembles of trajectories"
   ]
  },
  {
   "cell_type": "code",
   "execution_count": 27,
   "metadata": {},
   "outputs": [
    {
     "name": "stdout",
     "output_type": "stream",
     "text": [
      "Force on particle 0:  0.6603662003178024 0.6603662003178495\n",
      "Total energy:  -261.4370327504583\n",
      "\n",
      " Force on particle 0:  0.6603662003178024 0.6603662003178495\n",
      "Total energy:  [-261.43703275 -261.43703275 -261.43703275]\n",
      "\n",
      " Force on particle 0:  0.6603662003178024 0.6603662003178495\n",
      "Total energy:  [[-261.43703275 -261.43703275 -261.43703275]\n",
      " [-261.43703275 -261.43703275 -261.43703275]]\n"
     ]
    }
   ],
   "source": [
    "NParticles=99\n",
    "# net forces around missing particle\n",
    "LBox = 11\n",
    "\n",
    "# a single configuration\n",
    "x,y = GridPositionsIn2d(LBox,LBox,NParticles)\n",
    "(fx,fy)=LJ_forces_as_a_function_of_positions(2,1.,1.,LBox,(x,y))\n",
    "print(\"Force on particle 0: \",fx[0],fy[0])\n",
    "print(\"Total energy: \",LJ_energy_as_a_function_of_positions(2,1.,1.,LBox,(x,y)))\n",
    "\n",
    "# trajectory: list of list of distances \n",
    "x_tr = np.array([x,x,x])\n",
    "y_tr = np.array([y,y,y])\n",
    "(fx_tr,fy_tr)=LJ_forces_as_a_function_of_positions(2,1.,1.,LBox,(x_tr,y_tr))\n",
    "print(\"\\n Force on particle 0: \",fx_tr[0,0],fy_tr[0,0])\n",
    "print(\"Total energy: \",LJ_energy_as_a_function_of_positions(2,1.,1.,LBox,(x_tr,y_tr)))\n",
    "\n",
    "# ensemble of trajectories\n",
    "x_tr_ens = np.array([x_tr,x_tr])\n",
    "y_tr_ens = np.array([y_tr,y_tr])\n",
    "(fx_tr_ens,fy_tr_ens)=LJ_forces_as_a_function_of_positions(2,1.,1.,LBox,(x_tr_ens,y_tr_ens))\n",
    "print(\"\\n Force on particle 0: \",fx_tr_ens[0,0,0],fy_tr_ens[0,0,0])\n",
    "print(\"Total energy: \",LJ_energy_as_a_function_of_positions(2,1.,1.,LBox,(x_tr_ens,y_tr_ens)))\n"
   ]
  }
 ],
 "metadata": {
  "kernelspec": {
   "display_name": "Python 3",
   "language": "python",
   "name": "python3"
  },
  "language_info": {
   "codemirror_mode": {
    "name": "ipython",
    "version": 3
   },
   "file_extension": ".py",
   "mimetype": "text/x-python",
   "name": "python",
   "nbconvert_exporter": "python",
   "pygments_lexer": "ipython3",
   "version": "3.8.12"
  }
 },
 "nbformat": 4,
 "nbformat_minor": 2
}
