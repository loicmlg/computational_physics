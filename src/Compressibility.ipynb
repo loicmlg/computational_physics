{
 "cells": [
  {
   "cell_type": "markdown",
   "metadata": {},
   "source": [
    "# Compressibility from Molecular Dynamics Simulations of Lennard-Jones systems\n",
    "\n",
    "Ralf Everaers, ENS Lyon (2022)"
   ]
  },
  {
   "cell_type": "markdown",
   "metadata": {},
   "source": [
    "The compressibility can be inferred from fluctuations of the virial pressure:\n",
    "\n",
    "\\begin{equation}\n",
    "\\langle \\delta {\\cal P}^2 \\rangle_{NVT} = \\frac{k_BT}{V} \\left( \\frac{2 N k_BT}{d V} +  \\langle {\\cal P} \\rangle_{NVT} -\\beta_T^{-1}  + \\frac1V \\langle {\\cal X} \\rangle_{NVT} \\right)\n",
    "\\end{equation}\n",
    "\n",
    "where\n",
    "\\begin{equation}\n",
    "{\\cal P} \n",
    "= \\frac1{d V} \\left[ \\sum_i m_i \\left|\\vec v_i \\right|^2 \n",
    "                    + \\sum_{i<j} \\vec f_{ij}\\cdot\\vec r_{ij} \\right]\n",
    "\\end{equation}"
   ]
  },
  {
   "cell_type": "markdown",
   "metadata": {},
   "source": [
    "Alternatively one can define the pressure as\n",
    "\\begin{equation}\n",
    "{\\cal P'} \n",
    "= \\rho k_BT + \\frac1{d V} \\left[  \\sum_{i<j} \\vec f_{ij}\\cdot\\vec r_{ij} \\right]\n",
    "= \\rho k_BT + \\frac1{V} \\langle {\\cal W} \\rangle\n",
    "\\end{equation}\n",
    "\n",
    "In this case \n",
    "\n",
    "\\begin{equation}\n",
    "\\langle \\delta {\\cal P'}^2 \\rangle_{NVT} = \\frac{k_BT}{V} \\left( \\langle {\\cal P'} \\rangle_{NVT} -\\beta_T^{-1}  + \\frac1V \\langle {\\cal X} \\rangle_{NVT} \\right)\n",
    "\\end{equation}\n",
    "\n",
    "\n",
    "Reference:\n",
    "\n",
    "    M. Allen and D. Tildesley, Computer Simulations of Liquids, 2nd Edition, Oxford (2017), pp. 60-69"
   ]
  },
  {
   "cell_type": "code",
   "execution_count": 5,
   "metadata": {},
   "outputs": [],
   "source": [
    "# Import standard libraries\n",
    "import numpy as np\n",
    "from scipy.special import gamma\n",
    "import matplotlib.pyplot as plt\n",
    "from matplotlib import animation, cm, colors, rc\n",
    "import random\n",
    "import time\n",
    "from imp import reload\n",
    "rc('animation', html='html5')\n",
    "\n",
    "# Import library of our own functions\n",
    "import MPCMolecularDynamics as MD\n",
    "reload(MD)\n",
    "\n",
    "#Include plots into notebook instead of plotting them in extra window\n",
    "%matplotlib inline "
   ]
  },
  {
   "cell_type": "markdown",
   "metadata": {},
   "source": [
    "## A routine for generating or extending individual NVT-MD trajectories for a LJ systems"
   ]
  },
  {
   "cell_type": "code",
   "execution_count": 3,
   "metadata": {},
   "outputs": [],
   "source": [
    "def Generate_LJ_NVT_MolecularDynamics_Trajectory(d,m,LBox,kT,run_time,\n",
    "                                                 starting_configuration=[],\n",
    "                                                 time_step = 0.01,\n",
    "                                                 number_of_time_steps_between_stored_configurations=100,\n",
    "                                                 number_of_time_steps_between_velocity_resets=100,\n",
    "                                                 debug=False):\n",
    "    \"\"\"\n",
    "    generates a NVT MD simulations of a LJ system with sigma=epsilon=1  \n",
    "        - where the particle masses are specified in the array m\n",
    "        - so that NParticles = m.size\n",
    "        - in a volume V=(LBox,LBox) at a specified temperature kT\n",
    "        - with a time step of time_step tau \n",
    "          where the LJ unit of time is calculated as a function of m[-1], i.e. the mass of the LAST particle\n",
    "        - runs are either started from \n",
    "                a specified starting configuration [t,x,y,vx,vy] or\n",
    "                initialized with zero velocities and particles placed on a square grid\n",
    "        - the simulations are thermostated by redrawing random velocities from the \n",
    "          Maxwell-Boltzmann distribution number_of_time_steps_between_velocity_resets time steps\n",
    "        - the function returns \n",
    "                trajectory lists t_tr, x_tr, y_tr, vx_tr, vy_tr, uPot_tr, uKin_tr, pPot_tr, pKin_tr \n",
    "                     of sampling times and sampled coordinates, velocities and energies and pressures\n",
    "                a final configuration [t,x,y,vx,vy] from which the run can be restarted\n",
    "                while the energies and pressures are recorded at every time step, configurations \n",
    "                     and velocities are stored at a time interval of time_between_stored_configurations\n",
    "                    \n",
    "    \"\"\"\n",
    "\n",
    "    NParticles = m.size\n",
    "    sigma = 1\n",
    "    epsilon = 1\n",
    "    #unit of time\n",
    "    tau = sigma*np.sqrt(m[-1]/epsilon)      \n",
    "\n",
    "    # define the length of the trajectory\n",
    "    number_of_timesteps = int(np.round(run_time/time_step))\n",
    "\n",
    "    #starting configuration\n",
    "    if starting_configuration!=[]:\n",
    "        [t,x,y,vx,vy] = starting_configuration\n",
    "    else:\n",
    "        # default initial state\n",
    "        x,y = MD.GridPositionsIn2d(LBox,LBox,NParticles)\n",
    "        vx = MD.RandomVelocities(m,kT)\n",
    "        vy = MD.RandomVelocities(m,kT)\n",
    "        t = 0\n",
    "        if debug:\n",
    "            print(\"No starting configuration\")\n",
    "\n",
    "    #initialize Trajectory\n",
    "    t_tr = []\n",
    "    x_tr = []\n",
    "    vx_tr = []\n",
    "    y_tr = []\n",
    "    vy_tr = []\n",
    "\n",
    "    fx,fy = MD.LJ_forces_as_a_function_of_positions(d,epsilon,sigma,LBox,(x,y))\n",
    "    # force for initial configuration needed for first time step\n",
    "\n",
    "    for timestep in range(number_of_timesteps):\n",
    "        (x,y),(vx,vy) = MD.VelocityVerletTimeStepPartOne(m,(x,y),(vx,vy),(fx,fy),time_step)\n",
    "        fx,fy = MD.LJ_forces_as_a_function_of_positions(2,epsilon,sigma,LBox,(x,y))\n",
    "        (x,y),(vx,vy) = MD.VelocityVerletTimeStepPartTwo(m,(x,y),(vx,vy),(fx,fy),time_step)\n",
    "        t += time_step\n",
    "        \n",
    "        t_tr.append(t)\n",
    "        x_tr.append(x)\n",
    "        vx_tr.append(vx)\n",
    "        y_tr.append(y)\n",
    "        vy_tr.append(vy)\n",
    "    \n",
    "        # thermostat: reinitialise velocities to control temperature\n",
    "#        if np.mod( timestep*time_step, time_between_velocity_resets ) == 0.0 and timestep>1:\n",
    "        if timestep%number_of_time_steps_between_velocity_resets == 0 and timestep>1:\n",
    "            vx = MD.RandomVelocities(m,kT)\n",
    "            vy = MD.RandomVelocities(m,kT)\n",
    "\n",
    "    # convert trajectory lists to arrays to simplify the data analysis\n",
    "    t_tr = np.array(t_tr)\n",
    "    x_tr = np.array(x_tr)\n",
    "    vx_tr = np.array(vx_tr)\n",
    "    y_tr = np.array(y_tr)\n",
    "    vy_tr = np.array(vy_tr)\n",
    "\n",
    "    # analyse results \n",
    "    uPot_tr = MD.LJ_energy_as_a_function_of_positions(d,epsilon,sigma,LBox,(x_tr,y_tr))\n",
    "    uKin_tr = MD.TotalKineticEnergy(m,vx_tr) + MD.TotalKineticEnergy(m,vy_tr)\n",
    "    pPot_tr = MD.LJ_virial_pressure_as_a_function_of_positions(d,epsilon,sigma,LBox,(x_tr,y_tr)) \n",
    "    pKin_tr = MD.KineticPressure_as_a_function_of_velocities(d,LBox,m,(vx_tr,vy_tr))\n",
    "    pHyper_tr = MD.LJ_hyper_virial_as_a_function_of_positions(d,epsilon,sigma,LBox,(x_tr,y_tr)) \n",
    "    \n",
    "    # reduce the number of stored configurations and velocities\n",
    "#    skip = int(time_between_stored_configurations / delta_t)\n",
    "    skip = number_of_time_steps_between_stored_configurations\n",
    "    x_tr = x_tr[::skip]\n",
    "    y_tr = y_tr[::skip]\n",
    "    vx_tr = vx_tr[::skip]\n",
    "    vy_tr = vy_tr[::skip]    \n",
    "    # note that t_tr is not compressed as it contains the times corresponding to the stored energies and pressures\n",
    "    # as a consequence a corresponding skipping operation needs to be performed, when configurations are plotted \n",
    "    # as a function of time\n",
    "    \n",
    "    return t_tr, x_tr, y_tr, vx_tr, vy_tr, uPot_tr, uKin_tr, pPot_tr, pKin_tr, pHyper_tr, [t,x,y,vx,vy]"
   ]
  },
  {
   "cell_type": "markdown",
   "metadata": {},
   "source": [
    "## A first trajectory for a 2d LJ system"
   ]
  },
  {
   "cell_type": "code",
   "execution_count": 20,
   "metadata": {},
   "outputs": [
    {
     "name": "stdout",
     "output_type": "stream",
     "text": [
      "LBox =  11.313708499\n",
      "Execution time:  58.14187620813027\n"
     ]
    }
   ],
   "source": [
    "# define system\n",
    "d=2\n",
    "NParticles=64\n",
    "kT = 0.4\n",
    "m = np.ones(NParticles)\n",
    "\n",
    "# Lennard-Jones\n",
    "sigma = 1\n",
    "epsilon = 1\n",
    "tau = sigma*np.sqrt(m[0]/epsilon) #unit of time     \n",
    "\n",
    "# choose density\n",
    "rho = 0.5/sigma**d\n",
    "LBox = np.power(NParticles/rho,1./d)\n",
    "print(\"LBox = \",LBox)\n",
    "\n",
    "# define the length of the trajectory\n",
    "run_time = 200. * tau\n",
    "\n",
    "# generate trajectories and measure execution time\n",
    "initialWallTime = time.perf_counter()\n",
    "\n",
    "( t_tr, x_tr, y_tr, vx_tr, vy_tr, uPot_tr, uKin_tr, pPot_tr, pKin_tr, pHyper_tr, [t,x,y,vx,vy] \n",
    ") = Generate_LJ_NVT_MolecularDynamics_Trajectory(d,m,LBox,kT,run_time)\n",
    "\n",
    "print(\"Execution time: \",time.perf_counter() - initialWallTime)"
   ]
  },
  {
   "cell_type": "code",
   "execution_count": 7,
   "metadata": {},
   "outputs": [
    {
     "data": {
      "image/png": "[encoded data removed]",
      "text/plain": [
       "<Figure size 432x288 with 1 Axes>"
      ]
     },
     "metadata": {
      "needs_background": "light"
     },
     "output_type": "display_data"
    }
   ],
   "source": [
    "ax = plt.axes()\n",
    "MD.AddParticleTraces(ax,x_tr,y_tr,range(NParticles))\n",
    "ax.set_xlabel(\"x\")\n",
    "ax.set_ylabel(\"y\")\n",
    "ax.set_aspect(1)\n",
    "plt.show()"
   ]
  },
  {
   "cell_type": "code",
   "execution_count": 8,
   "metadata": {
    "scrolled": false
   },
   "outputs": [
    {
     "data": {
      "text/html": [
       "<video width=\"432\" height=\"288\" controls autoplay loop>\n",
       "  <source type=\"video/mp4\" src=\"data:video/mp4;base64,AAAAHGZ0eXBNNFYgAAACAGlzb21pc28yYXZjMQAAAAhmcmVlAAArXm1kYXQAAAKgBgX//5zcRem9\n",
       "5tlIt5Ys2CDZI+7veDI2NCAtIGNvcmUgMTQ4IC0gSC4yNjQvTVBFRy00IEFWQyBjb2RlYyAtIENv\n",
       "cHlsZWZ0IDIwMDMtMjAxNiAtIGh0dHA6Ly93d3cudmlkZW9sYW4ub3JnL3gyNjQuaHRtbCAtIG9w\n",
       "dGlvbnM6IGNhYmFjPTEgcmVmPTMgZGVibG9jaz0xOjA6MCBhbmFseXNlPTB4MzoweDExMyBtZT1o\n",
       "ZXggc3VibWU9NyBwc3k9MSBwc3lfcmQ9MS4wMDowLjAwIG1peGVkX3JlZj0xIG1lX3JhbmdlPTE2\n",
       "IGNocm9tYV9tZT0xIHRyZWxsaXM9MSA4eDhkY3Q9MSBjcW09MCBkZWFkem9uZT0yMSwxMSBmYXN0\n",
       "X3Bza2lwPTEgY2hyb21hX3FwX29mZnNldD0tMiB0aHJlYWRzPTkgbG9va2FoZWFkX3RocmVhZHM9\n",
       "MSBzbGljZWRfdGhyZWFkcz0wIG5yPTAgZGVjaW1hdGU9MSBpbnRlcmxhY2VkPTAgYmx1cmF5X2Nv\n",
       "bXBhdD0wIGNvbnN0cmFpbmVkX2ludHJhPTAgYmZyYW1lcz0zIGJfcHlyYW1pZD0yIGJfYWRhcHQ9\n",
       "MSBiX2JpYXM9MCBkaXJlY3Q9MSB3ZWlnaHRiPTEgb3Blbl9nb3A9MCB3ZWlnaHRwPTIga2V5aW50\n",
       "PTI1MCBrZXlpbnRfbWluPTEwIHNjZW5lY3V0PTQwIGludHJhX3JlZnJlc2g9MCByY19sb29rYWhl\n",
       "YWQ9NDAgcmM9Y3JmIG1idHJlZT0xIGNyZj0yMy4wIHFjb21wPTAuNjAgcXBtaW49MCBxcG1heD02\n",
       "OSBxcHN0ZXA9NCBpcF9yYXRpbz0xLjQwIGFxPTE6MS4wMACAAAANFGWIhAAQ//73gb8yy18iuslx\n",
       "+ed9LKzPPOQ8cl2JrrjQAAADAAzdiJ7g8K10VF/X9kxOrUALQTeUstwPXekLgGX89PS1fVgqocMY\n",
       "3o5mIhHPmXyJ9xbxwUhd9Odr4o7wcp6e7YQMG+AETTYxPHEawOE81SEkEvSEReoHO9YD0LiiZP2M\n",
       "xpzqfGw8VHzLgnRe2Tdh2qdz2rMMQ4pYz8CcZ+r6+Mc1jlcdMl39IzegGJLt6O8vCZDnDKAhpWJj\n",
       "DWVB/SHRBSkL7RvJT5wn1LQirdwJxFKIFnr3dsOKUTWeJpTZcwp32aJhkGp62XGM7xaS/DX+bd7Z\n",
       "ChPtX9mO/F/vTPWhxaJSgekvHEAFGqWzfuaHDXwF/4ls4G9GZfAw+/OiSQz8DlPyDO+TiR+o69Wn\n",
       "i672FcTcQSAC0Xd0DHyNVslqt/zfAIHTWXv5UrGTudiX21oZWtaKp8P10KSWFlUTN5w2tRRjgjJB\n",
       "nNt3y3xou+ucW//Jmn9UEpvVxNNIS3udDSm7QmfO619DEJbqx6FO8kD+gxA37MyWBKtQR8CPOA+P\n",
       "1DxxBktlxXqq5SoBqbc3AWinNTSEc9jHJaTmiGbVqJkFXo5YNaNNfo+HqB3AFl6EudnhbAh99mBU\n",
       "Xks6LS669ftvkXWyXOVHs706oH58pT3unVf9Rm65h6qSSwjEb44CEsloP/u6TzBFpIPEM4Crv67g\n",
       "/uljd3W8oi8FtB6BY6FWxPm3ePaLYTxvTLqSeX8QfIHY+p7YURJZj91EKpR+Y5V540ecYnpU3TqB\n",
       "Ta/OuFeOu9bhTbV8skp5JeplRsDCsVnaA7CaBLmKqOa5mmQNQH2gW9idwLAEzO1o/RM/BS7vYONJ\n",
       "KGR67VdLrxbcpfsmEJNL63yWvB9q55q/hhXezoIDh1XgaqJTetzDou8srZWH8Bj3onhkIZGwFyiB\n",
       "dKiBvJtQbHCBF0e5/lEU5wQrktzNdTbc+HS3Xqe0habR/yXGUiqD+tXX2TL7ndut9lzhb3pfYMhX\n",
       "t69KMkyfYfjT2pav/HaoneMwRL+Tii/PJeFHxAVGce/Rao63fhNYwC6VKl6NS5EhZGOc+smSTvNN\n",
       "5fmsY8j+voBD48GQPEm6lOEQkvaueAspdshDJu73jov5ynVX5lhIDRHwkyeHFBTW/6H6UZP1fuaU\n",
       "OXRUqt8n9HoYs+9BT9A0MMbRIxhv5/bQ5WWeqtyYhB48LwIHrY21QpJ8g5oDnu6QPz2XpuTCxkdE\n",
       "jniJb6AIkcfayGmx018MyDOG8YbPgPxSLLIq0ZX0poqTiK3oSxHT+k4KAIOimuzFUsgAAwCgotzc\n",
       "pTYC6p6gHNyhInhxtULvtoaMEixCdW372udguGD7DCqSzoBERWOLQtorcUl2+E/aLMo1H1IA7wqp\n",
       "Luka+27fJRMcZ5b0siU6mw52otUMv5ce0biXNlOb4RzBQvsQryGcGRFBcCFcfrFO23dCQO80iI1e\n",
       "oWojP+v3+wUQI5XdaJP+opR41/uyHYAJC2Zt96rWav36cUYOHtz9JRYH9Puu92BwRHZdYhQse5xI\n",
       "B83ZlLkSFID4JQv/PMv0Cl+EKgAH7+1zOwNKZY6/Id4foI2tMXSKAD4ji1TW4Xg3xMStflebbhcA\n",
       "Wifetdq7dkgpDxRfe4qw2VdhQa2F47Bd3Tq7pjQk0pV2FcgzRxDsyVHqoghGFNYjKBavlKbTIdIs\n",
       "31ZIY/5WLwc52o/nzWa8eA8AAE3WfTzCG8hUfcnjDoFStzQcPO52AB442a8/QkwKE2BhAQ/ZBebA\n",
       "Xj6tgUDeKY6GfLJzAq1LieG1cge4wTfJ4JaBgVP54wWJPk5j6ZgsiEYDDhNQD4l/QJYYX99V5keu\n",
       "/oiDY6Xl4K2jeM+9CWiwgSbITGNzHJuJtiSeqnYtHBPkqmFMDeG2AhGnI7V/BdnHltLv28/HPSaL\n",
       "8hT/8kIW9XeSzbdOh2H+QvNPwSS5AWs9uSJ6DpE+KnMorKzPzPqOB/J+bWuqjDIHwD0mHhpDCJp4\n",
       "+0pX70TbAJofdYmOzE4boPvThEWX+LENmj1Wh2eZl7xJZVTGlE+5ibPxHS8sPpoxwYqxArv2psh2\n",
       "6KJYdrfw5HL9wXu6LkZyfoZ3wIswKtRHAOYf+Hg/xNqDUvTpF4CC2Ke9GnVvDh860kvkED58Ald0\n",
       "Ab1g6A+XJFLVsvhsmZkq1QABRTc/+1t6YSBJH1hPLBRT/m+1DEnfbpTa2GNfqreEtEFN8a5AjPmj\n",
       "YNTOYi/JHpiWPBNwPCCxN+cxHa4BGYxhKI10CtcunjYQsN+yb+6ZC/kataRy+MmD9onIaLV51oVt\n",
       "3lnGe9pEZVTfWoieqJZqa8ihaGFu7wpnJ0spQq7Tgc4ejGrIsln29fUzSZdFzJKdqLLvDrdJgM3b\n",
       "ykw+xTe9QBUuA3vC0tnIklXThlkse/LJ7ze7XQfflnDmn2xzxZvManYzoyrsKPHxw/IUVbkYrR36\n",
       "XfLQzbyANAL6RoQ1WKTlVT3LunaSH1H3R+s58Rw3I3t71Y3aKbHvk6rqLpvKS5We1gnpuZ//+xG2\n",
       "w/7xfXe53M6as0mwnhuZSFAAAd9HfjEj5TtGf3fYIPrh051MCWUf01RttB2hrfrx425QoaiMTlKg\n",
       "U3VDaxZZ0vMrqzhjcff4KBnWn5ENMzYZzyaAGvhGa1D8hySXbk/TYSSz6arwUnAI0KDig4IgHVMj\n",
       "BzjK0hEy+Sa6ePeBaRK5OFAkUMd8GrrKsKI0i3RmXFKJ6G/v3ExVS1bGg41T8BrCmUbesyvVdvrc\n",
       "7k6flLuZzkgZfRZ+zAzGTCBWA/G4JUKbfESwdnQ1utU7aCKwYxawlDACOwe8EkPOsS4Q0tfSRqsq\n",
       "39R+bdQwPQJKZmVSsP1+EpELa9GLPq7bFYnhiRXgTGM1WxJ4fnJBnLg7UI/I3QVP8BeNxdwLcAXO\n",
       "ZBZKECUqsgLLCJHcBlQ/C8eVaJuxG/JuTWQWAISVnq0U7br0PcwxUSJsMpCV9M+nLjS/sSqTsIbI\n",
       "GcWfW3l9e9QoIFApsxL6zOL2Rmux6Hq4D/T8lkHxzegSaVqVWBWyDKNqX6/B/4N3B8OF2XNF+s/S\n",
       "OS3mlg38MBoXpM8hBIN1TxXaMs2S+yiru+VjFPnQx6pcr83GiWxXD48bq+4GgQSg1tzO+QGXez7S\n",
       "0pkVhsVqyiYJyrAeqyCc0rD+R27/MfUO200QThzLJDf4k3aLcmOdKvb5I2E/xTinzoYf8Kc3vO1Z\n",
       "QHsGMh+Kaf2t894CCRhHEPy9ZtMTDY2Qr9W75mRGi2sNT2tk9kAF1sN99k3MjoLSvtUePQ6Tg5Er\n",
       "9Man6spBS+Ptc6gYWBsnwvE2vN6kjPawgBPIwqHJhiUaZYRo6YLBacFfdW9zSOlX4COLL9+Tj+Ol\n",
       "YPIVP9Pao29jaCjD8gvr1lOb1v5/HiyAAHjupYQxH5daEuH4KHlVyB/u99D6dywAGoz8gkkZ5ktX\n",
       "LJX2dW4RqmaAEJ1NaYT/WgG78xSJZKg2fV/ROm0cBoKwkKpzkQhj37p8MfGgMvZd1IWIPOvAyKtt\n",
       "/7gy7SgpZCNadbU0FgSiPgbAzilbKbI3FlOME1rfBJFPSQVaS6mj33k1DM5aoBLmeWJbXml3Hn4A\n",
       "b5RqJqGHPXPoshIRzUaWF9CjexlHk9nsav/dCtSaN+KnA/QHIwqiPOcCOV2AhTU0wQdV/O9OHrHx\n",
       "GTbWZCqizIbVChOXF7Y43BrXLh4IDdjyT8zcJesKFrs64iJR/PEHoWTgT6PjXnVE3FCJldFMHnkL\n",
       "0D4EF/4VhFy/S9LkptNpg7/3AR0Zr5CLV61RAqh37Oa4TgJcj/+eB0rFy5IFpiW76mupRW6kadB+\n",
       "gTcFr32zJlCSzc0NMucG3te8zKuGfTfTmOl1aJfe2ScSx/EIeX7eoH0pqT97mnvWWvxSjH7bVjC+\n",
       "2thdk4HfTJe66x6YyHvX0Hr/Lj842AAC2eszE21JWy6GzKbNV7IxAMmWY/LMdSz8qLl9TGbDPOSV\n",
       "Csrd9Y6+PupIDxqZ6WIUXdfg0DP8J3ef0ReMrWLrEYLdyCPsNNeMoj07mxsCTyUmX1qJGEnasMaQ\n",
       "aXpkEDfmen26LztQWMCPpU1aNiUtiqjaZJ7Hp72XX+o+SXkPJm1FP2ZlhYvq191J9OKP/zBZDYDe\n",
       "ipHpYmuQ+791FcK6cHrwNl+onLv+8C/YTTKx6WdhYbXvupy4mtWNvBy1ddg0iVULiZcH+Vf8XwdQ\n",
       "rIFXLuxywCGUohhmytHTpPiToKCH/xQW1O01Abks9Q7uEdlsq69JVIfrUBgz/Hq+0V2OWEs+9Szd\n",
       "KoDsbTrUErEojl7AgMTaiSfzTEiBmxbQ72HkkWxkrBdhRZWfbWWrgHilNpJYIHg0oY3GvF6pSgiz\n",
       "ObwCddOn+YZuCyRN/pNqV4GnlDjefTkKLH+kNyBaX4HMZrE7dWS2UZXJJpLv8M4VWCtjosIifP1y\n",
       "rOebQDQ8dhw1dF+JwJ13l5OgHfQ4zgASUQAAB4ZBmiRsQ3/+p4QG3yVFjafaQAhTtEcPkCuPquES\n",
       "+zCSAxCKWjGGJz3g5mWh+on63/kdPhVMT/Nu9upEkcBlVmr3aULKMlP8Ripc6d1j/rJ5bPJmfKU8\n",
       "k2mASYZAmcsF991ryP0L+v6GL6+gH7+gOKeVyW1Z0O/bobmFCctPZvNUVOT2SRfdOapdofnOL7nH\n",
       "SnB9lBrQEOM24SpvFdfn8pAQnVahAXTYB+QwRGEsZQoO4U+M02DF5lN2P/4m0BQa6dShk8hXx22j\n",
       "N7QQ44FihWnd/ItoXOTBLDyqMfn9BBZ2xWU4edGyaLp/17qH///cXxrHaes9zCeMkvIv/Ul1zsyI\n",
       "MldRrlhUWHy5uhGC2Z5l+FGBVHVyM4gZnrFVYme0ZgxaGX7CYge/9WaH+Ow3hexl+NzXQ6Nl2lSo\n",
       "g0id86ssv/Ae6Lc1t8ZkJNXkICDeIQCQ9fgrgNfmbgIvx3Kh8d05ct7eKUltP4RMmKnb9rsNRF5d\n",
       "OSzdajSVIbeqcvk8XoZgGUfXnMQM28Djz0hi06OYt7aog8/QQRvsn2jj/rboNvgv0b5dA124WrPF\n",
       "FpHttCzf6MEejb9sSIhIzWaWerWRrSxqh9dv8W3f9J2lsuu8JV7NoHo2wHp/87wUE54o6WgGfouz\n",
       "kH4sxhxfmUiMMPjO26TrfqKZ5FufF5lNLaogEb+dNRF9pC7CInrOWxl2DCXrqULIWiFILxgXKyqF\n",
       "f1EHNPrF5+4ODDKhao2Xxw4CJ9KXWC8b8awmP5w32M1z/oEQ8ftlaxuPH46d78dTfPOsmrL0RKXf\n",
       "6OnWia5J2bCgKgk8tQr2XflgFFlPa8mqLTnoX5YxFg7Iqk5TgAeWK/P9bgGonulWfAIqYD2jCE/0\n",
       "ZG5+5IujKafc4RdIBwR4UlOEFpotzS62DXOeg/jeoxewtp/OMvoEanEol0xEPUI7yeWCiSLTzyaa\n",
       "e8i7Y+yjo6p2aA4BMVuOsmmYBeH6GMNauiB+N3AH4topYepwco8IvpWDaSMvR0pE/WE5ab+r8Mz1\n",
       "lkpaAgcDi+TSHBkUcLsJ9Zxx5DLLIrV4g3304A2hhA7TNPAQnZqdYPy3N0uELuXCIBAmx52zGJvv\n",
       "fZMY7HoizUthkwFnNITuxWOflRffh3AhP0SiCmcLrUfeOwlUuc8Fb5JgyNakghEIFgQv8UzCUDuR\n",
       "l6RhEPdF89OKWVO28VCv1+OCSPW5w0wrDoGWg19fKdNfyR8ujUzwProxVtLRjDEbQHVE4yKPqeSQ\n",
       "xLjKHYqsJ1WdKO7QBzruqkuhcpSY0hOU5Bi5l8PmZOXGxiYLZ4+X9/DpNQ4AFWYU7q9H0r0iWxXq\n",
       "kKQvN41bGI38JhuHMQMGELNtqkbbVa4nM9942N0h7imfmBlH//ZbgNK7Kei2iuDNL4nKM375RgL9\n",
       "uMWB/9IhkkO1YvQJPpH1S4jT+C/7/vCL3XkZokZNN7DkaJzcLXYcwcv3oyQfcQjYvKIABg2h9Cmz\n",
       "esx2HRJODIcbqBhq8eVQVVgn2oxH6+ntjm5qW1B9ewRwPRwqx8a68XJQQ4QwrpZIh17qiUnPn5Un\n",
       "JUMMUqCbdLGCMHenZxRDomv1+67+nr2AB9/QTg+zQ0EtjYwvGv0XeEd/FZ0z6J9OGMQ04A36uE9G\n",
       "8o02aSRWUt+rF3zpJwvPg733z2PXcDJBJuEr+dJdLDBk3fH5fPTFQD59ILIWyuE2aaPv70uGNC86\n",
       "r0exes1mjMlSNY3viBAvt1R2IQofJCcaFIDWiw8M4SPhQ0kCVohpT/8JTUv0dLSYMbkcO7FVM05R\n",
       "g24V3t6tSE1BqpeTtSXrJZwtvkdCugqjO7cZSokfMRjhb3GI43gS970cwYhrmS+MxAyFeMAGy8uj\n",
       "EUuXZsaHtyGhTB8Jt9+AtUf6fTF0Q21CLJzPma+gkgAluaqSJJqgUd7FGpnqvvAEQniW3ik/5vkM\n",
       "Fa6MtHgC855zBULUtj1+9EG9GB/DvJqlShB19QPDTlCBXMVHVEmefVdNMTW/xV77D7+RYBRe7yE7\n",
       "ACo8IXKupP96NQkkwqe/ipLw7V2cfBY+lyuH3wVy+qnb52dFo6Zg15dxR0Xb6iYKptd1V7a4GpAI\n",
       "XoKr5t9DLkVfgofd8Q5wlaZjNd2jC7tvX2Benz573rIg6m+M0HE1DhN0AH60i1SOh9D4NLWKITkz\n",
       "VDud58coCdRvEf7xYi7QBf2M5RbsO5eNG+Fc4XPQPIx90106oCS9c24VjEoe9JeTaN2ylGOKpg/n\n",
       "CImBUNZT6vKAktyyKRkklAYGRyV+6m5RS5yKasm6LCxVEK46tKIQcwOEmbq9RN6+oxvDbCXe6oyn\n",
       "w//H4HaGtFNPvEg3AuOQvDsxJR0sDYNfrvp7QQQzUQeyqt/8t4U5iItuxNHYe3//pAL22pG0W/EJ\n",
       "F1voOI0F8TMpQjwqCmC+o94eJFrz4HtHCoZ/huo6fY56MhrmCntJHKm39Tn9EstxwhIzfQNllsaE\n",
       "OxHYaUWCNzcMEGKdpdLjurwtkphRB8UmvbFxaOGaqRcGCJHM0DK1WSaQHYWYmTkXfUXZeTfN+GBb\n",
       "5KRI+36HEygBdtRlQvfzphcAAAb7QZ5CeId/ALJGFtbNWgAfq6G4OeXHjlV7N+dKhMb6QG5aBvdO\n",
       "2HlntHBe0jiXVsJ200BqLpZkYqd9XJOZRyvzzpF8OjkNSvwJl50BehaIF7ndBU7lfZIV+Il148F4\n",
       "VwLCZt45hB/pnbIi7ehsbIJamz2WlpO92CphQdW+YyFa6EjrgGn7WwXqTP1IDBZ5GKUSYQhGCuJd\n",
       "djKOHvbPFAcS4c2wsc1TaDzRvJiyc7aYkKUoOFvhDEd0YvMXVeCpTw8hjL9tCNXEzHkAdiZTPMpp\n",
       "LCvEkVgW0NLbxxmqLAaZfj0nhTnvJPI/abKnql0/G/8aMSANP6czPk0jViBRF5l+f9yzEclTsvjn\n",
       "8iAG68JRLCT0vB/1HkGoSZi9gdcL/GEnDd1Lm+fANzVlwZyxbHULyqgu7eTCqJa9/R2QG2iQljeE\n",
       "euXh+9KDkLpNBPm2SWIYJ/hUsbkXNAwNKGhLaQcAQwX3nol+o9lEb20x7Tx+FQtjQiJqfAwI3Of8\n",
       "iFP/n1wxH2Bcil1zz1ZkTY0rNw5bIqUZLLv54cxP1HNnv0/WNU5CBSPNnkbwGo8aj+DbbbzcWT02\n",
       "D6ZkLRPsHLJ79+Sr5evSbBPPDZjW6aLSCWJEXhHCd1olEZk1dPT464bmhIPs8fMyMqY0ridTxSO8\n",
       "x1t5vhGgCoaYaGn1LZhjXx2X1F1bWmyWWSvFBy4/MsszT73Q8FmZ+jG6oH3df5eZvc31r23hnb+/\n",
       "3akn3fwzZcOQk2TxgwJIJFa9fNPqY0acY/8k5GxLJX1lG4x0kEqWJwiDQbSH7Jqg3Q1WmnnxMgZ3\n",
       "RNES1B5InEUegxi45Oyu3GL5OKVUEyG8UPG7srWH5V5IdBgmIQcssaD3Xg/TiEUdnpKmpHeIcySo\n",
       "f6YMoUG9FdSSG+YazZt8ganNNi1EmKBPe/srYAlGVM0BEUQ9wreXdc5Br+D2h6rt5WGVLnfMMOlu\n",
       "qitNzo+RWqp9TGhtsuJhkFfiehcLZZ825XofGK3qXNh2b2Zgt5tpZ8qqwkm91u39qYZN9BJTdlXy\n",
       "xfZ2FAJJQ79lAsBdEWygf0xMyF1xlHAW7vKlKnvs0375Dt3RpAyC3qSSBxXusz9Rfrf38MxWgUjD\n",
       "bcRyKjXQKGteO/Cu8f/AY5yPENrr3p6M3YBTG+eBRNAx+cEocKWaTsbIqf+AgMfW6z+G5QXYqJEl\n",
       "S5pCKXB6ypQDpITJFj5genGUIugG2RSsPGak0ZoI2v5+veQHYlnxf+KQLlPkdORAKn3mTZpgWIz5\n",
       "vHIrCFvkDuJ16cEEvW7NDlfPGbrO2QucJtxNygSgm3P+sIsrGTiDZGNwbs3zaM+ii21F6IvVjNQj\n",
       "nW9XdmyHgaaQRs1j0fyxxAZwaGq7BJvC7R6ql5Ji8PtuH9Dpo6VddK5oOWq1lgWlZEWEBWInZ7Ik\n",
       "PPAOuvuvJ5ckjCNr2XuTh5ihYlEXxEH1yvqIevF5uiELtyshtufhER3CZwodO9R0f9xXr6haDfDR\n",
       "h/DjjpT08UIN6hajWsPpdziQnMl/+GwYh/rK0XU27K2umdbvoEFU6vM5oo4i27psUpS2uwBBuRxO\n",
       "SaDStt5USDY9Rj7iTr185svogwd4YDuZYNkgt5l4v3Sxqc8fDjy6ursWDOkWOv50S40L/trtH3Wm\n",
       "nM1YtH8Oo7auVrC3aYt+W9VHRnNO2OEQ7PTfRsIOKAW/olBoPKoYT9tTLcxWNflO7Nuh1TtIwgcD\n",
       "CryT8jlwX9rbvwcgt/8b9DCTXR/9fW15c8h35ePSa4VKzjbSbuqoxa1uPjOjhd+x16jwbxFFH1tw\n",
       "AWFcfXPJLBYm0TO/EXKaRt3TJwIPlRKir/RHeKqYNZN/xfa0gTvEjUfjKo2Gl35c9cpX4cuw4S+X\n",
       "WknoXzBD3CI3+SCKtAL9KAPlqVO5oarJbF3xoQt/gQSwLxnp7oB48weO9dkO9C9Zwxrkp4/rBV36\n",
       "2jYITgW3fJlNsPwTipqPK7bZCoz3jvjhDfYCMtJ+cTXAaEO/Qy2ve1q+ow0wVQjopSZ8XnaAVNVR\n",
       "Y68p7h+hdlWmnl9MQlZSztsEtBuXDbNr1LTBFnTlg7xEYbocCYz4joLGMCBOlP7cUHJe8DDTGn8E\n",
       "pJ+lisNoNYDUV0/uu5bruBoDxBMuS4zszsAi7fuarvS//0Dq+JlDnPj19cIA3HXLoBRfV87GRpYE\n",
       "i0Xm0J+d6ApJERKW9p1GJOgWv7AQuKIPMuZm6Szx8gko08tpaPLJMROQJgY66ZuDA4nV23JOb4wk\n",
       "sD914yPtvvz5YJ0lTfr7O1Jd7rjQ/kPz/ziemTELIpKX0gz31pRwyhFZNJ8n54viyXLeEX4znaFi\n",
       "xL4j8leeR2wJ4FOZCjXSF8GnVHt4j4RnHb+0RsezIIOFEdsu/LUBCIEAAAabAZ5hdEN/AWntBir0\n",
       "TQpbACEtVWZzSk1VAZR5667lpOP+gYj8LQV9HO/jBhZST0KYr5CVVdQSgiy4Z/TiSoQUL/sgo7WT\n",
       "CblKVufZIFsmyjXMu93HASLBQCoyqffOpQzVrwFdeD3MEUMjqJFW0ZDUiVbYFBnokM1mCI2R3M+a\n",
       "beyLavGi80EPbZ4PIcwZZ2VQWUOPTok43hExQ1Q1XZ9tsnCZrv+L/0r+uAorXrRUsQHOH7fYE7rO\n",
       "cKk7bi8vsM5TFMKE6bAcBxtHtiCDa1aHjamwhQZWwY7XILaIX22UyBN0UaF6p0JbTmquh5twfZq6\n",
       "7fyFduhy8ofmUjVS43N03f12cjUt7AM82Y6KRZalYI7kjU9YmXklh5cqAVaicwmNAU319jF7jKzZ\n",
       "mm9tTlF7VKtoo1GDpNe1EhOgquhvQa3NevWO0+O0AdRvtO98L9VRmNnybRTcRxX1yWYzdoQD34WU\n",
       "ujkmOui7DRUWV3d9SbWAVVwJOWjuCEm6RziJTpGXQgI3LjRFJaOXP1oQJ0HJzp7MpOIUiaIHkFe2\n",
       "X9ZlXuxRzPeRfm94E+dKSmvlny1w0DD0cxReH1NOTP9nlG8Wzq1fk/HwtXoBiV93E8vjiSAf6ELw\n",
       "ef7giCvUWeOscwOM8eSZ+LfH29BNPTA+q0/emWjG72yIxLjeq4ndz2PBGx2wUmB6Dco8SrnEmU0g\n",
       "1K3t1jz+AhMa72MLG7m86IbgciwG78stMonYpOB/yEuwMP6eOCLAFUi5HUCHWyTwxXnVBRnJRYMv\n",
       "1HH703ZgxaGGNzS2K0ScWE6XhCETTBngQA0Z56GeHGwbZGpskGza3h+cagYPgEccATa+Gw8wLIWp\n",
       "7Z290rux/an76QFeZjhvSzVs19o6juC1XYUvRC+3R7bCZEFUj3bNRBHv2MNusvlmiPwcPcb6ZKP8\n",
       "hlQn99lvQH8Dmrj0/6/lWKa5tZTaxtpi+FuMm22ELeOaDcFis3QCMDj4L8d/7H/07DmJfoRQ8Y1J\n",
       "jI3vC3sgwLyywdcVop6cYwiltY1j6c/Sv5OJY54EMdkiAve/HEIlKITMRnYw9PqdVYKGKLfvq0s6\n",
       "aL6TL1KKIsUkHSRg8v8vFPSQEkjYZvS2+EiU8eoYbXwvK94QV6PvMhzEhlz4lxa7MieWAuaEGLAE\n",
       "/g7Uo0Lbc8BoMV/bGOKo3S3yw+f/efsN00nm5GHfEmoEcFI4QuVUZu4zA8bcnp4B41nsVmX7UeVR\n",
       "jFXKodRRviPjfwAmu6QwYGPhckoi30ewo+F/9bl0Fj8GefJuhACBi3vv5a0Ajik3RFzrdQKw7nXJ\n",
       "1Wh458It0tFK31l7jUG4HlV0jPMwEBTMC1uNWWfQrPVoejVTe1opnzwSXVEgVJXGUIy5nD/sFyXG\n",
       "vDIuD/BDW3mKw8dg7M6YDC3kl2AAgNHVptB/j1ldqRT0Aar4171FP5bJeIvr4MmCvKNFVd6ZctnU\n",
       "WwEZCOMhr7GJNgMFVf2rNC9fuzTZNv/1eKCTqoKlpKMLtwC7wHeYA7Pt/ZJkrgZiIaZuQQlGuc66\n",
       "f7tycT2VMAXmuQzmCQpiHgzP/dtGX7h4YrDbaTCeQeLNd5KkNms8CWpg3QpyGDwSo9TYFUseciRa\n",
       "n4D7yQDcy92UdkkXFOTzCDAPGvcutrt1oRRBz6cJ2WGaa+nUdorza/cNqHYzpH4hu3msdK08yJDs\n",
       "nJDETnJG+MYG4sBWLhoAPY5LhI+W6TmX34X4iV6lZu1gKFXVkCayEMP4E3qQ7Nvy68FQWLtpjT0K\n",
       "gPnv3HmPZv3TaIPLi0/tfAbeWyIAAZrkQoP50Eaedp40X/zYkFz9HeaSqbeUEXolm4aLpCAagIUk\n",
       "68nIxvqg6K1XDDfNOWSybIIXjLbddDleraLw9Y6w6R+d8wV4CdUqN2qrldm+YNHp7iQzp+vf3zq3\n",
       "lsLP6do4Xfog09rjbIVLd4a3Of+9LE/GBwel/9PZwEn+F81XPuebc2MplS6nRmmJPsGLXy/MY3AF\n",
       "JSMDKBOqqF84nmU25gjvyB4dKYyem5JZerzmodqTA7p4C0E9RLcilHyNzHIsVjN52tArrhMjPd5N\n",
       "XakU1dwXkPTgrkfpty1RG0szS5QIBsAieKGOV5MVNzPgsd7x6tUrM9GxaY3CUm8VurrBuLZji6ws\n",
       "iEsNXI8zU4wW49KqOx5HTORJaligW9/E+eg3FDiKC0w0xAtZvW56QGPwvbhnTAQqHsAyTB8cL+Ye\n",
       "FhpqW/NVa84JA8ZppX7vl+ZChLginE/MSigAAAZuAZ5jakN/AWpwjDedUACIPd8z+fEyMivRXnAL\n",
       "szEXe6gLIV+ymS4TOLEnx/NHTunXi42GDZqHII/hwfuc7Q/P/RwtnCbHYYK+pguRoH3pfqBHH/dE\n",
       "nFK+8r89kR4oOBzeYorvgDJPJYawEWTQch9LbSqHnAWg3CSK+OKlqDsR4K+ETRPkcFw1ylD/eXLr\n",
       "Ct2/J4JV6wCQhWavfbcikzPDMthvWalgd6YJG38UERL5GE5JWe3j9GdHvXANaWRHFKiFKgrf8J7u\n",
       "yGJt332NGhwQWjfmDFNC2tUlKTvSQ4pnJxHN0tDKik+eh/Ac/e5RwyOeLv7xwrOzKL93wOa3/oHM\n",
       "MmZgtgPjs1Wp9myB6JHK362pdGzh+Q8KM55Bs9hhfdIc50jdSQ+RsARoX9hV077/3BSyCMhZ0K9V\n",
       "tBjmovj6KiPcXArqtKSOqup+GBdpPEjyRgYanSnOZ8oh5s3rdhN+CgzapWXdbWadrZgvIMRO8Pff\n",
       "oJNXPYukHOzwyAz/FVL160ZujZ/M8oF1u0f1qPUq8hE4Bg/ewZqga/vZFA7Qg7AL64gxNb5Ohazc\n",
       "omjbcuLF9CWz+PtWKEjlCqlPRyWEA7ncKqINvsxTv1M5xeqdbe6s3JWrfQ0XZvsjdwfhzhNKsk+P\n",
       "6WUF9CbAaEJcEN1vWEIeTXbri1I1JPiYUEOfyuXQnSfNiAWq4aIPQL2q3GrHJTdNF3AzwGy4XlvZ\n",
       "WgGa/YOSDqDs7zG+yjxKNTEkUsvVqId712bVCtUvCzBprACR5IwbgaqY+A5+KBup85FSVyWngulz\n",
       "zzGUeN6uK3V1X2ktoU2FMdIf62CA4spKmhFL4Mp56dFuav1Wqrd9YoyithBModEOF+66y9UGForF\n",
       "1vug78BmWEoUqqyq8WWan1zjYaYds/EjdFF/QiKeoyWL/tqR1Q9RZbtSuuk/exkQuZc7Er4nxJFp\n",
       "AFVtaarhGVpRrGikSPnLT579djukCXADokqj8chdoW96KbhDPTKSVoqrlBQxWOj6p1pfIZz19aU4\n",
       "lPw4EXeNE7xSusbJ7uKT3hKGk1cvYIe1U9ip/bKwdY9hyyTx5ockU1jPbK5nHlXNGjqXy98Ysrmw\n",
       "e06f39BAxhtImR6XtUeYj5cMKOQ8SbHzgK5tVPF4MXqTHG4wpvHibChn4iy0h9AjwuXdu2Z3OzoD\n",
       "nN/C3NPRAKXCseysWmGxuwnW/LiSUsmCVMywv+srq9KK33AnKFYz8+ze3paN4DxO/iwX6+ooTZwI\n",
       "RGmixMn5I4nwOf4eFLhKOo1yhbUUnY0ppQzukbZF/JD9BEwZMaTp8uVNjxaX5ZAXLXLiQ5iVGi5Q\n",
       "GB4b7rZxbe2293XfRVlx8tiLg6Z3MGHLDAzgARNBI0pfyNdzGNJWh3Vm2j/x9QW1az2C/sY+q+o8\n",
       "UxUxw6NW3MNRM6QkeGeBEuIQwKEz8IYQSceoZMM7j1h+0GLMz17p3HqJ1f8K2V7ZIr2vv8S4TAYH\n",
       "GPnrnIvf9neiLbQ4DAltx31tTAusJYV+xMTQRAdWwIcoO6bHcH+OGJRHUnG0UcoqfsQ92oxVh/7i\n",
       "fxEbjuO5PzIJULsXsK7sdxGrtyk67zzn0skmStRQlp5t5blY8QkJWJELnLXT6Wt10T6YTZP66lbX\n",
       "mGJ7iWgiI/cqGK53qEQXGKEqD10pkKfLTROlDgD9T9gP5k9+Qng6UGrlg1Ln7UcA6vnkFnt5n2E1\n",
       "zFA3Z9k9PPb9XiuJ4KY7QjwWjkOcqy1ZwP2hotzrkhyzGl8j6yDVwIlb+IUk8lslaBW4DGBB+4N7\n",
       "zpcFyohNHTcpPNSrbmzlS5PcdvqIdl4NbfvxaCIA1LIGLHJjk+USrW8bowhpsVBLS5bKc+v/WLTg\n",
       "PbsKewOADZX//YTt+88m0uWQj7TrKDTPuqm0SE7i41Xi4EMhagswggd+iF1I3OZ0TWYQ1ZzMW/tv\n",
       "zVSDM8vvc/wy4lPuCnaiaqCaEx0oRDWQgdJrlQqbPOuW5xwMwIrs+oHD4o2di1aPFFNp386VY89z\n",
       "+WeU6IjuzR3e+2XOvyFo6Y3v7h2MCQrY+LBD3efkEW2x0fsNPqzLYi33whvOf4f6PADYzWk1qSoN\n",
       "J+J0LWXuNY92XTe+jXyV4EH7A0UczHBF9C99YJRV48gGIPCLJviAFh7J4Sl/7PeilqHw1PsJ0cRC\n",
       "pTsOKfL9rRLqG3zzduellEp9aerVmHkAAANqbW9vdgAAAGxtdmhkAAAAAAAAAAAAAAAAAAAD6AAA\n",
       "AfQAAQAAAQAAAAAAAAAAAAAAAAEAAAAAAAAAAAAAAAAAAAABAAAAAAAAAAAAAAAAAABAAAAAAAAA\n",
       "AAAAAAAAAAAAAAAAAAAAAAAAAAAAAAAAAgAAApR0cmFrAAAAXHRraGQAAAADAAAAAAAAAAAAAAAB\n",
       "AAAAAAAAAfQAAAAAAAAAAAAAAAAAAAAAAAEAAAAAAAAAAAAAAAAAAAABAAAAAAAAAAAAAAAAAABA\n",
       "AAAAAbAAAAEgAAAAAAAkZWR0cwAAABxlbHN0AAAAAAAAAAEAAAH0AAAIAAABAAAAAAIMbWRpYQAA\n",
       "ACBtZGhkAAAAAAAAAAAAAAAAAAAoAAAAFABVxAAAAAAALWhkbHIAAAAAAAAAAHZpZGUAAAAAAAAA\n",
       "AAAAAABWaWRlb0hhbmRsZXIAAAABt21pbmYAAAAUdm1oZAAAAAEAAAAAAAAAAAAAACRkaW5mAAAA\n",
       "HGRyZWYAAAAAAAAAAQAAAAx1cmwgAAAAAQAAAXdzdGJsAAAAs3N0c2QAAAAAAAAAAQAAAKNhdmMx\n",
       "AAAAAAAAAAEAAAAAAAAAAAAAAAAAAAAAAbABIABIAAAASAAAAAAAAAABAAAAAAAAAAAAAAAAAAAA\n",
       "AAAAAAAAAAAAAAAAAAAAAAAAGP//AAAAMWF2Y0MBZAAV/+EAGGdkABWs2UGwloQAAAMABAAAAwBQ\n",
       "PFi2WAEABmjr48siwAAAABx1dWlka2hA8l8kT8W6OaUbzwMj8wAAAAAAAAAYc3R0cwAAAAAAAAAB\n",
       "AAAABQAABAAAAAAUc3RzcwAAAAAAAAABAAAAAQAAADhjdHRzAAAAAAAAAAUAAAABAAAIAAAAAAEA\n",
       "ABQAAAAAAQAACAAAAAABAAAAAAAAAAEAAAQAAAAAHHN0c2MAAAAAAAAAAQAAAAEAAAAFAAAAAQAA\n",
       "AChzdHN6AAAAAAAAAAAAAAAFAAAPvAAAB4oAAAb/AAAGnwAABnIAAAAUc3RjbwAAAAAAAAABAAAA\n",
       "LAAAAGJ1ZHRhAAAAWm1ldGEAAAAAAAAAIWhkbHIAAAAAAAAAAG1kaXJhcHBsAAAAAAAAAAAAAAAA\n",
       "LWlsc3QAAAAlqXRvbwAAAB1kYXRhAAAAAQAAAABMYXZmNTcuNDguMTAy\n",
       "\">\n",
       "  Your browser does not support the video tag.\n",
       "</video>"
      ],
      "text/plain": [
       "<matplotlib.animation.FuncAnimation at 0x7fc1490b56a0>"
      ]
     },
     "execution_count": 8,
     "metadata": {},
     "output_type": "execute_result"
    },
    {
     "data": {
      "image/png": "[encoded data removed]",
      "text/plain": [
       "<Figure size 432x288 with 1 Axes>"
      ]
     },
     "metadata": {
      "needs_background": "light"
     },
     "output_type": "display_data"
    }
   ],
   "source": [
    "skip=10\n",
    "MD.AnimateMDRun(t_tr[::skip],x_tr[::skip],y_tr[::skip],xBox=(0,LBox),yBox=(0,LBox),xpbc=True,ypbc=True,m=m)"
   ]
  },
  {
   "cell_type": "markdown",
   "metadata": {},
   "source": [
    "## Compressibility"
   ]
  },
  {
   "cell_type": "markdown",
   "metadata": {},
   "source": [
    "The compressibility can be inferred from fluctuations of the virial pressure:\n",
    "\n",
    "\\begin{equation}\n",
    "\\langle \\delta {\\cal P}^2 \\rangle_{NVT} = \\frac{k_BT}{V} \\left( \\frac{2 N k_BT}{d V} +  \\langle {\\cal P} \\rangle_{NVT} -\\beta_T^{-1}  + \\frac1V \\langle {\\cal X} \\rangle_{NVT} \\right)\n",
    "\\end{equation}\n",
    "\n",
    "where\n",
    "\\begin{equation}\n",
    "{\\cal P} \n",
    "= \\frac1{d V} \\left[ \\sum_i m_i \\left|\\vec v_i \\right|^2 \n",
    "                    + \\sum_{i<j} \\vec f_{ij}\\cdot\\vec r_{ij} \\right]\n",
    "\\end{equation}"
   ]
  },
  {
   "cell_type": "markdown",
   "metadata": {},
   "source": [
    "Alternatively one can define the pressure as\n",
    "\\begin{equation}\n",
    "{\\cal P'} \n",
    "= \\rho k_BT + \\frac1{d V} \\left[  \\sum_{i<j} \\vec f_{ij}\\cdot\\vec r_{ij} \\right]\n",
    "= \\rho k_BT + \\frac1{V} \\langle {\\cal W} \\rangle\n",
    "\\end{equation}\n",
    "\n",
    "In this case \n",
    "\n",
    "\\begin{equation}\n",
    "\\langle \\delta {\\cal P'}^2 \\rangle_{NVT} = \\frac{k_BT}{V} \\left( \\langle {\\cal P'} \\rangle_{NVT} -\\beta_T^{-1}  + \\frac1V \\langle {\\cal X} \\rangle_{NVT} \\right)\n",
    "\\end{equation}\n",
    "\n",
    "\n",
    "Reference:\n",
    "\n",
    "    M. Allen and D. Tildesley, Computer Simulations of Liquids, 2nd Edition, Oxford (2017), pp. 60-69"
   ]
  },
  {
   "cell_type": "markdown",
   "metadata": {},
   "source": [
    "Solving the above relations for the compressibility yields\n",
    "\n",
    "\\begin{equation}\n",
    "\\beta_T^{-1} \n",
    " =  \\frac{2 N k_BT}{d V} - \\frac{V}{k_BT} \\langle \\delta {\\cal P}^2 \\rangle_{NVT} +  \\langle {\\cal P} \\rangle_{NVT}   + \\frac1V \\langle {\\cal X} \\rangle_{NVT} \n",
    "\\end{equation}\n",
    "\n",
    "and\n",
    "\n",
    "\\begin{equation}\n",
    "\\beta_T^{-1} \n",
    " =   - \\frac{V}{k_BT} \\langle \\delta {\\cal P'}^2 \\rangle_{NVT} +  \\langle {\\cal P'} \\rangle_{NVT}   + \\frac1V \\langle {\\cal X} \\rangle_{NVT} \n",
    "\\end{equation}\n"
   ]
  },
  {
   "cell_type": "code",
   "execution_count": 9,
   "metadata": {},
   "outputs": [
    {
     "data": {
      "text/plain": [
       "array([ True, False, False, False, False, False, False, False, False, False], dtype=bool)"
      ]
     },
     "execution_count": 9,
     "metadata": {},
     "output_type": "execute_result"
    }
   ],
   "source": [
    "np.arange(10)==0"
   ]
  },
  {
   "cell_type": "code",
   "execution_count": 11,
   "metadata": {},
   "outputs": [
    {
     "data": {
      "text/plain": [
       "True"
      ]
     },
     "execution_count": 11,
     "metadata": {},
     "output_type": "execute_result"
    }
   ],
   "source": [
    "p=np.arange(10)\n",
    "isinstance(p,(list,np.ndarray))"
   ]
  },
  {
   "cell_type": "code",
   "execution_count": 14,
   "metadata": {},
   "outputs": [],
   "source": [
    "def Compressibility_from_pressure_fluctuations_in_NVT(d,m,NParticles,LBox,kT,pPot, pHyper, pKin=0):\n",
    "    \"\"\"\n",
    "    Returns an estimate of the compressibility based on the analysis of the fluctuations of \n",
    "    the virial pressure in the canonical ensemble\n",
    "    \"\"\"\n",
    "    if isinstance(pKin,np.ndarray):\n",
    "        one_over_beta_T = 2*NParticles*kT/d/LBox**d - np.var(pPot+pKin)*LBox**d/kT + np.mean(pPot+pKin+pHyper)\n",
    "    else:\n",
    "        one_over_beta_T =                           - np.var(pPot     )*LBox**d/kT + np.mean(pPot     +pHyper)\n",
    "        \n",
    "    return 1/one_over_beta_T"
   ]
  },
  {
   "cell_type": "code",
   "execution_count": 28,
   "metadata": {},
   "outputs": [],
   "source": [
    "def Compressibility_from_pressure_fluctuations_in_NVT(d,m,NParticles,LBox,kT,pPot, pHyper, pKin=0):\n",
    "    \"\"\"\n",
    "    Returns an estimate of the compressibility based on the analysis of the fluctuations of \n",
    "    the virial pressure in the canonical ensemble\n",
    "    \"\"\"\n",
    "    if isinstance(pKin,np.ndarray):\n",
    "        beta_T = 1./( 2*NParticles*kT/d/LBox**d - np.var(pPot+pKin,axis=-1)*LBox**d/kT + np.mean(pPot+pKin+pHyper,axis=-1) )\n",
    "    else:\n",
    "        beta_T = 1./(                           - np.var(pPot     ,axis=-1)*LBox**d/kT + np.mean(pPot     +pHyper,axis=-1) )\n",
    "        \n",
    "    if pPot.ndim==1:\n",
    "        # data for one trajectories\n",
    "        return beta_T\n",
    "    elif pPot.ndim==2:\n",
    "        # data for an ensemble of trajectories\n",
    "        NTrajectories = beta_T.size\n",
    "        return np.mean(beta_T), np.std(beta_T)/np.sqrt(NTrajectories)"
   ]
  },
  {
   "cell_type": "markdown",
   "metadata": {},
   "source": [
    "Test for data from one trajectory"
   ]
  },
  {
   "cell_type": "code",
   "execution_count": 30,
   "metadata": {},
   "outputs": [
    {
     "data": {
      "text/plain": [
       "-2.8936968994630918"
      ]
     },
     "execution_count": 30,
     "metadata": {},
     "output_type": "execute_result"
    }
   ],
   "source": [
    "Compressibility_from_pressure_fluctuations_in_NVT(d,m,NParticles,LBox,kT,pPot_tr, pHyper_tr, pKin_tr)"
   ]
  },
  {
   "cell_type": "code",
   "execution_count": 31,
   "metadata": {},
   "outputs": [
    {
     "data": {
      "text/plain": [
       "-1.4129035563275876"
      ]
     },
     "execution_count": 31,
     "metadata": {},
     "output_type": "execute_result"
    }
   ],
   "source": [
    "Compressibility_from_pressure_fluctuations_in_NVT(d,m,NParticles,LBox,kT,pPot_tr, pHyper_tr)"
   ]
  },
  {
   "cell_type": "markdown",
   "metadata": {},
   "source": [
    "Test for data from fake ensemble of trajectories"
   ]
  },
  {
   "cell_type": "code",
   "execution_count": 32,
   "metadata": {},
   "outputs": [
    {
     "data": {
      "text/plain": [
       "(-2.8936968994630923, 2.5639502485114189e-16)"
      ]
     },
     "execution_count": 32,
     "metadata": {},
     "output_type": "execute_result"
    }
   ],
   "source": [
    "Compressibility_from_pressure_fluctuations_in_NVT(d,m,NParticles,LBox,kT,\n",
    "                                                  np.array([pPot_tr,pPot_tr,pPot_tr]), \n",
    "                                                  np.array([pHyper_tr,pHyper_tr,pHyper_tr]), \n",
    "                                                  np.array([pKin_tr,pKin_tr,pKin_tr])\n",
    "                                                 )"
   ]
  },
  {
   "cell_type": "code",
   "execution_count": 33,
   "metadata": {},
   "outputs": [
    {
     "data": {
      "text/plain": [
       "(-1.4129035563275876, 0.0)"
      ]
     },
     "execution_count": 33,
     "metadata": {},
     "output_type": "execute_result"
    }
   ],
   "source": [
    "Compressibility_from_pressure_fluctuations_in_NVT(d,m,NParticles,LBox,kT,\n",
    "                                                  np.array([pPot_tr,pPot_tr,pPot_tr]), \n",
    "                                                  np.array([pHyper_tr,pHyper_tr,pHyper_tr])\n",
    "                                                 )"
   ]
  },
  {
   "cell_type": "markdown",
   "metadata": {},
   "source": [
    "# Old"
   ]
  },
  {
   "cell_type": "code",
   "execution_count": 6,
   "metadata": {},
   "outputs": [],
   "source": [
    "def MeanSquareDisplacements(t_tr,x_tr):\n",
    "    \"\"\"\n",
    "    Returns the particle and time average mean-square displacement < (x(t)-x(0))**2 > \n",
    "    in one Cartesian direction for a trajectory of x- or y-positions\n",
    "    \"\"\"\n",
    "    \n",
    "    NParticles = x_tr.shape[-1]\n",
    "    length_of_x_tr = x_tr.shape[-2]\n",
    "    length_of_t_tr = t_tr.shape[-1]\n",
    "    local_x_tr = np.copy(x_tr)\n",
    "\n",
    "    if x_tr.ndim>2:\n",
    "        # data for an ensemble of trajectories\n",
    "        NTrajectories = x_tr.shape[-3]\n",
    "        local_x_tr = local_x_tr.transpose(1,0,2)\n",
    "        # so that the time axis is always the first axis (or rather axis=0)\n",
    "    else:\n",
    "        NTrajectories = 1\n",
    "        \n",
    "    msd = []\n",
    "    delta_t = []\n",
    "    \n",
    "    for n in range(1,length_of_x_tr//2):\n",
    "        \n",
    "        n_t = n*length_of_t_tr//length_of_x_tr  # because sometimes configurations are not stored for each time step\n",
    "        if t_tr.ndim==1:\n",
    "            # data for one trajectories\n",
    "            delta_t.append(t_tr[n_t]-t_tr[0])\n",
    "        elif t_tr.ndim==2:\n",
    "            # data for an ensemble of trajectories\n",
    "            delta_t.append(t_tr[0,n_t]-t_tr[0,0])\n",
    "        delta_x2 = ( local_x_tr - np.roll(local_x_tr,-n,axis=0) )**2\n",
    "        msd.append(np.mean(delta_x2[:length_of_x_tr-n]))\n",
    "        \n",
    "    return np.array(delta_t), np.array(msd)"
   ]
  },
  {
   "cell_type": "code",
   "execution_count": 7,
   "metadata": {},
   "outputs": [],
   "source": [
    "delta_t, x_msd = MeanSquareDisplacements(t_tr,x_tr)"
   ]
  },
  {
   "cell_type": "code",
   "execution_count": 8,
   "metadata": {},
   "outputs": [],
   "source": [
    "delta_t, y_msd = MeanSquareDisplacements(t_tr,y_tr)"
   ]
  },
  {
   "cell_type": "code",
   "execution_count": 9,
   "metadata": {},
   "outputs": [
    {
     "data": {
      "text/plain": [
       "[<matplotlib.lines.Line2D at 0x7f99802942b0>]"
      ]
     },
     "execution_count": 9,
     "metadata": {},
     "output_type": "execute_result"
    },
    {
     "data": {
      "image/png": "[encoded data removed]",
      "text/plain": [
       "<Figure size 432x288 with 1 Axes>"
      ]
     },
     "metadata": {
      "needs_background": "light"
     },
     "output_type": "display_data"
    }
   ],
   "source": [
    "plt.loglog(delta_t,x_msd)\n",
    "plt.loglog(delta_t,y_msd)"
   ]
  },
  {
   "cell_type": "code",
   "execution_count": 10,
   "metadata": {
    "scrolled": false
   },
   "outputs": [
    {
     "data": {
      "text/plain": [
       "[<matplotlib.lines.Line2D at 0x7f99c068d9b0>]"
      ]
     },
     "execution_count": 10,
     "metadata": {},
     "output_type": "execute_result"
    },
    {
     "data": {
      "image/png": "[encoded data removed]",
      "text/plain": [
       "<Figure size 432x288 with 1 Axes>"
      ]
     },
     "metadata": {
      "needs_background": "light"
     },
     "output_type": "display_data"
    }
   ],
   "source": [
    "plt.loglog(delta_t,x_msd/delta_t)\n",
    "plt.loglog(delta_t,y_msd/delta_t)"
   ]
  },
  {
   "cell_type": "markdown",
   "metadata": {},
   "source": [
    "Test that the function also works for an ensemble"
   ]
  },
  {
   "cell_type": "code",
   "execution_count": 11,
   "metadata": {},
   "outputs": [],
   "source": [
    "delta_t, xx_msd = MeanSquareDisplacements(np.array([t_tr,t_tr,t_tr]),np.array([x_tr,x_tr,x_tr]))"
   ]
  },
  {
   "cell_type": "code",
   "execution_count": 12,
   "metadata": {
    "scrolled": false
   },
   "outputs": [
    {
     "data": {
      "text/plain": [
       "[<matplotlib.lines.Line2D at 0x7f99804e2eb8>]"
      ]
     },
     "execution_count": 12,
     "metadata": {},
     "output_type": "execute_result"
    },
    {
     "data": {
      "image/png": "[encoded data removed]",
      "text/plain": [
       "<Figure size 432x288 with 1 Axes>"
      ]
     },
     "metadata": {
      "needs_background": "light"
     },
     "output_type": "display_data"
    }
   ],
   "source": [
    "plt.loglog(delta_t,x_msd/delta_t)\n",
    "plt.loglog(delta_t,xx_msd/delta_t)"
   ]
  },
  {
   "cell_type": "code",
   "execution_count": null,
   "metadata": {},
   "outputs": [],
   "source": []
  }
 ],
 "metadata": {
  "kernelspec": {
   "display_name": "Python 3",
   "language": "python",
   "name": "python3"
  },
  "language_info": {
   "codemirror_mode": {
    "name": "ipython",
    "version": 3
   },
   "file_extension": ".py",
   "mimetype": "text/x-python",
   "name": "python",
   "nbconvert_exporter": "python",
   "pygments_lexer": "ipython3",
   "version": "3.8.12"
  }
 },
 "nbformat": 4,
 "nbformat_minor": 2
}
