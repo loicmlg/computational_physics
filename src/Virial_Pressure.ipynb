{
 "cells": [
  {
   "cell_type": "markdown",
   "metadata": {},
   "source": [
    "# The Virial Pressure"
   ]
  },
  {
   "cell_type": "markdown",
   "metadata": {},
   "source": [
    "Ralf Everaers, ENS Lyon (2022)"
   ]
  },
  {
   "cell_type": "markdown",
   "metadata": {},
   "source": [
    "## Pressure"
   ]
  },
  {
   "cell_type": "markdown",
   "metadata": {},
   "source": [
    "We have already encountered an estimator of the temperature based on the equipartition theorem for the kinetic energy and the analysis of the instanteneous particle velocities.\n",
    "\n",
    "\n",
    "A corresponding estimator for the instantaneous pressure in the systems with pair interactions is given by\n",
    "\n",
    "\\begin{equation}\n",
    "P(t) = P\\left(\\{\\vec r_i(t),\\vec v_i(t)\\}\\right) \n",
    "= \\frac1{d V} \\left[ \\sum_i m_i \\left|\\vec v_i \\right|^2 \n",
    "                    + \\sum_{i<j} \\vec f_{ij}\\cdot\\vec r_{ij} \\right]\n",
    "\\end{equation}\n",
    "\n",
    "The above expression applies to homogneous systems and particles interacting via pair potentials and can be conveniently applied for periodic boundary conditions."
   ]
  },
  {
   "cell_type": "markdown",
   "metadata": {},
   "source": [
    "In order to link fluctuations of the virial pressure to physical observables we also need to calculate the expectation value of the so-called hypervirial.\n",
    "\n",
    "If the contribution of pair interactions to the virial pressure can be written as\n",
    "\\begin{equation}\n",
    "P(t) - P_{id}(t) = \\frac1{V}{\\cal W}(t)\n",
    "\\end{equation}\n",
    "\n",
    "with\n",
    "\\begin{eqnarray}\n",
    "{\\cal W}(t) \n",
    "&=& \\frac1{d}  \\sum_{i<j} \\vec f_{ij}\\cdot\\vec r_{ij} \\\\\n",
    "&=& -\\frac1{d}  \\sum_{i<j} \\left. r \\frac{d\\ v(r)}{d r} \\right|_{r=r_{ij}}\\\\\n",
    "&\\equiv& -\\frac1{d}  \\sum_{i<j} w(r_{ij})\n",
    "\\end{eqnarray}\n",
    "for the pair potential $v(r)$, \n",
    "then the hypervirial has the form\n",
    "\\begin{eqnarray}\n",
    "{\\cal X}(t) \n",
    "&=& \\frac1{d^2}  \\sum_{i<j} \\left. r \\frac{d\\ w(r)}{d r} \\right|_{r=r_{ij}}\\\\\n",
    "&\\equiv& \\frac1{d^2}  \\sum_{i<j} {\\cal x}(r_{ij})\n",
    "\\end{eqnarray}\n",
    "\n",
    "Reference:\n",
    "\n",
    "    M. Allen and D. Tildesley, Computer Simulations of Liquids, 2nd Edition, Oxford (2017), pp. 60-69"
   ]
  },
  {
   "cell_type": "markdown",
   "metadata": {},
   "source": [
    "In the case of the Lennard-Jones interaction:\n",
    "\n",
    "\\begin{eqnarray}\n",
    "v(r) &=&= 4\\epsilon \\left(\\left(\\frac\\sigma{r}\\right)^{12} - \\left(\\frac\\sigma{r}\\right)^6 \\right) \\\\\n",
    "w(r) &=&= 4\\epsilon \\left(-12\\left(\\frac\\sigma{r}\\right)^{12} +6 \\left(\\frac\\sigma{r}\\right)^6 \\right) \\\\\n",
    "{\\cal x}(r) &=&= 4\\epsilon \\left(12^2\\left(\\frac\\sigma{r}\\right)^{12} -6^2 \\left(\\frac\\sigma{r}\\right)^6 \\right) \\\\\n",
    "\\end{eqnarray}"
   ]
  },
  {
   "cell_type": "code",
   "execution_count": 1,
   "metadata": {},
   "outputs": [],
   "source": [
    "# Import standard libraries\n",
    "import numpy as np\n",
    "from scipy.special import gamma\n",
    "import matplotlib.pyplot as plt\n",
    "from matplotlib import animation, cm, colors, rc\n",
    "import random\n",
    "import time\n",
    "from imp import reload\n",
    "rc('animation', html='html5')\n",
    "\n",
    "# Import library of our own functions\n",
    "import MPCMolecularDynamics as MD\n",
    "reload(MD)\n",
    "\n",
    "#Include plots into notebook instead of plotting them in extra window\n",
    "%matplotlib inline "
   ]
  },
  {
   "cell_type": "markdown",
   "metadata": {},
   "source": [
    "### Kinetic (ideal gas) pressure"
   ]
  },
  {
   "cell_type": "code",
   "execution_count": 2,
   "metadata": {},
   "outputs": [],
   "source": [
    "def KineticPressure_as_a_function_of_velocities(d,LBox,m,v,debug=False):\n",
    "    \"\"\"\n",
    "    returns the kinetic contribution to the virial pressure as a function of the particle velocities\n",
    "    \"\"\"\n",
    "    v = np.array(v)\n",
    "    N = v.shape[-1]\n",
    "    V = LBox**d\n",
    "    \n",
    "    if debug:\n",
    "        print(N,d,V)\n",
    "    \n",
    "    if d==1:\n",
    "        # sum over particles\n",
    "        P = np.sum(m*v*v/d/V,axis=-1)   \n",
    "    else:\n",
    "        # sum over particles and dimensions\n",
    "        if debug:\n",
    "            print(np.sum(m*v*v/d/V,axis=-1).shape)\n",
    "        P = np.sum( np.sum(m*v*v/d/V,axis=-1), axis=0)       \n",
    "    return P"
   ]
  },
  {
   "cell_type": "markdown",
   "metadata": {},
   "source": [
    "Test: The expectation value is given by the ideal gas law\n",
    "\n",
    "\\begin{equation}\n",
    "\\langle P(t) \\rangle = \\rho k_BT\n",
    "\\end{equation}"
   ]
  },
  {
   "cell_type": "code",
   "execution_count": 3,
   "metadata": {},
   "outputs": [
    {
     "name": "stdout",
     "output_type": "stream",
     "text": [
      "1d kinetic pressure: \n",
      " 100.0 97.7311564079\n",
      "trajectories of 1d pressures: \n",
      " 100.0 [ 97.73115641  97.73115641  97.73115641]\n",
      "ensemble of trajectories of 1d pressures: \n",
      " 100.0 [[ 97.73115641  97.73115641  97.73115641]\n",
      " [ 97.73115641  97.73115641  97.73115641]\n",
      " [ 97.73115641  97.73115641  97.73115641]\n",
      " [ 97.73115641  97.73115641  97.73115641]]\n",
      "\n",
      "\n",
      "2d kinetic pressure: \n",
      " 10.0 9.93413917835\n",
      "trajectories of 2d pressures: \n",
      " 10.0 [ 9.93413918  9.93413918  9.93413918]\n",
      "ensemble of trajectories of 2d pressures: \n",
      " 10.0 [[ 9.93413918  9.93413918  9.93413918]\n",
      " [ 9.93413918  9.93413918  9.93413918]\n",
      " [ 9.93413918  9.93413918  9.93413918]\n",
      " [ 9.93413918  9.93413918  9.93413918]]\n"
     ]
    }
   ],
   "source": [
    "NParticles=1000\n",
    "LBox = 10\n",
    "kT = 1.\n",
    "m = np.ones(NParticles)\n",
    "\n",
    "# a single configuration\n",
    "vx = MD.RandomVelocities(m,kT)\n",
    "vy = MD.RandomVelocities(m,kT)\n",
    "\n",
    "# trajectory: list of configurations\n",
    "vx_tr = np.array([vx,vx,vx])\n",
    "vy_tr = np.array([vy,vy,vy])\n",
    "\n",
    "# ensembles: lists of trajectories\n",
    "vx_tr_ens = np.array([vx_tr,vx_tr,vx_tr,vx_tr])\n",
    "vy_tr_ens = np.array([vy_tr,vy_tr,vy_tr,vy_tr])\n",
    "\n",
    "print(\"1d kinetic pressure: \\n\",\n",
    "      (kT*NParticles/LBox),\n",
    "      KineticPressure_as_a_function_of_velocities(1,LBox,m,vx))\n",
    "print(\"trajectories of 1d pressures: \\n\",\n",
    "      (kT*NParticles/LBox),\n",
    "      KineticPressure_as_a_function_of_velocities(1,LBox,m,vx_tr))\n",
    "print(\"ensemble of trajectories of 1d pressures: \\n\",\n",
    "      (kT*NParticles/LBox),\n",
    "      KineticPressure_as_a_function_of_velocities(1,LBox,m,vx_tr_ens))\n",
    "\n",
    "print(\"\\n\")\n",
    "\n",
    "print(\"2d kinetic pressure: \\n\",\n",
    "      (kT*NParticles/LBox**2),\n",
    "      KineticPressure_as_a_function_of_velocities(2,LBox,m,(vx,vy)))\n",
    "print(\"trajectories of 2d pressures: \\n\",\n",
    "      (kT*NParticles/LBox**2),\n",
    "      KineticPressure_as_a_function_of_velocities(2,LBox,m,(vx_tr,vy_tr)))\n",
    "print(\"ensemble of trajectories of 2d pressures: \\n\",\n",
    "      (kT*NParticles/LBox**2),\n",
    "      KineticPressure_as_a_function_of_velocities(2,LBox,m,(vx_tr_ens,vy_tr_ens)))"
   ]
  },
  {
   "cell_type": "code",
   "execution_count": 4,
   "metadata": {},
   "outputs": [],
   "source": [
    "def KineticPressure_tensor_as_a_function_of_velocities(d,LBox,m,vel,debug=False):\n",
    "    \"\"\"\n",
    "    returns the kinetic contribution to the pressure tensor as a function of the particle velocities\n",
    "    \"\"\"\n",
    "    v = np.array(vel)\n",
    "    N = v.shape[-1]\n",
    "    V = LBox**d\n",
    "    \n",
    "    if debug:\n",
    "        print(N,d,V)\n",
    "    \n",
    "    if d==1:\n",
    "        # sum over particles\n",
    "        P = np.sum(m*v*v/d/V,axis=-1)   \n",
    "        return P\n",
    "    elif d==2:\n",
    "        # sum over particles\n",
    "        if debug:\n",
    "            print(np.sum(m*v*v/d/V,axis=-1).shape)\n",
    "        Pxx = np.sum(m*v[0]*v[0]/d/V,axis=-1)\n",
    "        Pxy = np.sum(m*v[0]*v[1]/d/V,axis=-1)\n",
    "        Pyx = np.sum(m*v[1]*v[0]/d/V,axis=-1)\n",
    "        Pyy = np.sum(m*v[1]*v[1]/d/V,axis=-1)\n",
    "        return [[Pxx,Pxy],[Pyx,Pyy]]\n",
    "\n",
    "    else:\n",
    "        print(\"KineticPressure_tensor_as_a_function_of_velocities not defined for d = \",d)\n",
    "\n",
    "    return"
   ]
  },
  {
   "cell_type": "code",
   "execution_count": 5,
   "metadata": {},
   "outputs": [
    {
     "name": "stdout",
     "output_type": "stream",
     "text": [
      "1d kinetic pressure: \n",
      " 100.0 101.577725143\n",
      "trajectories of 1d pressures: \n",
      " 100.0 [ 101.57772514  101.57772514  101.57772514]\n",
      "ensemble of trajectories of 1d pressures: \n",
      " 100.0 [[ 101.57772514  101.57772514  101.57772514]\n",
      " [ 101.57772514  101.57772514  101.57772514]\n",
      " [ 101.57772514  101.57772514  101.57772514]\n",
      " [ 101.57772514  101.57772514  101.57772514]]\n",
      "\n",
      "\n",
      "2d kinetic pressure tensor components: \n",
      " 10.0 [[5.0788862571679605, 0.24679417170200452], [0.24679417170200452, 5.0049130092486216]]\n",
      "trajectories of 2d pressure tensor components: \n",
      " 10.0 [[array([ 5.07888626,  5.07888626,  5.07888626]), array([ 0.24679417,  0.24679417,  0.24679417])], [array([ 0.24679417,  0.24679417,  0.24679417]), array([ 5.00491301,  5.00491301,  5.00491301])]]\n",
      "ensemble of trajectories of 2d pressure tensor components: \n",
      " 10.0 [[array([[ 5.07888626,  5.07888626,  5.07888626],\n",
      "       [ 5.07888626,  5.07888626,  5.07888626],\n",
      "       [ 5.07888626,  5.07888626,  5.07888626],\n",
      "       [ 5.07888626,  5.07888626,  5.07888626]]), array([[ 0.24679417,  0.24679417,  0.24679417],\n",
      "       [ 0.24679417,  0.24679417,  0.24679417],\n",
      "       [ 0.24679417,  0.24679417,  0.24679417],\n",
      "       [ 0.24679417,  0.24679417,  0.24679417]])], [array([[ 0.24679417,  0.24679417,  0.24679417],\n",
      "       [ 0.24679417,  0.24679417,  0.24679417],\n",
      "       [ 0.24679417,  0.24679417,  0.24679417],\n",
      "       [ 0.24679417,  0.24679417,  0.24679417]]), array([[ 5.00491301,  5.00491301,  5.00491301],\n",
      "       [ 5.00491301,  5.00491301,  5.00491301],\n",
      "       [ 5.00491301,  5.00491301,  5.00491301],\n",
      "       [ 5.00491301,  5.00491301,  5.00491301]])]]\n"
     ]
    }
   ],
   "source": [
    "NParticles=1000\n",
    "LBox = 10\n",
    "kT = 1.\n",
    "m = np.ones(NParticles)\n",
    "\n",
    "# a single configuration\n",
    "vx = MD.RandomVelocities(m,kT)\n",
    "vy = MD.RandomVelocities(m,kT)\n",
    "\n",
    "# trajectory: list of list of distances \n",
    "vx_tr = np.array([vx,vx,vx])\n",
    "vy_tr = np.array([vy,vy,vy])\n",
    "\n",
    "# ensembles: lists of trajectories\n",
    "vx_tr_ens = np.array([vx_tr,vx_tr,vx_tr,vx_tr])\n",
    "vy_tr_ens = np.array([vy_tr,vy_tr,vy_tr,vy_tr])\n",
    "\n",
    "print(\"1d kinetic pressure: \\n\",\n",
    "      (kT*NParticles/LBox),\n",
    "      KineticPressure_tensor_as_a_function_of_velocities(1,LBox,m,vx))\n",
    "print(\"trajectories of 1d pressures: \\n\",\n",
    "      (kT*NParticles/LBox),\n",
    "      KineticPressure_tensor_as_a_function_of_velocities(1,LBox,m,vx_tr))\n",
    "print(\"ensemble of trajectories of 1d pressures: \\n\",\n",
    "      (kT*NParticles/LBox),\n",
    "      KineticPressure_tensor_as_a_function_of_velocities(1,LBox,m,vx_tr_ens))\n",
    "\n",
    "print(\"\\n\")\n",
    "\n",
    "print(\"2d kinetic pressure tensor components: \\n\",\n",
    "      (kT*NParticles/LBox**2),\n",
    "      KineticPressure_tensor_as_a_function_of_velocities(2,LBox,m,(vx,vy)))\n",
    "print(\"trajectories of 2d pressure tensor components: \\n\",\n",
    "      (kT*NParticles/LBox**2),\n",
    "      KineticPressure_tensor_as_a_function_of_velocities(2,LBox,m,(vx_tr,vy_tr)))\n",
    "print(\"ensemble of trajectories of 2d pressure tensor components: \\n\",\n",
    "      (kT*NParticles/LBox**2),\n",
    "      KineticPressure_tensor_as_a_function_of_velocities(2,LBox,m,(vx_tr_ens,vy_tr_ens)))"
   ]
  },
  {
   "cell_type": "markdown",
   "metadata": {},
   "source": [
    "### Contribution of LJ interactions to the virial pressure"
   ]
  },
  {
   "cell_type": "markdown",
   "metadata": {},
   "source": [
    "#### Version that calculates the pair virial"
   ]
  },
  {
   "cell_type": "markdown",
   "metadata": {},
   "source": [
    "Pair virial for a list of distance vectors"
   ]
  },
  {
   "cell_type": "code",
   "execution_count": 42,
   "metadata": {},
   "outputs": [],
   "source": [
    "def Virial_w_LJ(d,epsilon,sigma,distance_vector,debug=False):\n",
    "    \"\"\"\n",
    "    Lennard-Jones virial in d dimensions\n",
    "    \n",
    "    d is the embedding dimension. Needed to distinguish the case of 2 1d distance vectors from 1 2d distance vector.\n",
    "    \n",
    "    epsilon is the energy scale of the LJ potential and can be\n",
    "        a scalar for a single interaction or if all interactions have the same epsilon\n",
    "        an array of the length of the array of distance vectors\n",
    "        \n",
    "    sigma is the interaction range and can be\n",
    "        a scalar for a single interaction or if all interactions have the same epsilon\n",
    "        an array of the length of the array of distance vectors\n",
    "\n",
    "    distance_vector are the instanteneous distances \n",
    "        in d = 1 distance_vector = delta_x\n",
    "        in d>1 distance_vector has to be of the form distance_vector = (delta_x,delta_x) or distance_vector = [delta_x,delta_x]\n",
    "        where delta_x and delta_y can be    \n",
    "            a scalar for a single interaction\n",
    "            an array for several interactions to be evaluated simultaneously\n",
    "\n",
    "    The function returns -24*epsilon*(2*(sigma/r)**(-12)-(sigma/r)**-6) * distance_vector/r**2 \n",
    "        where f has the same format as distance_vector\n",
    "        and r = |distance_vector|\n",
    "    \"\"\"\n",
    "    eps = np.array(epsilon)       \n",
    "    sig = np.array(sigma)       \n",
    "    delta_r = np.array(distance_vector)       # array of scalar(d=1) or vector (d>1) distances\n",
    "    if debug: \n",
    "        print(delta_r)\n",
    "    delta_r_sqr = delta_r**2                              # array of Cartesian components of squared distances\n",
    "    if d > 1:\n",
    "        delta_r_sqr = np.sum(delta_r_sqr,axis=0)         # add up Cartesian components in d>1\n",
    "    relative_inverse_squared_distance = sigma**2/delta_r_sqr\n",
    "    w = 4*epsilon*(-12*relative_inverse_squared_distance**6 + 6*relative_inverse_squared_distance**3)\n",
    "    return w"
   ]
  },
  {
   "cell_type": "code",
   "execution_count": 51,
   "metadata": {
    "scrolled": false
   },
   "outputs": [
    {
     "name": "stdout",
     "output_type": "stream",
     "text": [
      "target value: \n",
      " 2.6540320106676942\n",
      " \n",
      " Single distance 1d \n",
      " 2.65403201067\n",
      "Single distance 2d \n",
      " 2.65403201067\n",
      " \n",
      " Configuration 1d \n",
      " 2.65403201067\n",
      "Configuration 2d \n",
      " 2.65403201067\n",
      " \n",
      " Trajectory 1d \n",
      " 2.65403201067\n",
      "Trajectory 2d \n",
      " 2.65403201067\n",
      " \n",
      " Ensemble of trajectories 1d \n",
      " 2.65403201067\n",
      "Ensemble of trajectories 2d \n",
      " 2.65403201067\n"
     ]
    }
   ],
   "source": [
    "r=2**(1./6)\n",
    "r=1.2\n",
    "print(\"target value: \\n\",4*(-12*r**(-12)+6*r**-6))\n",
    "\n",
    "# single distance\n",
    "x = r\n",
    "y = 0\n",
    "print(\" \\n Single distance 1d \\n\",\n",
    "      Virial_w_LJ(1,1,1,x))\n",
    "print(\"Single distance 2d \\n\",\n",
    "      Virial_w_LJ(2,1,1,(x,y)))\n",
    "\n",
    "# a configuration or list of distances \n",
    "x = [x,x,x,x]\n",
    "y = [y,y,y,y]\n",
    "print(\" \\n Configuration 1d \\n\",\n",
    "      Virial_w_LJ(1,1,1,x)[0])\n",
    "print(\"Configuration 2d \\n\",\n",
    "      Virial_w_LJ(2,1,1,(x,y))[0])\n",
    "\n",
    "# a trajectory or list of configurations \n",
    "x_tr = np.array([x,x,x])\n",
    "y_tr = np.array([y,y,y])\n",
    "print(\" \\n Trajectory 1d \\n\",\n",
    "      Virial_w_LJ(1,1,1,x_tr)[0,0])\n",
    "print(\"Trajectory 2d \\n\",\n",
    "      Virial_w_LJ(2,1,1,(x_tr,y_tr))[0,0])\n",
    "\n",
    "# an ensemble or list of trajectories\n",
    "x_tr_ens = np.array([x_tr,x_tr])\n",
    "y_tr_ens = np.array([y_tr,y_tr])\n",
    "print(\" \\n Ensemble of trajectories 1d \\n\",\n",
    "      Virial_w_LJ(1,1,1,x_tr_ens)[0,0,0])\n",
    "print(\"Ensemble of trajectories 2d \\n\",\n",
    "      Virial_w_LJ(2,1,1,(x_tr_ens,y_tr_ens))[0,0,0])\n"
   ]
  },
  {
   "cell_type": "markdown",
   "metadata": {},
   "source": [
    "Loop over all difference in particle index"
   ]
  },
  {
   "cell_type": "code",
   "execution_count": 47,
   "metadata": {},
   "outputs": [],
   "source": [
    "def LJ_virial_pressure_as_a_function_of_positions(d,epsilon,sigma,LBox,r,debug=False):\n",
    "    \"\"\"\n",
    "    returns the contribution to the scalar virial pressure resulting from LJ interactions as a function of the particle positions\n",
    "    \"\"\"\n",
    "    r_array = np.array(r)\n",
    "    N = r_array.shape[-1]\n",
    "    \n",
    "    # initialise pressure:\n",
    "    # one scalar value per system, i.e. same shape as adding up all x-coordinates per system\n",
    "    if d==1:\n",
    "        P = 0*np.copy(np.sum(r_array,axis=-1))     \n",
    "    else:\n",
    "        P = 0*np.copy(np.sum(r_array[0],axis=-1))  \n",
    "    \n",
    "    if debug:\n",
    "        print(\"N:\",N)\n",
    "        print(\"P.shape:\",P.shape)\n",
    "        print(\"P:\",P)\n",
    "    \n",
    "    for k in range(1,N):\n",
    "        delta_r_pair = MD.MinimumImage(LBox,r_array-np.roll(r_array,k,axis=-1))\n",
    "        wpair = Virial_w_LJ(d,epsilon,sigma,delta_r_pair)\n",
    "        \n",
    "        P -= np.sum(wpair,axis=-1)\n",
    "        \n",
    "    return P/2/LBox**d/d"
   ]
  },
  {
   "cell_type": "code",
   "execution_count": 48,
   "metadata": {},
   "outputs": [
    {
     "name": "stdout",
     "output_type": "stream",
     "text": [
      "LJ virial pressure: \n",
      " 20.825944424\n",
      "N: 100\n",
      "P.shape: (3,)\n",
      "P: [ 0.  0.  0.]\n",
      "trajectories of LJ virial pressures: \n",
      " [ 20.82594442  20.82594442  20.82594442]\n",
      "ensemble of trajectories of LJ virial pressures: \n",
      " [[ 20.82594442  20.82594442  20.82594442]\n",
      " [ 20.82594442  20.82594442  20.82594442]\n",
      " [ 20.82594442  20.82594442  20.82594442]\n",
      " [ 20.82594442  20.82594442  20.82594442]]\n"
     ]
    }
   ],
   "source": [
    "NParticles=100\n",
    "# net forces around missing particle\n",
    "LBox = 10\n",
    "\n",
    "# a single configuration\n",
    "x,y = MD.GridPositionsIn2d(LBox,LBox,NParticles)\n",
    "print(\"LJ virial pressure: \\n\",LJ_virial_pressure_as_a_function_of_positions(2,1.,1.,LBox,(x,y)))\n",
    "\n",
    "# trajectory: list of list of distances \n",
    "x_tr = np.array([x,x,x])\n",
    "y_tr = np.array([y,y,y])\n",
    "print(\"trajectories of LJ virial pressures: \\n\",LJ_virial_pressure_as_a_function_of_positions(2,1.,1.,LBox,(x_tr,y_tr),debug=True))\n",
    "\n",
    "# ensembles: lists of trajectories\n",
    "x_tr_ens = np.array([x_tr,x_tr,x_tr,x_tr])\n",
    "y_tr_ens = np.array([y_tr,y_tr,y_tr,y_tr])\n",
    "print(\"ensemble of trajectories of LJ virial pressures: \\n\",LJ_virial_pressure_as_a_function_of_positions(2,1.,1.,LBox,(x_tr_ens,y_tr_ens)))"
   ]
  },
  {
   "cell_type": "markdown",
   "metadata": {},
   "source": [
    "#### Version that uses the force routine"
   ]
  },
  {
   "cell_type": "code",
   "execution_count": 6,
   "metadata": {},
   "outputs": [],
   "source": [
    "def LJ_virial_pressure_as_a_function_of_positions(d,epsilon,sigma,LBox,r,debug=False):\n",
    "    \"\"\"\n",
    "    returns the contribution to the scalar virial pressure resulting from LJ interactions as a function of the particle positions\n",
    "    \"\"\"\n",
    "    r_array = np.array(r)\n",
    "    N = r_array.shape[-1]\n",
    "    \n",
    "    # initialise pressure:\n",
    "    # one scalar value per system, i.e. same shape as adding up all x-coordinates per system\n",
    "    if d==1:\n",
    "        P = 0*np.copy(np.sum(r_array,axis=-1))     \n",
    "    else:\n",
    "        P = 0*np.copy(np.sum(r_array[0],axis=-1))  \n",
    "    \n",
    "    if debug:\n",
    "        print(\"N:\",N)\n",
    "        print(\"P.shape:\",P.shape)\n",
    "        print(\"P:\",P)\n",
    "    \n",
    "    for k in range(1,N):\n",
    "        delta_r_pair = MD.MinimumImage(LBox,r_array-np.roll(r_array,k,axis=-1))\n",
    "        fpair = MD.f_LJ(d,epsilon,sigma,delta_r_pair)\n",
    "        if debug and k==1:\n",
    "            print(delta_r_pair.shape,fpair.shape,(fpair*delta_r_pair).shape)\n",
    "        if d==1:\n",
    "            # sum over pair interactions\n",
    "            P += np.sum(fpair*delta_r_pair,axis=-1)\n",
    "        else:\n",
    "            # sum over pair interactions and dimensions \n",
    "            P += np.sum( np.sum(fpair*delta_r_pair,axis=-1), axis=0)\n",
    "\n",
    "    return P/2/LBox**d/d"
   ]
  },
  {
   "cell_type": "markdown",
   "metadata": {},
   "source": [
    "Test that the function can be directly applied to trajectories or ensembles of trajectories"
   ]
  },
  {
   "cell_type": "code",
   "execution_count": 7,
   "metadata": {},
   "outputs": [
    {
     "name": "stdout",
     "output_type": "stream",
     "text": [
      "LJ virial pressure: \n",
      " 20.825944424\n",
      "trajectories of LJ virial pressures: \n",
      " [ 20.82594442  20.82594442  20.82594442]\n",
      "ensemble of trajectories of LJ virial pressures: \n",
      " [[ 20.82594442  20.82594442  20.82594442]\n",
      " [ 20.82594442  20.82594442  20.82594442]\n",
      " [ 20.82594442  20.82594442  20.82594442]\n",
      " [ 20.82594442  20.82594442  20.82594442]]\n"
     ]
    }
   ],
   "source": [
    "NParticles=100\n",
    "# net forces around missing particle\n",
    "LBox = 10\n",
    "\n",
    "# a single configuration\n",
    "x,y = MD.GridPositionsIn2d(LBox,LBox,NParticles)\n",
    "print(\"LJ virial pressure: \\n\",LJ_virial_pressure_as_a_function_of_positions(2,1.,1.,LBox,(x,y)))\n",
    "\n",
    "# trajectory: list of list of distances \n",
    "x_tr = np.array([x,x,x])\n",
    "y_tr = np.array([y,y,y])\n",
    "print(\"trajectories of LJ virial pressures: \\n\",LJ_virial_pressure_as_a_function_of_positions(2,1.,1.,LBox,(x_tr,y_tr)))\n",
    "\n",
    "# ensembles: lists of trajectories\n",
    "x_tr_ens = np.array([x_tr,x_tr,x_tr,x_tr])\n",
    "y_tr_ens = np.array([y_tr,y_tr,y_tr,y_tr])\n",
    "print(\"ensemble of trajectories of LJ virial pressures: \\n\",LJ_virial_pressure_as_a_function_of_positions(2,1.,1.,LBox,(x_tr_ens,y_tr_ens)))"
   ]
  },
  {
   "cell_type": "markdown",
   "metadata": {},
   "source": [
    "### Test: nearest neighbor contribution to the LJ pressure for a regular grid with lattice constant $a$"
   ]
  },
  {
   "cell_type": "markdown",
   "metadata": {},
   "source": [
    "Per particle: \n",
    "\n",
    "\\begin{equation}\n",
    "P = \\frac1{2 a^2} 2 a f_{LJ}(a) = \\frac{f_{LJ}(a)}{a}\n",
    "\\end{equation}\n",
    "\n",
    "Similarly we have for the energy per particle\n",
    "\n",
    "\\begin{equation}\n",
    "U/N = 2 u_{LJ}(a)\n",
    "\\end{equation}\n",
    "\n",
    "On our square grid next nearest neighbors are located at a distance of $\\sqrt{2} a$:\n",
    "\n",
    "\\begin{equation}\n",
    "P += \\frac1{2 a^2} 2 (\\sqrt{2}a) f_{LJ}(\\sqrt{2}a) = \\frac{\\sqrt{2}f_{LJ}(\\sqrt{2}a)}{a}\n",
    "\\end{equation}\n"
   ]
  },
  {
   "cell_type": "code",
   "execution_count": 8,
   "metadata": {
    "scrolled": false
   },
   "outputs": [
    {
     "data": {
      "image/png": "[encoded data removed]",
      "text/plain": [
       "<Figure size 432x288 with 1 Axes>"
      ]
     },
     "metadata": {
      "needs_background": "light"
     },
     "output_type": "display_data"
    },
    {
     "data": {
      "image/png": "[encoded data removed]",
      "text/plain": [
       "<Figure size 432x288 with 1 Axes>"
      ]
     },
     "metadata": {
      "needs_background": "light"
     },
     "output_type": "display_data"
    }
   ],
   "source": [
    "NParticles=100\n",
    "epsilon=1.\n",
    "sigma=1.\n",
    "\n",
    "a_tr = []\n",
    "# calculated pressure, expected values taking into account nearest neighbor (NN) and next nearest neighbor (NNN) interactions\n",
    "P_tr = []\n",
    "PNN_tr = []\n",
    "PNNN_tr = []\n",
    "# calculated energy, expected values taking into account nearest neighbor (NN) and next nearest neighbor (NNN) interactions\n",
    "u_tr = []\n",
    "uNN_tr = []\n",
    "uNNN_tr = []\n",
    "\n",
    "for l in range(20):\n",
    "    LBox = 10+0.2*l\n",
    "    a = LBox/np.sqrt(NParticles)\n",
    "    a_tr.append(a)\n",
    "    x,y = MD.GridPositionsIn2d(LBox,LBox,NParticles)\n",
    "\n",
    "    P = LJ_virial_pressure_as_a_function_of_positions(2,epsilon,sigma,LBox,(x,y))\n",
    "    P_tr.append(P)\n",
    "    PNN_tr.append(MD.f_LJ(1,epsilon,sigma,a)/a)\n",
    "    PNNN_tr.append(MD.f_LJ(1,epsilon,sigma,a)/a + np.sqrt(2)*MD.f_LJ(1,epsilon,sigma,a*np.sqrt(2))/a)\n",
    "\n",
    "    u = np.sum(MD.LJ_energy_as_a_function_of_positions(2,epsilon,sigma,LBox,(x,y)))/NParticles\n",
    "    u_tr.append(u)\n",
    "    uNN_tr.append(2*MD.U_LJ(1,epsilon,sigma,a))\n",
    "    uNNN_tr.append(2*MD.U_LJ(1,epsilon,sigma,a)+2*MD.U_LJ(1,epsilon,sigma,a*np.sqrt(2)))\n",
    "\n",
    "plt.plot(a_tr,P_tr,label=\"calculated\")\n",
    "plt.plot(a_tr,PNN_tr,label=\"NN\")\n",
    "plt.plot(a_tr,PNNN_tr,label=\"NNN\")\n",
    "plt.title(\"Pressure\")\n",
    "plt.xlabel(\"a\")\n",
    "plt.ylabel(\"P(a)\")\n",
    "plt.legend()\n",
    "plt.show()\n",
    "\n",
    "plt.plot(a_tr,u_tr,label=\"calculated\")\n",
    "plt.plot(a_tr,uNN_tr,label=\"NN\")\n",
    "plt.plot(a_tr,uNNN_tr,label=\"NNN\")\n",
    "plt.title(\"Internal energy per particle\")\n",
    "plt.xlabel(\"a\")\n",
    "plt.ylabel(\"U(a)/N\")\n",
    "plt.legend()\n",
    "plt.show()"
   ]
  },
  {
   "cell_type": "markdown",
   "metadata": {},
   "source": [
    "## Pressure tensor"
   ]
  },
  {
   "cell_type": "code",
   "execution_count": 9,
   "metadata": {},
   "outputs": [],
   "source": [
    "def LJ_virial_pressure_tensor_as_a_function_of_positions(d,epsilon,sigma,LBox,r,debug=False):\n",
    "    \"\"\"\n",
    "    returns the contribution to the scalar virial pressure resulting from LJ interactions as a function of the particle positions\n",
    "    \"\"\"\n",
    "    r_array = np.array(r)\n",
    "    N = r_array.shape[-1]\n",
    "    \n",
    "    if d==1:\n",
    "        P = 0*np.copy(np.sum(r_array,axis=-1))     \n",
    "        # initialise pressure:\n",
    "        # one scalar value per system, i.e. same shape as adding up all x-coordinates per system\n",
    "\n",
    "        for k in range(1,N):\n",
    "\n",
    "            delta_r_pair = MD.MinimumImage(LBox,r_array-np.roll(r_array,k,axis=-1))\n",
    "            fpair = MD.f_LJ(d,epsilon,sigma,delta_r_pair)\n",
    "            \n",
    "            if debug and k==1:\n",
    "                print(\"N:\",N)\n",
    "                print(\"P.shape:\",P.shape)\n",
    "                print(\"P:\",P)\n",
    "                print(delta_r_pair.shape,fpair.shape,(fpair*delta_r_pair).shape)\n",
    "\n",
    "            # sum over pair interactions\n",
    "            P += np.sum(fpair*delta_r_pair,axis=-1)\n",
    "\n",
    "        P /= 2*LBox**d*d \n",
    "        return P\n",
    "                    \n",
    "    if d==2:\n",
    "        Pxx = 0*np.sum(r_array[0],axis=-1)\n",
    "        Pxy = 0*np.copy(np.sum(r_array[0],axis=-1))  \n",
    "        Pyx = 0*np.copy(np.sum(r_array[0],axis=-1))  \n",
    "        Pyy = 0*np.copy(np.sum(r_array[0],axis=-1))  \n",
    "        # initialise components of pressure tensor:\n",
    "        # one scalar value per system, i.e. same shape as adding up all x-coordinates per system\n",
    "\n",
    "        for k in range(1,N):\n",
    "\n",
    "            delta_r_pair = MD.MinimumImage(LBox,r_array-np.roll(r_array,k,axis=-1))\n",
    "            fpair = MD.f_LJ(d,epsilon,sigma,delta_r_pair)\n",
    "            \n",
    "            if debug and k==1:\n",
    "                print(\"N:\",N)\n",
    "                print(\"Pxx.shape:\",Pxx.shape)\n",
    "                print(\"Pxx:\",Pxx)\n",
    "                print(delta_r_pair.shape,fpair.shape,(fpair*delta_r_pair).shape)\n",
    "\n",
    "            # sum over pair interactions and dimensions \n",
    "            Pxx += np.sum(fpair[0]*delta_r_pair[0],axis=-1)\n",
    "            Pxy += np.sum(fpair[0]*delta_r_pair[1],axis=-1)\n",
    "            Pyx += np.sum(fpair[1]*delta_r_pair[0],axis=-1)\n",
    "            Pyy += np.sum(fpair[1]*delta_r_pair[1],axis=-1)\n",
    "\n",
    "        Pxx /= 2*LBox**d*d   \n",
    "        Pxy /= 2*LBox**d*d  \n",
    "        Pyx /= 2*LBox**d*d   \n",
    "        Pyy /= 2*LBox**d*d \n",
    "        \n",
    "        return [[Pxx,Pxy],[Pyx,Pyy]]\n",
    "        \n",
    "    else:\n",
    "        print(\"LJ_virial_pressure_tensor_as_a_function_of_positions not defined for d = \",d)\n",
    "\n",
    "    return"
   ]
  },
  {
   "cell_type": "code",
   "execution_count": 10,
   "metadata": {
    "scrolled": false
   },
   "outputs": [
    {
     "name": "stdout",
     "output_type": "stream",
     "text": [
      "LJ pressure: \n",
      " 20.825944424\n",
      "LJ pressure tensor: \n",
      " [[10.412972211975111, -3.552713678800501e-17], [-3.552713678800501e-17, 10.412972211975118]]\n",
      "trajectories of LJ pressure tensor components: \n",
      " [[array([ 10.41297221,  10.41297221,  10.41297221]), array([ -3.55271368e-17,  -3.55271368e-17,  -3.55271368e-17])], [array([ -3.55271368e-17,  -3.55271368e-17,  -3.55271368e-17]), array([ 10.41297221,  10.41297221,  10.41297221])]]\n",
      "ensemble of trajectories of LJ pressure tensor components: \n",
      " [[array([[ 10.41297221,  10.41297221,  10.41297221],\n",
      "       [ 10.41297221,  10.41297221,  10.41297221],\n",
      "       [ 10.41297221,  10.41297221,  10.41297221],\n",
      "       [ 10.41297221,  10.41297221,  10.41297221]]), array([[ -3.55271368e-17,  -3.55271368e-17,  -3.55271368e-17],\n",
      "       [ -3.55271368e-17,  -3.55271368e-17,  -3.55271368e-17],\n",
      "       [ -3.55271368e-17,  -3.55271368e-17,  -3.55271368e-17],\n",
      "       [ -3.55271368e-17,  -3.55271368e-17,  -3.55271368e-17]])], [array([[ -3.55271368e-17,  -3.55271368e-17,  -3.55271368e-17],\n",
      "       [ -3.55271368e-17,  -3.55271368e-17,  -3.55271368e-17],\n",
      "       [ -3.55271368e-17,  -3.55271368e-17,  -3.55271368e-17],\n",
      "       [ -3.55271368e-17,  -3.55271368e-17,  -3.55271368e-17]]), array([[ 10.41297221,  10.41297221,  10.41297221],\n",
      "       [ 10.41297221,  10.41297221,  10.41297221],\n",
      "       [ 10.41297221,  10.41297221,  10.41297221],\n",
      "       [ 10.41297221,  10.41297221,  10.41297221]])]]\n"
     ]
    }
   ],
   "source": [
    "NParticles=100\n",
    "# net forces around missing particle\n",
    "LBox = 10\n",
    "\n",
    "# a single configuration\n",
    "x,y = MD.GridPositionsIn2d(LBox,LBox,NParticles)\n",
    "print(\"LJ pressure: \\n\",LJ_virial_pressure_as_a_function_of_positions(2,1.,1.,LBox,(x,y)))\n",
    "print(\"LJ pressure tensor: \\n\",LJ_virial_pressure_tensor_as_a_function_of_positions(2,1.,1.,LBox,(x,y)))\n",
    "\n",
    "# trajectory: list of list of distances \n",
    "x_tr = np.array([x,x,x])\n",
    "y_tr = np.array([y,y,y])\n",
    "print(\"trajectories of LJ pressure tensor components: \\n\",LJ_virial_pressure_tensor_as_a_function_of_positions(2,1.,1.,LBox,(x_tr,y_tr)))\n",
    "\n",
    "# ensembles: lists of trajectories\n",
    "x_tr_ens = np.array([x_tr,x_tr,x_tr,x_tr])\n",
    "y_tr_ens = np.array([y_tr,y_tr,y_tr,y_tr])\n",
    "print(\"ensemble of trajectories of LJ pressure tensor components: \\n\",LJ_virial_pressure_tensor_as_a_function_of_positions(2,1.,1.,LBox,(x_tr_ens,y_tr_ens)))"
   ]
  },
  {
   "cell_type": "markdown",
   "metadata": {},
   "source": [
    "### Converting trajectories of tensor components into a trajectory of tensors"
   ]
  },
  {
   "cell_type": "markdown",
   "metadata": {},
   "source": [
    "Applying these functions to an (ensemble) of trajectories produces distinct (ensembles) of trajectories for the time evolution of the components Pxx_tr_ens, etc. of the pressure tensor.\n",
    "\n",
    "To convert them into (ensembles) of trajectories of the time evolution of the pressure tensor, we need to rearange the indices in a NumPy array"
   ]
  },
  {
   "cell_type": "code",
   "execution_count": 11,
   "metadata": {},
   "outputs": [
    {
     "name": "stdout",
     "output_type": "stream",
     "text": [
      "[[10.412972211975111, -3.552713678800501e-17], [-3.552713678800501e-17, 10.412972211975118]]\n",
      "[[  1.04129722e+01  -3.55271368e-17]\n",
      " [ -3.55271368e-17   1.04129722e+01]]\n"
     ]
    }
   ],
   "source": [
    "((Pxx_tr,Pxy_tr),(Pyx_tr,Pyy_tr)) = LJ_virial_pressure_tensor_as_a_function_of_positions(2,1.,1.,LBox,(x_tr,y_tr))\n",
    "\n",
    "print([[Pxx_tr[0],Pxy_tr[0]],[Pyx_tr[0],Pyy_tr[0]]])\n",
    "\n",
    "P_tensor_tr = np.transpose(np.array(((Pxx_tr,Pxy_tr),(Pyx_tr,Pyy_tr))),(-1,0,1))\n",
    "\n",
    "print(P_tensor_tr[0])"
   ]
  },
  {
   "cell_type": "code",
   "execution_count": 12,
   "metadata": {},
   "outputs": [
    {
     "name": "stdout",
     "output_type": "stream",
     "text": [
      "[[10.412972211975111, -3.552713678800501e-17], [-3.552713678800501e-17, 10.412972211975118]]\n"
     ]
    },
    {
     "data": {
      "text/plain": [
       "array([[  1.04129722e+01,  -3.55271368e-17],\n",
       "       [ -3.55271368e-17,   1.04129722e+01]])"
      ]
     },
     "execution_count": 12,
     "metadata": {},
     "output_type": "execute_result"
    }
   ],
   "source": [
    "((Pxx_tr_ens,Pxy_tr_ens),(Pyx_tr_ens,Pyy_tr_ens)) = LJ_virial_pressure_tensor_as_a_function_of_positions(2,1.,1.,LBox,(x_tr_ens,y_tr_ens))\n",
    "\n",
    "print([[Pxx_tr_ens[0,0],Pxy_tr_ens[0,0]],[Pyx_tr_ens[0,0],Pyy_tr_ens[0,0]]])\n",
    "\n",
    "P_tensor_tr_ens = np.transpose(np.array( ((Pxx_tr_ens,Pxy_tr_ens),(Pyx_tr_ens,Pyy_tr_ens)) ),(-2,-1,0,1))\n",
    "\n",
    "P_tensor_tr_ens[0,0]"
   ]
  },
  {
   "cell_type": "markdown",
   "metadata": {},
   "source": [
    "# The hypervirial"
   ]
  },
  {
   "cell_type": "markdown",
   "metadata": {},
   "source": [
    "In the case of the Lennard-Jones interaction:\n",
    "\n",
    "\\begin{eqnarray}\n",
    "v(r) &=&= 4\\epsilon \\left(\\left(\\frac\\sigma{r}\\right)^{12} - \\left(\\frac\\sigma{r}\\right)^6 \\right) \\\\\n",
    "w(r) &=&= 4\\epsilon \\left(-12\\left(\\frac\\sigma{r}\\right)^{12} +6 \\left(\\frac\\sigma{r}\\right)^6 \\right) \\\\\n",
    "{\\cal x}(r) &=&= 4\\epsilon \\left(12^2\\left(\\frac\\sigma{r}\\right)^{12} -6^2 \\left(\\frac\\sigma{r}\\right)^6 \\right) \\\\\n",
    "\\end{eqnarray}"
   ]
  },
  {
   "cell_type": "markdown",
   "metadata": {},
   "source": [
    "### Contribution of LJ interactions to the hypervirial"
   ]
  },
  {
   "cell_type": "code",
   "execution_count": 49,
   "metadata": {},
   "outputs": [],
   "source": [
    "def HyperVirial_x_LJ(d,epsilon,sigma,distance_vector,debug=False):\n",
    "    \"\"\"\n",
    "    Lennard-Jones hyper virial in d dimensions\n",
    "    \n",
    "    d is the embedding dimension. Needed to distinguish the case of 2 1d distance vectors from 1 2d distance vector.\n",
    "    \n",
    "    epsilon is the energy scale of the LJ potential and can be\n",
    "        a scalar for a single interaction or if all interactions have the same epsilon\n",
    "        an array of the length of the array of distance vectors\n",
    "        \n",
    "    sigma is the interaction range and can be\n",
    "        a scalar for a single interaction or if all interactions have the same epsilon\n",
    "        an array of the length of the array of distance vectors\n",
    "\n",
    "    distance_vector are the instanteneous distances \n",
    "        in d = 1 distance_vector = delta_x\n",
    "        in d>1 distance_vector has to be of the form distance_vector = (delta_x,delta_x) or distance_vector = [delta_x,delta_x]\n",
    "        where delta_x and delta_y can be    \n",
    "            a scalar for a single interaction\n",
    "            an array for several interactions to be evaluated simultaneously\n",
    "\n",
    "    The function returns -24*epsilon*(2*(sigma/r)**(-12)-(sigma/r)**-6) * distance_vector/r**2 \n",
    "        where f has the same format as distance_vector\n",
    "        and r = |distance_vector|\n",
    "    \"\"\"\n",
    "    eps = np.array(epsilon)       \n",
    "    sig = np.array(sigma)       \n",
    "    delta_r = np.array(distance_vector)       # array of scalar(d=1) or vector (d>1) distances\n",
    "    if debug: \n",
    "        print(delta_r)\n",
    "    delta_r_sqr = delta_r**2                              # array of Cartesian components of squared distances\n",
    "    if d > 1:\n",
    "        delta_r_sqr = np.sum(delta_r_sqr,axis=0)         # add up Cartesian components in d>1\n",
    "    relative_inverse_squared_distance = sigma**2/delta_r_sqr\n",
    "    x = 4*epsilon*(144*relative_inverse_squared_distance**6 - 36*relative_inverse_squared_distance**3)\n",
    "    return x"
   ]
  },
  {
   "cell_type": "code",
   "execution_count": 50,
   "metadata": {},
   "outputs": [
    {
     "name": "stdout",
     "output_type": "stream",
     "text": [
      "target value: \n",
      " 16.376924513962997\n",
      " \n",
      " Single distance 1d \n",
      " 16.376924514\n",
      "Single distance 2d \n",
      " 16.376924514\n",
      " \n",
      " Configuration 1d \n",
      " 16.376924514\n",
      "Configuration 2d \n",
      " 16.376924514\n",
      " \n",
      " Trajectory 1d \n",
      " 16.376924514\n",
      "Trajectory 2d \n",
      " 16.376924514\n",
      " \n",
      " Ensemble of trajectories 1d \n",
      " 16.376924514\n",
      "Ensemble of trajectories 2d \n",
      " 16.376924514\n"
     ]
    }
   ],
   "source": [
    "r=2**(1./6)\n",
    "r=1.2\n",
    "print(\"target value: \\n\",4*(12**2 *r**(-12) - 6**2*r**-6))\n",
    "\n",
    "# single distance\n",
    "x = r\n",
    "y = 0\n",
    "print(\" \\n Single distance 1d \\n\",\n",
    "      HyperVirial_x_LJ(1,1,1,x))\n",
    "print(\"Single distance 2d \\n\",\n",
    "      HyperVirial_x_LJ(2,1,1,(x,y)))\n",
    "\n",
    "# a configuration or list of distances \n",
    "x = [x,x,x,x]\n",
    "y = [y,y,y,y]\n",
    "print(\" \\n Configuration 1d \\n\",\n",
    "      HyperVirial_x_LJ(1,1,1,x)[0])\n",
    "print(\"Configuration 2d \\n\",\n",
    "      HyperVirial_x_LJ(2,1,1,(x,y))[0])\n",
    "\n",
    "# a trajectory or list of configurations \n",
    "x_tr = np.array([x,x,x])\n",
    "y_tr = np.array([y,y,y])\n",
    "print(\" \\n Trajectory 1d \\n\",\n",
    "      HyperVirial_x_LJ(1,1,1,x_tr)[0,0])\n",
    "print(\"Trajectory 2d \\n\",\n",
    "      HyperVirial_x_LJ(2,1,1,(x_tr,y_tr))[0,0])\n",
    "\n",
    "# an ensemble or list of trajectories\n",
    "x_tr_ens = np.array([x_tr,x_tr])\n",
    "y_tr_ens = np.array([y_tr,y_tr])\n",
    "print(\" \\n Ensemble of trajectories 1d \\n\",\n",
    "      HyperVirial_x_LJ(1,1,1,x_tr_ens)[0,0,0])\n",
    "print(\"Ensemble of trajectories 2d \\n\",\n",
    "      HyperVirial_x_LJ(2,1,1,(x_tr_ens,y_tr_ens))[0,0,0])\n"
   ]
  },
  {
   "cell_type": "code",
   "execution_count": 52,
   "metadata": {},
   "outputs": [],
   "source": [
    "def LJ_hyper_virial_as_a_function_of_positions(d,epsilon,sigma,LBox,r,debug=False):\n",
    "    \"\"\"\n",
    "    returns the contribution to the scalar hyper virial resulting from LJ interactions as a function of the particle positions\n",
    "    \"\"\"\n",
    "    r_array = np.array(r)\n",
    "    N = r_array.shape[-1]\n",
    "    \n",
    "    # initialise pressure:\n",
    "    # one scalar value per system, i.e. same shape as adding up all x-coordinates per system\n",
    "    if d==1:\n",
    "        P = 0*np.copy(np.sum(r_array,axis=-1))     \n",
    "    else:\n",
    "        P = 0*np.copy(np.sum(r_array[0],axis=-1))  \n",
    "    \n",
    "    if debug:\n",
    "        print(\"N:\",N)\n",
    "        print(\"P.shape:\",P.shape)\n",
    "        print(\"P:\",P)\n",
    "    \n",
    "    for k in range(1,N):\n",
    "        delta_r_pair = MD.MinimumImage(LBox,r_array-np.roll(r_array,k,axis=-1))\n",
    "        xpair = HyperVirial_x_LJ(d,epsilon,sigma,delta_r_pair)\n",
    "        \n",
    "        P += np.sum(xpair,axis=-1)\n",
    "        \n",
    "    return P/2/LBox**d/d**2"
   ]
  },
  {
   "cell_type": "markdown",
   "metadata": {},
   "source": [
    "Test that the function can be directly applied to trajectories or ensembles of trajectories"
   ]
  },
  {
   "cell_type": "code",
   "execution_count": 54,
   "metadata": {},
   "outputs": [
    {
     "name": "stdout",
     "output_type": "stream",
     "text": [
      "LJ virial pressure: \n",
      " 208.782621158\n",
      "trajectories of LJ virial pressures: \n",
      " [ 208.78262116  208.78262116  208.78262116]\n",
      "ensemble of trajectories of LJ virial pressures: \n",
      " [[ 208.78262116  208.78262116  208.78262116]\n",
      " [ 208.78262116  208.78262116  208.78262116]\n",
      " [ 208.78262116  208.78262116  208.78262116]\n",
      " [ 208.78262116  208.78262116  208.78262116]]\n"
     ]
    }
   ],
   "source": [
    "NParticles=100\n",
    "# net forces around missing particle\n",
    "LBox = 10\n",
    "\n",
    "# a single configuration\n",
    "x,y = MD.GridPositionsIn2d(LBox,LBox,NParticles)\n",
    "print(\"LJ virial pressure: \\n\",LJ_hyper_virial_as_a_function_of_positions(2,1.,1.,LBox,(x,y)))\n",
    "\n",
    "# trajectory: list of list of distances \n",
    "x_tr = np.array([x,x,x])\n",
    "y_tr = np.array([y,y,y])\n",
    "print(\"trajectories of LJ virial pressures: \\n\",LJ_hyper_virial_as_a_function_of_positions(2,1.,1.,LBox,(x_tr,y_tr)))\n",
    "\n",
    "# ensembles: lists of trajectories\n",
    "x_tr_ens = np.array([x_tr,x_tr,x_tr,x_tr])\n",
    "y_tr_ens = np.array([y_tr,y_tr,y_tr,y_tr])\n",
    "print(\"ensemble of trajectories of LJ virial pressures: \\n\",LJ_hyper_virial_as_a_function_of_positions(2,1.,1.,LBox,(x_tr_ens,y_tr_ens)))"
   ]
  },
  {
   "cell_type": "code",
   "execution_count": null,
   "metadata": {},
   "outputs": [],
   "source": []
  }
 ],
 "metadata": {
  "kernelspec": {
   "display_name": "Python 3",
   "language": "python",
   "name": "python3"
  },
  "language_info": {
   "codemirror_mode": {
    "name": "ipython",
    "version": 3
   },
   "file_extension": ".py",
   "mimetype": "text/x-python",
   "name": "python",
   "nbconvert_exporter": "python",
   "pygments_lexer": "ipython3",
   "version": "3.5.6"
  }
 },
 "nbformat": 4,
 "nbformat_minor": 2
}
