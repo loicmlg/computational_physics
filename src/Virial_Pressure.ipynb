{
 "cells": [
  {
   "cell_type": "markdown",
   "metadata": {},
   "source": [
    "# The Virial Pressure"
   ]
  },
  {
   "cell_type": "markdown",
   "metadata": {},
   "source": [
    "Ralf Everaers, ENS Lyon (2022)"
   ]
  },
  {
   "cell_type": "markdown",
   "metadata": {},
   "source": [
    "## Pressure"
   ]
  },
  {
   "cell_type": "markdown",
   "metadata": {},
   "source": [
    "We have already encountered an estimator of the temperature based on the equipartition theorem for the kinetic energy and the analysis of the instanteneous particle velocities.\n",
    "\n",
    "\n",
    "A corresponding estimator for the instantaneous pressure in the systems with pair interactions is given by\n",
    "\n",
    "\\begin{equation}\n",
    "P(t) = P\\left(\\{\\vec r_i(t),\\vec v_i(t)\\}\\right) \n",
    "= \\frac1{d V} \\left[ \\sum_i m_i \\left|\\vec v_i \\right|^2 \n",
    "                    + \\sum_{i<j} \\vec f_{ij}\\cdot\\vec r_{ij} \\right]\n",
    "\\end{equation}\n",
    "\n",
    "The above expression applies to homogneous systems and particles interacting via pair potentials and can be conveniently applied for periodic boundary conditions."
   ]
  },
  {
   "cell_type": "code",
   "execution_count": 1,
   "metadata": {},
   "outputs": [],
   "source": [
    "# Import standard libraries\n",
    "import numpy as np\n",
    "from scipy.special import gamma\n",
    "import matplotlib.pyplot as plt\n",
    "from matplotlib import animation, cm, colors, rc\n",
    "import random\n",
    "import time\n",
    "from imp import reload\n",
    "rc('animation', html='html5')\n",
    "\n",
    "# Import library of our own functions\n",
    "import MPCMolecularDynamics as MD\n",
    "reload(MD)\n",
    "\n",
    "#Include plots into notebook instead of plotting them in extra window\n",
    "%matplotlib inline "
   ]
  },
  {
   "cell_type": "markdown",
   "metadata": {},
   "source": [
    "### Kinetic (ideal gas) pressure"
   ]
  },
  {
   "cell_type": "code",
   "execution_count": 2,
   "metadata": {},
   "outputs": [],
   "source": [
    "def KineticPressure_as_a_function_of_velocities(d,LBox,m,v,debug=False):\n",
    "    \"\"\"\n",
    "    returns the kinetic contribution to the virial pressure as a function of the particle velocities\n",
    "    \"\"\"\n",
    "    v = np.array(v)\n",
    "    N = v.shape[-1]\n",
    "    V = LBox**d\n",
    "    \n",
    "    if debug:\n",
    "        print(N,d,V)\n",
    "    \n",
    "    if d==1:\n",
    "        # sum over particles\n",
    "        P = np.sum(m*v*v/d/V,axis=-1)   \n",
    "    else:\n",
    "        # sum over particles and dimensions\n",
    "        if debug:\n",
    "            print(np.sum(m*v*v/d/V,axis=-1).shape)\n",
    "        P = np.sum( np.sum(m*v*v/d/V,axis=-1), axis=0)       \n",
    "    return P"
   ]
  },
  {
   "cell_type": "markdown",
   "metadata": {},
   "source": [
    "Test: The expectation value is given by the ideal gas law\n",
    "\n",
    "\\begin{equation}\n",
    "\\langle P(t) \\rangle = \\rho k_BT\n",
    "\\end{equation}"
   ]
  },
  {
   "cell_type": "code",
   "execution_count": 3,
   "metadata": {},
   "outputs": [
    {
     "name": "stdout",
     "output_type": "stream",
     "text": [
      "1d kinetic pressure: \n",
      " 100.0 99.07621819656015\n",
      "trajectories of 1d pressures: \n",
      " 100.0 [99.0762182 99.0762182 99.0762182]\n",
      "ensemble of trajectories of 1d pressures: \n",
      " 100.0 [[99.0762182 99.0762182 99.0762182]\n",
      " [99.0762182 99.0762182 99.0762182]\n",
      " [99.0762182 99.0762182 99.0762182]\n",
      " [99.0762182 99.0762182 99.0762182]]\n",
      "\n",
      "\n",
      "2d kinetic pressure: \n",
      " 10.0 9.74839921597474\n",
      "trajectories of 2d pressures: \n",
      " 10.0 [9.74839922 9.74839922 9.74839922]\n",
      "ensemble of trajectories of 2d pressures: \n",
      " 10.0 [[9.74839922 9.74839922 9.74839922]\n",
      " [9.74839922 9.74839922 9.74839922]\n",
      " [9.74839922 9.74839922 9.74839922]\n",
      " [9.74839922 9.74839922 9.74839922]]\n"
     ]
    }
   ],
   "source": [
    "NParticles=1000\n",
    "LBox = 10\n",
    "kT = 1.\n",
    "m = np.ones(NParticles)\n",
    "\n",
    "# a single configuration\n",
    "vx = MD.RandomVelocities(m,kT)\n",
    "vy = MD.RandomVelocities(m,kT)\n",
    "\n",
    "# trajectory: list of configurations\n",
    "vx_tr = np.array([vx,vx,vx])\n",
    "vy_tr = np.array([vy,vy,vy])\n",
    "\n",
    "# ensembles: lists of trajectories\n",
    "vx_tr_ens = np.array([vx_tr,vx_tr,vx_tr,vx_tr])\n",
    "vy_tr_ens = np.array([vy_tr,vy_tr,vy_tr,vy_tr])\n",
    "\n",
    "print(\"1d kinetic pressure: \\n\",\n",
    "      (kT*NParticles/LBox),\n",
    "      KineticPressure_as_a_function_of_velocities(1,LBox,m,vx))\n",
    "print(\"trajectories of 1d pressures: \\n\",\n",
    "      (kT*NParticles/LBox),\n",
    "      KineticPressure_as_a_function_of_velocities(1,LBox,m,vx_tr))\n",
    "print(\"ensemble of trajectories of 1d pressures: \\n\",\n",
    "      (kT*NParticles/LBox),\n",
    "      KineticPressure_as_a_function_of_velocities(1,LBox,m,vx_tr_ens))\n",
    "\n",
    "print(\"\\n\")\n",
    "\n",
    "print(\"2d kinetic pressure: \\n\",\n",
    "      (kT*NParticles/LBox**2),\n",
    "      KineticPressure_as_a_function_of_velocities(2,LBox,m,(vx,vy)))\n",
    "print(\"trajectories of 2d pressures: \\n\",\n",
    "      (kT*NParticles/LBox**2),\n",
    "      KineticPressure_as_a_function_of_velocities(2,LBox,m,(vx_tr,vy_tr)))\n",
    "print(\"ensemble of trajectories of 2d pressures: \\n\",\n",
    "      (kT*NParticles/LBox**2),\n",
    "      KineticPressure_as_a_function_of_velocities(2,LBox,m,(vx_tr_ens,vy_tr_ens)))"
   ]
  },
  {
   "cell_type": "code",
   "execution_count": 4,
   "metadata": {},
   "outputs": [],
   "source": [
    "def KineticPressure_tensor_as_a_function_of_velocities(d,LBox,m,vel,debug=False):\n",
    "    \"\"\"\n",
    "    returns the kinetic contribution to the pressure tensor as a function of the particle velocities\n",
    "    \"\"\"\n",
    "    v = np.array(vel)\n",
    "    N = v.shape[-1]\n",
    "    V = LBox**d\n",
    "    \n",
    "    if debug:\n",
    "        print(N,d,V)\n",
    "    \n",
    "    if d==1:\n",
    "        # sum over particles\n",
    "        P = np.sum(m*v*v/d/V,axis=-1)   \n",
    "        return P\n",
    "    elif d==2:\n",
    "        # sum over particles\n",
    "        if debug:\n",
    "            print(np.sum(m*v*v/d/V,axis=-1).shape)\n",
    "        Pxx = np.sum(m*v[0]*v[0]/d/V,axis=-1)\n",
    "        Pxy = np.sum(m*v[0]*v[1]/d/V,axis=-1)\n",
    "        Pyx = np.sum(m*v[1]*v[0]/d/V,axis=-1)\n",
    "        Pyy = np.sum(m*v[1]*v[1]/d/V,axis=-1)\n",
    "        return [[Pxx,Pxy],[Pyx,Pyy]]\n",
    "\n",
    "    else:\n",
    "        print(\"KineticPressure_tensor_as_a_function_of_velocities not defined for d = \",d)\n",
    "\n",
    "    return"
   ]
  },
  {
   "cell_type": "code",
   "execution_count": 5,
   "metadata": {},
   "outputs": [
    {
     "name": "stdout",
     "output_type": "stream",
     "text": [
      "1d kinetic pressure: \n",
      " 100.0 95.25857362397832\n",
      "trajectories of 1d pressures: \n",
      " 100.0 [95.25857362 95.25857362 95.25857362]\n",
      "ensemble of trajectories of 1d pressures: \n",
      " 100.0 [[95.25857362 95.25857362 95.25857362]\n",
      " [95.25857362 95.25857362 95.25857362]\n",
      " [95.25857362 95.25857362 95.25857362]\n",
      " [95.25857362 95.25857362 95.25857362]]\n",
      "\n",
      "\n",
      "2d kinetic pressure tensor components: \n",
      " 10.0 [[4.7629286811989155, -0.25828613014848545], [-0.25828613014848545, 4.912323625322046]]\n",
      "trajectories of 2d pressure tensor components: \n",
      " 10.0 [[array([4.76292868, 4.76292868, 4.76292868]), array([-0.25828613, -0.25828613, -0.25828613])], [array([-0.25828613, -0.25828613, -0.25828613]), array([4.91232363, 4.91232363, 4.91232363])]]\n",
      "ensemble of trajectories of 2d pressure tensor components: \n",
      " 10.0 [[array([[4.76292868, 4.76292868, 4.76292868],\n",
      "       [4.76292868, 4.76292868, 4.76292868],\n",
      "       [4.76292868, 4.76292868, 4.76292868],\n",
      "       [4.76292868, 4.76292868, 4.76292868]]), array([[-0.25828613, -0.25828613, -0.25828613],\n",
      "       [-0.25828613, -0.25828613, -0.25828613],\n",
      "       [-0.25828613, -0.25828613, -0.25828613],\n",
      "       [-0.25828613, -0.25828613, -0.25828613]])], [array([[-0.25828613, -0.25828613, -0.25828613],\n",
      "       [-0.25828613, -0.25828613, -0.25828613],\n",
      "       [-0.25828613, -0.25828613, -0.25828613],\n",
      "       [-0.25828613, -0.25828613, -0.25828613]]), array([[4.91232363, 4.91232363, 4.91232363],\n",
      "       [4.91232363, 4.91232363, 4.91232363],\n",
      "       [4.91232363, 4.91232363, 4.91232363],\n",
      "       [4.91232363, 4.91232363, 4.91232363]])]]\n"
     ]
    }
   ],
   "source": [
    "NParticles=1000\n",
    "LBox = 10\n",
    "kT = 1.\n",
    "m = np.ones(NParticles)\n",
    "\n",
    "# a single configuration\n",
    "vx = MD.RandomVelocities(m,kT)\n",
    "vy = MD.RandomVelocities(m,kT)\n",
    "\n",
    "# trajectory: list of list of distances \n",
    "vx_tr = np.array([vx,vx,vx])\n",
    "vy_tr = np.array([vy,vy,vy])\n",
    "\n",
    "# ensembles: lists of trajectories\n",
    "vx_tr_ens = np.array([vx_tr,vx_tr,vx_tr,vx_tr])\n",
    "vy_tr_ens = np.array([vy_tr,vy_tr,vy_tr,vy_tr])\n",
    "\n",
    "print(\"1d kinetic pressure: \\n\",\n",
    "      (kT*NParticles/LBox),\n",
    "      KineticPressure_tensor_as_a_function_of_velocities(1,LBox,m,vx))\n",
    "print(\"trajectories of 1d pressures: \\n\",\n",
    "      (kT*NParticles/LBox),\n",
    "      KineticPressure_tensor_as_a_function_of_velocities(1,LBox,m,vx_tr))\n",
    "print(\"ensemble of trajectories of 1d pressures: \\n\",\n",
    "      (kT*NParticles/LBox),\n",
    "      KineticPressure_tensor_as_a_function_of_velocities(1,LBox,m,vx_tr_ens))\n",
    "\n",
    "print(\"\\n\")\n",
    "\n",
    "print(\"2d kinetic pressure tensor components: \\n\",\n",
    "      (kT*NParticles/LBox**2),\n",
    "      KineticPressure_tensor_as_a_function_of_velocities(2,LBox,m,(vx,vy)))\n",
    "print(\"trajectories of 2d pressure tensor components: \\n\",\n",
    "      (kT*NParticles/LBox**2),\n",
    "      KineticPressure_tensor_as_a_function_of_velocities(2,LBox,m,(vx_tr,vy_tr)))\n",
    "print(\"ensemble of trajectories of 2d pressure tensor components: \\n\",\n",
    "      (kT*NParticles/LBox**2),\n",
    "      KineticPressure_tensor_as_a_function_of_velocities(2,LBox,m,(vx_tr_ens,vy_tr_ens)))"
   ]
  },
  {
   "cell_type": "markdown",
   "metadata": {},
   "source": [
    "### Contribution of LJ interactions to the virial pressure"
   ]
  },
  {
   "cell_type": "code",
   "execution_count": 6,
   "metadata": {},
   "outputs": [],
   "source": [
    "def LJ_virial_pressure_as_a_function_of_positions(d,epsilon,sigma,LBox,r,debug=False):\n",
    "    \"\"\"\n",
    "    returns the contribution to the scalar virial pressure resulting from LJ interactions as a function of the particle positions\n",
    "    \"\"\"\n",
    "    r_array = np.array(r)\n",
    "    N = r_array.shape[-1]\n",
    "    \n",
    "    # initialise pressure:\n",
    "    # one scalar value per system, i.e. same shape as adding up all x-coordinates per system\n",
    "    if d==1:\n",
    "        P = 0*np.copy(np.sum(r_array,axis=-1))     \n",
    "    else:\n",
    "        P = 0*np.copy(np.sum(r_array[0],axis=-1))  \n",
    "    \n",
    "    if debug:\n",
    "        print(\"N:\",N)\n",
    "        print(\"P.shape:\",P.shape)\n",
    "        print(\"P:\",P)\n",
    "    \n",
    "    for k in range(1,N):\n",
    "        delta_r_pair = MD.MinimumImage(LBox,r_array-np.roll(r_array,k,axis=-1))\n",
    "        fpair = MD.f_LJ(d,epsilon,sigma,delta_r_pair)\n",
    "        if debug and k==1:\n",
    "            print(delta_r_pair.shape,fpair.shape,(fpair*delta_r_pair).shape)\n",
    "        if d==1:\n",
    "            # sum over pair interactions\n",
    "            P += np.sum(fpair*delta_r_pair,axis=-1)\n",
    "        else:\n",
    "            # sum over pair interactions and dimensions \n",
    "            P += np.sum( np.sum(fpair*delta_r_pair,axis=-1), axis=0)\n",
    "\n",
    "    return P/2/LBox**d/d"
   ]
  },
  {
   "cell_type": "markdown",
   "metadata": {},
   "source": [
    "Test that the function can be directly applied to trajectories or ensembles of trajectories"
   ]
  },
  {
   "cell_type": "code",
   "execution_count": 7,
   "metadata": {},
   "outputs": [
    {
     "name": "stdout",
     "output_type": "stream",
     "text": [
      "LJ virial pressure: \n",
      " 20.82594442395024\n",
      "trajectories of LJ virial pressures: \n",
      " [20.82594442 20.82594442 20.82594442]\n",
      "ensemble of trajectories of LJ virial pressures: \n",
      " [[20.82594442 20.82594442 20.82594442]\n",
      " [20.82594442 20.82594442 20.82594442]\n",
      " [20.82594442 20.82594442 20.82594442]\n",
      " [20.82594442 20.82594442 20.82594442]]\n"
     ]
    }
   ],
   "source": [
    "NParticles=100\n",
    "# net forces around missing particle\n",
    "LBox = 10\n",
    "\n",
    "# a single configuration\n",
    "x,y = MD.GridPositionsIn2d(LBox,LBox,NParticles)\n",
    "print(\"LJ virial pressure: \\n\",LJ_virial_pressure_as_a_function_of_positions(2,1.,1.,LBox,(x,y)))\n",
    "\n",
    "# trajectory: list of list of distances \n",
    "x_tr = np.array([x,x,x])\n",
    "y_tr = np.array([y,y,y])\n",
    "print(\"trajectories of LJ virial pressures: \\n\",LJ_virial_pressure_as_a_function_of_positions(2,1.,1.,LBox,(x_tr,y_tr)))\n",
    "\n",
    "# ensembles: lists of trajectories\n",
    "x_tr_ens = np.array([x_tr,x_tr,x_tr,x_tr])\n",
    "y_tr_ens = np.array([y_tr,y_tr,y_tr,y_tr])\n",
    "print(\"ensemble of trajectories of LJ virial pressures: \\n\",LJ_virial_pressure_as_a_function_of_positions(2,1.,1.,LBox,(x_tr_ens,y_tr_ens)))"
   ]
  },
  {
   "cell_type": "markdown",
   "metadata": {},
   "source": [
    "Test: nearest neighbor contribution to the LJ pressure for a regular grid with lattice constant $a$\n",
    "\n",
    "Per particle: \n",
    "\n",
    "\\begin{equation}\n",
    "P = \\frac1{2 a^2} 2 a f_{LJ}(a) = \\frac{f_{LJ}(a)}{a}\n",
    "\\end{equation}\n",
    "\n",
    "Similarly we have for the energy per particle\n",
    "\n",
    "\\begin{equation}\n",
    "U/N = 2 u_{LJ}(a)\n",
    "\\end{equation}\n",
    "\n",
    "On our square grid next nearest neighbors are located at a distance of $\\sqrt{2} a$:\n",
    "\n",
    "\\begin{equation}\n",
    "P += \\frac1{2 a^2} 2 (\\sqrt{2}a) f_{LJ}(\\sqrt{2}a) = \\frac{\\sqrt{2}f_{LJ}(\\sqrt{2}a)}{a}\n",
    "\\end{equation}\n"
   ]
  },
  {
   "cell_type": "code",
   "execution_count": 8,
   "metadata": {
    "scrolled": false
   },
   "outputs": [
    {
     "data": {
      "image/png": "[encoded data removed]",
      "text/plain": [
       "<Figure size 432x288 with 1 Axes>"
      ]
     },
     "metadata": {
      "needs_background": "light"
     },
     "output_type": "display_data"
    },
    {
     "data": {
      "image/png": "[encoded data removed]",
      "text/plain": [
       "<Figure size 432x288 with 1 Axes>"
      ]
     },
     "metadata": {
      "needs_background": "light"
     },
     "output_type": "display_data"
    }
   ],
   "source": [
    "NParticles=100\n",
    "epsilon=1.\n",
    "sigma=1.\n",
    "\n",
    "a_tr = []\n",
    "# calculated pressure, expected values taking into account nearest neighbor (NN) and next nearest neighbor (NNN) interactions\n",
    "P_tr = []\n",
    "PNN_tr = []\n",
    "PNNN_tr = []\n",
    "# calculated energy, expected values taking into account nearest neighbor (NN) and next nearest neighbor (NNN) interactions\n",
    "u_tr = []\n",
    "uNN_tr = []\n",
    "uNNN_tr = []\n",
    "\n",
    "for l in range(20):\n",
    "    LBox = 10+0.2*l\n",
    "    a = LBox/np.sqrt(NParticles)\n",
    "    a_tr.append(a)\n",
    "    x,y = MD.GridPositionsIn2d(LBox,LBox,NParticles)\n",
    "\n",
    "    P = LJ_virial_pressure_as_a_function_of_positions(2,epsilon,sigma,LBox,(x,y))\n",
    "    P_tr.append(P)\n",
    "    PNN_tr.append(MD.f_LJ(1,epsilon,sigma,a)/a)\n",
    "    PNNN_tr.append(MD.f_LJ(1,epsilon,sigma,a)/a + np.sqrt(2)*MD.f_LJ(1,epsilon,sigma,a*np.sqrt(2))/a)\n",
    "\n",
    "    u = np.sum(MD.LJ_energy_as_a_function_of_positions(2,epsilon,sigma,LBox,(x,y)))/NParticles\n",
    "    u_tr.append(u)\n",
    "    uNN_tr.append(2*MD.U_LJ(1,epsilon,sigma,a))\n",
    "    uNNN_tr.append(2*MD.U_LJ(1,epsilon,sigma,a)+2*MD.U_LJ(1,epsilon,sigma,a*np.sqrt(2)))\n",
    "\n",
    "plt.plot(a_tr,P_tr,label=\"calculated\")\n",
    "plt.plot(a_tr,PNN_tr,label=\"NN\")\n",
    "plt.plot(a_tr,PNNN_tr,label=\"NNN\")\n",
    "plt.title(\"Pressure\")\n",
    "plt.xlabel(\"a\")\n",
    "plt.ylabel(\"P(a)\")\n",
    "plt.legend()\n",
    "plt.show()\n",
    "\n",
    "plt.plot(a_tr,u_tr,label=\"calculated\")\n",
    "plt.plot(a_tr,uNN_tr,label=\"NN\")\n",
    "plt.plot(a_tr,uNNN_tr,label=\"NNN\")\n",
    "plt.title(\"Internal energy per particle\")\n",
    "plt.xlabel(\"a\")\n",
    "plt.ylabel(\"U(a)/N\")\n",
    "plt.legend()\n",
    "plt.show()"
   ]
  },
  {
   "cell_type": "code",
   "execution_count": 9,
   "metadata": {},
   "outputs": [],
   "source": [
    "def LJ_virial_pressure_tensor_as_a_function_of_positions(d,epsilon,sigma,LBox,r,debug=False):\n",
    "    \"\"\"\n",
    "    returns the contribution to the scalar virial pressure resulting from LJ interactions as a function of the particle positions\n",
    "    \"\"\"\n",
    "    r_array = np.array(r)\n",
    "    N = r_array.shape[-1]\n",
    "    \n",
    "    if d==1:\n",
    "        P = 0*np.copy(np.sum(r_array,axis=-1))     \n",
    "        # initialise pressure:\n",
    "        # one scalar value per system, i.e. same shape as adding up all x-coordinates per system\n",
    "\n",
    "        for k in range(1,N):\n",
    "\n",
    "            delta_r_pair = MD.MinimumImage(LBox,r_array-np.roll(r_array,k,axis=-1))\n",
    "            fpair = MD.f_LJ(d,epsilon,sigma,delta_r_pair)\n",
    "            \n",
    "            if debug and k==1:\n",
    "                print(\"N:\",N)\n",
    "                print(\"P.shape:\",P.shape)\n",
    "                print(\"P:\",P)\n",
    "                print(delta_r_pair.shape,fpair.shape,(fpair*delta_r_pair).shape)\n",
    "\n",
    "            # sum over pair interactions\n",
    "            P += np.sum(fpair*delta_r_pair,axis=-1)\n",
    "\n",
    "        P /= 2*LBox**d*d \n",
    "        return P\n",
    "                    \n",
    "    if d==2:\n",
    "        Pxx = 0*np.sum(r_array[0],axis=-1)\n",
    "        Pxy = 0*np.copy(np.sum(r_array[0],axis=-1))  \n",
    "        Pyx = 0*np.copy(np.sum(r_array[0],axis=-1))  \n",
    "        Pyy = 0*np.copy(np.sum(r_array[0],axis=-1))  \n",
    "        # initialise components of pressure tensor:\n",
    "        # one scalar value per system, i.e. same shape as adding up all x-coordinates per system\n",
    "\n",
    "        for k in range(1,N):\n",
    "\n",
    "            delta_r_pair = MD.MinimumImage(LBox,r_array-np.roll(r_array,k,axis=-1))\n",
    "            fpair = MD.f_LJ(d,epsilon,sigma,delta_r_pair)\n",
    "            \n",
    "            if debug and k==1:\n",
    "                print(\"N:\",N)\n",
    "                print(\"Pxx.shape:\",Pxx.shape)\n",
    "                print(\"Pxx:\",Pxx)\n",
    "                print(delta_r_pair.shape,fpair.shape,(fpair*delta_r_pair).shape)\n",
    "\n",
    "            # sum over pair interactions and dimensions \n",
    "            Pxx += np.sum(fpair[0]*delta_r_pair[0],axis=-1)\n",
    "            Pxy += np.sum(fpair[0]*delta_r_pair[1],axis=-1)\n",
    "            Pyx += np.sum(fpair[1]*delta_r_pair[0],axis=-1)\n",
    "            Pyy += np.sum(fpair[1]*delta_r_pair[1],axis=-1)\n",
    "\n",
    "        Pxx /= 2*LBox**d*d   \n",
    "        Pxy /= 2*LBox**d*d  \n",
    "        Pyx /= 2*LBox**d*d   \n",
    "        Pyy /= 2*LBox**d*d \n",
    "        \n",
    "        return [[Pxx,Pxy],[Pyx,Pyy]]\n",
    "        \n",
    "    else:\n",
    "        print(\"LJ_virial_pressure_tensor_as_a_function_of_positions not defined for d = \",d)\n",
    "\n",
    "    return"
   ]
  },
  {
   "cell_type": "code",
   "execution_count": 10,
   "metadata": {
    "scrolled": false
   },
   "outputs": [
    {
     "name": "stdout",
     "output_type": "stream",
     "text": [
      "LJ pressure: \n",
      " 20.82594442395024\n",
      "LJ pressure tensor: \n",
      " [[10.412972211975111, -3.552713678800501e-17], [-3.552713678800501e-17, 10.412972211975118]]\n",
      "trajectories of LJ pressure tensor components: \n",
      " [[array([10.41297221, 10.41297221, 10.41297221]), array([-3.55271368e-17, -3.55271368e-17, -3.55271368e-17])], [array([-3.55271368e-17, -3.55271368e-17, -3.55271368e-17]), array([10.41297221, 10.41297221, 10.41297221])]]\n",
      "ensemble of trajectories of LJ pressure tensor components: \n",
      " [[array([[10.41297221, 10.41297221, 10.41297221],\n",
      "       [10.41297221, 10.41297221, 10.41297221],\n",
      "       [10.41297221, 10.41297221, 10.41297221],\n",
      "       [10.41297221, 10.41297221, 10.41297221]]), array([[-3.55271368e-17, -3.55271368e-17, -3.55271368e-17],\n",
      "       [-3.55271368e-17, -3.55271368e-17, -3.55271368e-17],\n",
      "       [-3.55271368e-17, -3.55271368e-17, -3.55271368e-17],\n",
      "       [-3.55271368e-17, -3.55271368e-17, -3.55271368e-17]])], [array([[-3.55271368e-17, -3.55271368e-17, -3.55271368e-17],\n",
      "       [-3.55271368e-17, -3.55271368e-17, -3.55271368e-17],\n",
      "       [-3.55271368e-17, -3.55271368e-17, -3.55271368e-17],\n",
      "       [-3.55271368e-17, -3.55271368e-17, -3.55271368e-17]]), array([[10.41297221, 10.41297221, 10.41297221],\n",
      "       [10.41297221, 10.41297221, 10.41297221],\n",
      "       [10.41297221, 10.41297221, 10.41297221],\n",
      "       [10.41297221, 10.41297221, 10.41297221]])]]\n"
     ]
    }
   ],
   "source": [
    "NParticles=100\n",
    "# net forces around missing particle\n",
    "LBox = 10\n",
    "\n",
    "# a single configuration\n",
    "x,y = MD.GridPositionsIn2d(LBox,LBox,NParticles)\n",
    "print(\"LJ pressure: \\n\",LJ_virial_pressure_as_a_function_of_positions(2,1.,1.,LBox,(x,y)))\n",
    "print(\"LJ pressure tensor: \\n\",LJ_virial_pressure_tensor_as_a_function_of_positions(2,1.,1.,LBox,(x,y)))\n",
    "\n",
    "# trajectory: list of list of distances \n",
    "x_tr = np.array([x,x,x])\n",
    "y_tr = np.array([y,y,y])\n",
    "print(\"trajectories of LJ pressure tensor components: \\n\",LJ_virial_pressure_tensor_as_a_function_of_positions(2,1.,1.,LBox,(x_tr,y_tr)))\n",
    "\n",
    "# ensembles: lists of trajectories\n",
    "x_tr_ens = np.array([x_tr,x_tr,x_tr,x_tr])\n",
    "y_tr_ens = np.array([y_tr,y_tr,y_tr,y_tr])\n",
    "print(\"ensemble of trajectories of LJ pressure tensor components: \\n\",LJ_virial_pressure_tensor_as_a_function_of_positions(2,1.,1.,LBox,(x_tr_ens,y_tr_ens)))"
   ]
  },
  {
   "cell_type": "markdown",
   "metadata": {},
   "source": [
    "### Converting trajectories of tensor components into a trajectory of tensors"
   ]
  },
  {
   "cell_type": "markdown",
   "metadata": {},
   "source": [
    "Applying these functions to an (ensemble) of trajectories produces distinct (ensembles) of trajectories for the time evolution of the components Pxx_tr_ens, etc. of the pressure tensor.\n",
    "\n",
    "To convert them into (ensembles) of trajectories of the time evolution of the pressure tensor, we need to rearange the indices in a NumPy array"
   ]
  },
  {
   "cell_type": "code",
   "execution_count": 11,
   "metadata": {},
   "outputs": [
    {
     "name": "stdout",
     "output_type": "stream",
     "text": [
      "[[10.412972211975111, -3.552713678800501e-17], [-3.552713678800501e-17, 10.412972211975118]]\n",
      "[[ 1.04129722e+01 -3.55271368e-17]\n",
      " [-3.55271368e-17  1.04129722e+01]]\n"
     ]
    }
   ],
   "source": [
    "((Pxx_tr,Pxy_tr),(Pyx_tr,Pyy_tr)) = LJ_virial_pressure_tensor_as_a_function_of_positions(2,1.,1.,LBox,(x_tr,y_tr))\n",
    "\n",
    "print([[Pxx_tr[0],Pxy_tr[0]],[Pyx_tr[0],Pyy_tr[0]]])\n",
    "\n",
    "P_tensor_tr = np.transpose(np.array(((Pxx_tr,Pxy_tr),(Pyx_tr,Pyy_tr))),(-1,0,1))\n",
    "\n",
    "print(P_tensor_tr[0])"
   ]
  },
  {
   "cell_type": "code",
   "execution_count": 12,
   "metadata": {},
   "outputs": [
    {
     "name": "stdout",
     "output_type": "stream",
     "text": [
      "[[10.412972211975111, -3.552713678800501e-17], [-3.552713678800501e-17, 10.412972211975118]]\n"
     ]
    },
    {
     "data": {
      "text/plain": [
       "array([[ 1.04129722e+01, -3.55271368e-17],\n",
       "       [-3.55271368e-17,  1.04129722e+01]])"
      ]
     },
     "execution_count": 12,
     "metadata": {},
     "output_type": "execute_result"
    }
   ],
   "source": [
    "((Pxx_tr_ens,Pxy_tr_ens),(Pyx_tr_ens,Pyy_tr_ens)) = LJ_virial_pressure_tensor_as_a_function_of_positions(2,1.,1.,LBox,(x_tr_ens,y_tr_ens))\n",
    "\n",
    "print([[Pxx_tr_ens[0,0],Pxy_tr_ens[0,0]],[Pyx_tr_ens[0,0],Pyy_tr_ens[0,0]]])\n",
    "\n",
    "P_tensor_tr_ens = np.transpose(np.array( ((Pxx_tr_ens,Pxy_tr_ens),(Pyx_tr_ens,Pyy_tr_ens)) ),(-2,-1,0,1))\n",
    "\n",
    "P_tensor_tr_ens[0,0]"
   ]
  }
 ],
 "metadata": {
  "kernelspec": {
   "display_name": "Python 3",
   "language": "python",
   "name": "python3"
  },
  "language_info": {
   "codemirror_mode": {
    "name": "ipython",
    "version": 3
   },
   "file_extension": ".py",
   "mimetype": "text/x-python",
   "name": "python",
   "nbconvert_exporter": "python",
   "pygments_lexer": "ipython3",
   "version": "3.8.12"
  }
 },
 "nbformat": 4,
 "nbformat_minor": 2
}
