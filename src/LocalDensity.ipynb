{
 "cells": [
  {
   "cell_type": "markdown",
   "metadata": {},
   "source": [
    "# Characterizing phase separation: The distribution of the local density"
   ]
  },
  {
   "cell_type": "markdown",
   "metadata": {},
   "source": [
    "Ralf Everaers, ENS Lyon (2022)"
   ]
  },
  {
   "cell_type": "markdown",
   "metadata": {},
   "source": [
    "References:\n",
    "\n",
    "    The gas-liquid transition of the two-dimensional Lennard-Jones fluid, M Rovere, D W Heermann and K Binder, Journal of Physics: Condensed Matter, Volume 2, Number 33 (1990)\n",
    "    \n",
    "To track the onset of phase separation below the critical point we are going to observe the distribution of the number of particles in subvolumes of our simulation cell. \n",
    "\n",
    "This is an excellent preparation for thinking about the grand-canonical ensemble!"
   ]
  },
  {
   "cell_type": "code",
   "execution_count": 2,
   "metadata": {},
   "outputs": [
    {
     "name": "stdout",
     "output_type": "stream",
     "text": [
      "1.20.3\n"
     ]
    }
   ],
   "source": [
    "# Import standard libraries\n",
    "import numpy as np\n",
    "from scipy.special import gamma\n",
    "from scipy import sparse\n",
    "import matplotlib.pyplot as plt\n",
    "from matplotlib import animation, cm, colors, rc\n",
    "import random\n",
    "import time\n",
    "from imp import reload\n",
    "rc('animation', html='html5')\n",
    "\n",
    "# Import library of our own functions\n",
    "import MPCMolecularDynamics as MD\n",
    "reload(MD)\n",
    "\n",
    "#Include plots into notebook instead of plotting them in extra window\n",
    "%matplotlib inline \n",
    "\n",
    "print(np.__version__)"
   ]
  },
  {
   "cell_type": "markdown",
   "metadata": {},
   "source": [
    "## The routine\n",
    "\n",
    "is a variant of our MultiParticleCollisionStep, where we already needed to sort particle onto a grid. The sorting is the same, but then all we do is count."
   ]
  },
  {
   "cell_type": "markdown",
   "metadata": {},
   "source": [
    "### Test conformation"
   ]
  },
  {
   "cell_type": "code",
   "execution_count": 88,
   "metadata": {},
   "outputs": [
    {
     "name": "stdout",
     "output_type": "stream",
     "text": [
      "LBox =  22.627416998\n"
     ]
    }
   ],
   "source": [
    "# define system\n",
    "NParticles=256\n",
    "sigma = 1\n",
    "\n",
    "# density\n",
    "rho = 0.5/sigma**2\n",
    "LBox = np.power(NParticles/rho,1/2)\n",
    "print(\"LBox = \",LBox)\n",
    "\n",
    "# define initial state\n",
    "x = MD.RandomPositions(LBox,NParticles)\n",
    "y = MD.RandomPositions(LBox,NParticles)"
   ]
  },
  {
   "cell_type": "markdown",
   "metadata": {},
   "source": [
    "### Slow, but readable code"
   ]
  },
  {
   "cell_type": "code",
   "execution_count": 89,
   "metadata": {},
   "outputs": [],
   "source": [
    "def CellIndices(NCells,x,xBox):\n",
    "    (xmin, xmax, LBox) = MD.BoxDimensions(xBox)\n",
    "    return np.floor(NCells*(x-xmin)/LBox).astype(int)\n",
    "\n",
    "def SortParticlesIntoGrid(NCells,x,y,xBox,yBox,x_pbc=False,y_pbc=False,debug=False):\n",
    "    \n",
    "    cells = [[set() for _ in range(NCells)]for _ in range(NCells)] # create list of empty sets #\n",
    "    nSorted = 0\n",
    "\n",
    "    (xmin, xmax, LBox) = MD.BoxDimensions(xBox)\n",
    "    if x_pbc:\n",
    "        random_box_offset = LBox*np.random.random() # to break Gallilean invariance \n",
    "        xmin = random_box_offset \n",
    "        xmax = xmin + LBox\n",
    "        x_sort = MD.FoldIntoBox((xmin,xmax),x) # fold into box / minimum image convention for collisions #\n",
    "    else:\n",
    "        x_sort = np.copy(x)\n",
    "    i = CellIndices(NCells,x_sort,(xmin,xmax))\n",
    "\n",
    "    (ymin, ymax, LBox) = MD.BoxDimensions(yBox)\n",
    "    if y_pbc:\n",
    "        random_box_offset = LBox*np.random.random() # to break Gallilean invariance \n",
    "        ymin = random_box_offset \n",
    "        ymax = ymin + LBox\n",
    "        y_sort = MD.FoldIntoBox((ymin,ymax),y) # fold into box / minimum image convention for collisions #\n",
    "    else:\n",
    "        y_sort = np.copy(y)\n",
    "    j = CellIndices(NCells,y_sort,(ymin,ymax))\n",
    "\n",
    "    for n in range(len(x)):\n",
    "        if i[n] in range(NCells) and j[n] in range(NCells): \n",
    "            cells[i[n]][j[n]].add(n) # add particle index n to the set of particles in cell (i,j) #\n",
    "            nSorted += 1\n",
    "    if debug:\n",
    "        print (nSorted, \" of \", len(x),\" particles sorted into the grid\")\n",
    "    return cells"
   ]
  },
  {
   "cell_type": "code",
   "execution_count": 90,
   "metadata": {},
   "outputs": [
    {
     "data": {
      "text/plain": [
       "[[{1,\n",
       "   12,\n",
       "   28,\n",
       "   32,\n",
       "   33,\n",
       "   56,\n",
       "   110,\n",
       "   119,\n",
       "   143,\n",
       "   152,\n",
       "   153,\n",
       "   180,\n",
       "   187,\n",
       "   193,\n",
       "   196,\n",
       "   218,\n",
       "   229,\n",
       "   252},\n",
       "  {37,\n",
       "   81,\n",
       "   92,\n",
       "   105,\n",
       "   129,\n",
       "   138,\n",
       "   147,\n",
       "   156,\n",
       "   169,\n",
       "   181,\n",
       "   183,\n",
       "   186,\n",
       "   204,\n",
       "   227,\n",
       "   246,\n",
       "   249},\n",
       "  {10, 29, 107, 111, 115, 134, 158, 170, 188, 189, 209, 241, 244},\n",
       "  {7,\n",
       "   15,\n",
       "   26,\n",
       "   27,\n",
       "   34,\n",
       "   48,\n",
       "   80,\n",
       "   95,\n",
       "   100,\n",
       "   127,\n",
       "   133,\n",
       "   141,\n",
       "   166,\n",
       "   184,\n",
       "   191,\n",
       "   201,\n",
       "   213,\n",
       "   216,\n",
       "   231}],\n",
       " [{8,\n",
       "   61,\n",
       "   71,\n",
       "   73,\n",
       "   101,\n",
       "   106,\n",
       "   128,\n",
       "   140,\n",
       "   151,\n",
       "   160,\n",
       "   174,\n",
       "   194,\n",
       "   203,\n",
       "   208,\n",
       "   219,\n",
       "   221,\n",
       "   233,\n",
       "   242},\n",
       "  {5,\n",
       "   24,\n",
       "   46,\n",
       "   78,\n",
       "   99,\n",
       "   112,\n",
       "   114,\n",
       "   116,\n",
       "   123,\n",
       "   126,\n",
       "   139,\n",
       "   142,\n",
       "   144,\n",
       "   148,\n",
       "   175,\n",
       "   232,\n",
       "   234,\n",
       "   251,\n",
       "   253},\n",
       "  {17,\n",
       "   19,\n",
       "   23,\n",
       "   74,\n",
       "   89,\n",
       "   91,\n",
       "   104,\n",
       "   108,\n",
       "   118,\n",
       "   120,\n",
       "   125,\n",
       "   130,\n",
       "   164,\n",
       "   197,\n",
       "   202,\n",
       "   225,\n",
       "   236,\n",
       "   243},\n",
       "  {2, 3, 6, 43, 54, 63, 67, 68, 94, 97, 210, 235, 247, 255}],\n",
       " [{14,\n",
       "   18,\n",
       "   20,\n",
       "   22,\n",
       "   31,\n",
       "   47,\n",
       "   49,\n",
       "   52,\n",
       "   53,\n",
       "   82,\n",
       "   85,\n",
       "   131,\n",
       "   154,\n",
       "   192,\n",
       "   215,\n",
       "   222,\n",
       "   239,\n",
       "   245},\n",
       "  {9, 39, 60, 64, 65, 66, 88, 103, 117, 146, 157, 162, 168, 171, 176, 177},\n",
       "  {13, 36, 57, 69, 70, 72, 135, 136, 155, 190, 220, 224, 228},\n",
       "  {11,\n",
       "   50,\n",
       "   55,\n",
       "   59,\n",
       "   75,\n",
       "   113,\n",
       "   122,\n",
       "   150,\n",
       "   167,\n",
       "   172,\n",
       "   182,\n",
       "   195,\n",
       "   198,\n",
       "   211,\n",
       "   238,\n",
       "   240,\n",
       "   248}],\n",
       " [{25, 38, 41, 51, 76, 77, 98, 102, 124, 137, 159, 185, 199, 223, 226, 250},\n",
       "  {16, 30, 40, 58, 62, 79, 87, 90, 93, 121, 145, 149, 161, 214, 254},\n",
       "  {0, 42, 84, 86, 109, 173, 200, 205, 206, 207, 212},\n",
       "  {4, 21, 35, 44, 45, 83, 96, 132, 163, 165, 178, 179, 217, 230, 237}]]"
      ]
     },
     "execution_count": 90,
     "metadata": {},
     "output_type": "execute_result"
    }
   ],
   "source": [
    "SortParticlesIntoGrid(4,x,y,LBox,LBox,x_pbc=False,y_pbc=False,debug=False)"
   ]
  },
  {
   "cell_type": "markdown",
   "metadata": {},
   "source": [
    "The python function len() allows to count the number of elements in a set. To apply it to all elements of my cell table, I convert the latter into a NumPy array and vectorize the len() function:"
   ]
  },
  {
   "cell_type": "code",
   "execution_count": 91,
   "metadata": {},
   "outputs": [],
   "source": [
    "mylen_vec = np.vectorize(len)"
   ]
  },
  {
   "cell_type": "code",
   "execution_count": 92,
   "metadata": {},
   "outputs": [
    {
     "data": {
      "text/plain": [
       "array([[18, 16, 13, 19],\n",
       "       [18, 19, 18, 14],\n",
       "       [18, 16, 13, 17],\n",
       "       [16, 15, 11, 15]])"
      ]
     },
     "execution_count": 92,
     "metadata": {},
     "output_type": "execute_result"
    }
   ],
   "source": [
    "mylen_vec(np.array(SortParticlesIntoGrid(4,x,y,LBox,LBox,x_pbc=False,y_pbc=False,debug=False)))"
   ]
  },
  {
   "cell_type": "markdown",
   "metadata": {},
   "source": [
    "Let's make sure, that we have not missed any particles:"
   ]
  },
  {
   "cell_type": "code",
   "execution_count": 93,
   "metadata": {},
   "outputs": [
    {
     "data": {
      "text/plain": [
       "256"
      ]
     },
     "execution_count": 93,
     "metadata": {},
     "output_type": "execute_result"
    }
   ],
   "source": [
    "np.sum(mylen_vec(np.array(SortParticlesIntoGrid(4,x,y,LBox,LBox,x_pbc=False,y_pbc=False,debug=False))))"
   ]
  },
  {
   "cell_type": "markdown",
   "metadata": {},
   "source": [
    "### Fast code"
   ]
  },
  {
   "cell_type": "code",
   "execution_count": 94,
   "metadata": {},
   "outputs": [],
   "source": [
    "def CellOccupancy(NCells,xx,yy,xBox,yBox,x_pbc=False,y_pbc=False,debug=False):\n",
    "    '''\n",
    "        Returns the occupancy of NCells x NCells cells\n",
    "\n",
    "        xBox = (xmin,xmax) denotes the simulation box\n",
    "        xBox = LBox corresponds to a box of (0,LBox)\n",
    "\n",
    "        if x_pbc==True\n",
    "            particles are sorted according to their folded positions,\n",
    "            where the box position is randomly shifted to break Gallilein invariance\n",
    "        else:\n",
    "            particles inside the box are sorted according to their absolute positions\n",
    "    \n",
    "        the same rules apply in y-direction\n",
    "    '''\n",
    "# sort particles into cells\n",
    "    x = xx.copy()\n",
    "    if x_pbc:\n",
    "        x += LBox/NCells*(np.random.random()-0.5) # to break Gallilean invariance #\n",
    "        x -= np.floor(x/LBox)*LBox # fold into box / minimum image convention for collisions #\n",
    "    y = yy.copy() \n",
    "    if y_pbc:\n",
    "        y += LBox/NCells*(np.random.random()-0.5) # to break Gallilean invariance #\n",
    "        y -= np.floor(y/LBox)*LBox\n",
    "    # cell numbers corresponding to x- and y-coordinates\n",
    "    i = np.floor(NCells*x/LBox).astype(int)\n",
    "    j = np.floor(NCells*y/LBox).astype(int)\n",
    "    # combine into absolute cell number\n",
    "    row = i + NCells*j\n",
    "    if debug:\n",
    "        print(\"row = \",row)\n",
    "    # particle numbers\n",
    "    col = np.array(range(NParticles))\n",
    "    # combine into projector from particles to cells\n",
    "    data = np.ones(NParticles)\n",
    "    sparse_cell_projector = sparse.coo_matrix((data,(row,col)),shape=(NCells**2,NParticles))\n",
    "    if debug:\n",
    "        print(\"projector = \",sparse_cell_projector.todense())\n",
    "    \n",
    "    return sparse_cell_projector.A.sum(axis=1)"
   ]
  },
  {
   "cell_type": "code",
   "execution_count": 95,
   "metadata": {},
   "outputs": [
    {
     "data": {
      "text/plain": [
       "array([ 18.,  18.,  18.,  16.,  16.,  19.,  16.,  15.,  13.,  18.,  13.,\n",
       "        11.,  19.,  14.,  17.,  15.])"
      ]
     },
     "execution_count": 95,
     "metadata": {},
     "output_type": "execute_result"
    }
   ],
   "source": [
    "CellOccupancy(4,x,y,LBox,LBox,x_pbc=False,y_pbc=False,debug=False)"
   ]
  },
  {
   "cell_type": "markdown",
   "metadata": {},
   "source": [
    "Would be nice to vectorize the function so that it automatically loops over all elements of a trajectory or of an ensemble of trajectories."
   ]
  },
  {
   "cell_type": "code",
   "execution_count": 49,
   "metadata": {},
   "outputs": [
    {
     "ename": "TypeError",
     "evalue": "__init__() got an unexpected keyword argument 'signature'",
     "output_type": "error",
     "traceback": [
      "\u001b[0;31m---------------------------------------------------------------------------\u001b[0m",
      "\u001b[0;31mTypeError\u001b[0m                                 Traceback (most recent call last)",
      "\u001b[0;32m<ipython-input-49-9ed7d5b34f7d>\u001b[0m in \u001b[0;36m<module>\u001b[0;34m()\u001b[0m\n\u001b[1;32m      1\u001b[0m CellOccupancy_vec = np.vectorize(CellOccupancy, \n\u001b[1;32m      2\u001b[0m                                  \u001b[0mexcluded\u001b[0m\u001b[0;34m=\u001b[0m\u001b[0;34m[\u001b[0m\u001b[0;34m'NCells'\u001b[0m\u001b[0;34m,\u001b[0m\u001b[0;34m'xBox'\u001b[0m\u001b[0;34m,\u001b[0m\u001b[0;34m'yBox'\u001b[0m\u001b[0;34m,\u001b[0m\u001b[0;34m'x_pbc'\u001b[0m\u001b[0;34m,\u001b[0m\u001b[0;34m'y_pbc'\u001b[0m\u001b[0;34m,\u001b[0m\u001b[0;34m'debug'\u001b[0m\u001b[0;34m]\u001b[0m\u001b[0;34m,\u001b[0m\u001b[0;34m\u001b[0m\u001b[0m\n\u001b[0;32m----> 3\u001b[0;31m                                  signature='(j),(j)->(i)')\n\u001b[0m",
      "\u001b[0;31mTypeError\u001b[0m: __init__() got an unexpected keyword argument 'signature'"
     ]
    }
   ],
   "source": [
    "CellOccupancy_vec = np.vectorize(CellOccupancy, \n",
    "                                 excluded=['NCells','xBox','yBox','x_pbc','y_pbc','debug'],\n",
    "                                 signature='(j),(j)->(i)')"
   ]
  },
  {
   "cell_type": "code",
   "execution_count": 1,
   "metadata": {},
   "outputs": [
    {
     "ename": "NameError",
     "evalue": "name 'np' is not defined",
     "output_type": "error",
     "traceback": [
      "\u001b[0;31m---------------------------------------------------------------------------\u001b[0m",
      "\u001b[0;31mNameError\u001b[0m                                 Traceback (most recent call last)",
      "\u001b[0;32m<ipython-input-1-395ad90ca762>\u001b[0m in \u001b[0;36m<module>\u001b[0;34m\u001b[0m\n\u001b[0;32m----> 1\u001b[0;31m \u001b[0mprint\u001b[0m\u001b[0;34m(\u001b[0m\u001b[0mnp\u001b[0m\u001b[0;34m.\u001b[0m\u001b[0m__version__\u001b[0m\u001b[0;34m)\u001b[0m\u001b[0;34m\u001b[0m\u001b[0;34m\u001b[0m\u001b[0m\n\u001b[0m",
      "\u001b[0;31mNameError\u001b[0m: name 'np' is not defined"
     ]
    }
   ],
   "source": [
    "print(np.__version__)"
   ]
  },
  {
   "cell_type": "markdown",
   "metadata": {},
   "source": [
    "Need to update my python installation!"
   ]
  },
  {
   "cell_type": "markdown",
   "metadata": {},
   "source": [
    "Vectorize by hand: \n",
    "\n",
    "means that I automatically loop over all elements of a trajectory or of an ensemble of trajectories."
   ]
  },
  {
   "cell_type": "code",
   "execution_count": 96,
   "metadata": {},
   "outputs": [],
   "source": [
    "def CellOccupancy_vec(NCells,xx,yy,xBox,yBox,x_pbc=False,y_pbc=False,debug=False):\n",
    "    \n",
    "    \n",
    "    if xx.ndim==1:\n",
    "        nOcc = CellOccupancy(NCells,xx,yy,xBox,yBox,x_pbc,y_pbc,debug)\n",
    "    elif xx.ndim==2:\n",
    "        # trajectory\n",
    "        nOcc = []\n",
    "        for i in range(xx.shape[0]):\n",
    "            nOcc.append(CellOccupancy(NCells,xx[i],yy[i],xBox,yBox,x_pbc,y_pbc,debug))\n",
    "    elif xx.ndim==3:\n",
    "        # trajectory\n",
    "        nOcc = []\n",
    "        for i in range(xx.shape[0]):\n",
    "            nOcc_tr = []\n",
    "            for j in range(xx.shape[1]):\n",
    "                nOcc_tr.append(CellOccupancy(NCells,xx[i,j],yy[i,j],xBox,yBox,x_pbc,y_pbc,debug))\n",
    "            nOcc.append(nOcc_tr)\n",
    "    else:\n",
    "        print(\"CellOccupancy_vec not defined beyond the ensemble level\")\n",
    "    return np.array(nOcc)"
   ]
  },
  {
   "cell_type": "code",
   "execution_count": 121,
   "metadata": {},
   "outputs": [],
   "source": [
    "# define initial state\n",
    "x = MD.RandomPositions(LBox,NParticles)\n",
    "y = MD.RandomPositions(LBox,NParticles)\n",
    "\n",
    "x_tr = np.array([x,x,x])\n",
    "y_tr = np.array([y,y,y])\n",
    "\n",
    "x_tr_ens = np.array([x_tr,x_tr])\n",
    "y_tr_ens = np.array([y_tr,y_tr])"
   ]
  },
  {
   "cell_type": "code",
   "execution_count": 98,
   "metadata": {},
   "outputs": [
    {
     "name": "stdout",
     "output_type": "stream",
     "text": [
      "(16,)\n"
     ]
    },
    {
     "data": {
      "text/plain": [
       "array([ 18.,  18.,  18.,  16.,  16.,  19.,  16.,  15.,  13.,  18.,  13.,\n",
       "        11.,  19.,  14.,  17.,  15.])"
      ]
     },
     "execution_count": 98,
     "metadata": {},
     "output_type": "execute_result"
    }
   ],
   "source": [
    "cOcc = CellOccupancy_vec(4,x,y,LBox,LBox,x_pbc=False,y_pbc=False,debug=False)\n",
    "print(cOcc.shape)\n",
    "cOcc"
   ]
  },
  {
   "cell_type": "code",
   "execution_count": 99,
   "metadata": {},
   "outputs": [
    {
     "name": "stdout",
     "output_type": "stream",
     "text": [
      "(3, 16)\n"
     ]
    },
    {
     "data": {
      "text/plain": [
       "array([[ 18.,  18.,  18.,  16.,  16.,  19.,  16.,  15.,  13.,  18.,  13.,\n",
       "         11.,  19.,  14.,  17.,  15.],\n",
       "       [ 18.,  18.,  18.,  16.,  16.,  19.,  16.,  15.,  13.,  18.,  13.,\n",
       "         11.,  19.,  14.,  17.,  15.],\n",
       "       [ 18.,  18.,  18.,  16.,  16.,  19.,  16.,  15.,  13.,  18.,  13.,\n",
       "         11.,  19.,  14.,  17.,  15.]])"
      ]
     },
     "execution_count": 99,
     "metadata": {},
     "output_type": "execute_result"
    }
   ],
   "source": [
    "cOcc = CellOccupancy_vec(4,x_tr,y_tr,LBox,LBox,x_pbc=False,y_pbc=False,debug=False)\n",
    "print(cOcc.shape)\n",
    "cOcc"
   ]
  },
  {
   "cell_type": "code",
   "execution_count": 100,
   "metadata": {},
   "outputs": [
    {
     "name": "stdout",
     "output_type": "stream",
     "text": [
      "(2, 3, 16)\n"
     ]
    },
    {
     "data": {
      "text/plain": [
       "array([[[ 18.,  18.,  18.,  16.,  16.,  19.,  16.,  15.,  13.,  18.,  13.,\n",
       "          11.,  19.,  14.,  17.,  15.],\n",
       "        [ 18.,  18.,  18.,  16.,  16.,  19.,  16.,  15.,  13.,  18.,  13.,\n",
       "          11.,  19.,  14.,  17.,  15.],\n",
       "        [ 18.,  18.,  18.,  16.,  16.,  19.,  16.,  15.,  13.,  18.,  13.,\n",
       "          11.,  19.,  14.,  17.,  15.]],\n",
       "\n",
       "       [[ 18.,  18.,  18.,  16.,  16.,  19.,  16.,  15.,  13.,  18.,  13.,\n",
       "          11.,  19.,  14.,  17.,  15.],\n",
       "        [ 18.,  18.,  18.,  16.,  16.,  19.,  16.,  15.,  13.,  18.,  13.,\n",
       "          11.,  19.,  14.,  17.,  15.],\n",
       "        [ 18.,  18.,  18.,  16.,  16.,  19.,  16.,  15.,  13.,  18.,  13.,\n",
       "          11.,  19.,  14.,  17.,  15.]]])"
      ]
     },
     "execution_count": 100,
     "metadata": {},
     "output_type": "execute_result"
    }
   ],
   "source": [
    "cOcc = CellOccupancy_vec(4,x_tr_ens,y_tr_ens,LBox,LBox,x_pbc=False,y_pbc=False,debug=False)\n",
    "print(cOcc.shape)\n",
    "cOcc"
   ]
  },
  {
   "cell_type": "markdown",
   "metadata": {},
   "source": [
    "Now integrate everything into one function.\n",
    "\n",
    "As a little plus, this version also works for asymmetric box shapes."
   ]
  },
  {
   "cell_type": "code",
   "execution_count": 119,
   "metadata": {},
   "outputs": [],
   "source": [
    "def CellOccupancy(NCells,xx,yy,xBox,yBox,x_pbc=False,y_pbc=False,debug=False):\n",
    "    '''\n",
    "        Returns the occupancy of NCells x NCells cells\n",
    "\n",
    "        xBox = (xmin,xmax) denotes the simulation box\n",
    "        xBox = LBox corresponds to a box of (0,LBox)\n",
    "\n",
    "        if x_pbc==True\n",
    "            particles are sorted according to their folded positions,\n",
    "            where the box position is randomly shifted to break Gallilein invariance\n",
    "        else:\n",
    "            particles inside the box are sorted according to their absolute positions\n",
    "    \n",
    "        the same rules apply in y-direction\n",
    "        \n",
    "        The function can be applied to individual conformations, trajectories and ensembles\n",
    "            and returns correspondingly shaped arrays\n",
    "    '''\n",
    "    \n",
    "    def individualCellOccupancy(NCells,xx,yy,xBox,yBox,x_pbc=False,y_pbc=False,debug=False):\n",
    "        # sort particles into cells\n",
    "\n",
    "        #Keep cells approximately square\n",
    "        (xmin, xmax, XBox) = MD.BoxDimensions(xBox)\n",
    "        (ymin, ymax, YBox) = MD.BoxDimensions(yBox)\n",
    "    \n",
    "        LBox = np.sqrt(XBox*YBox)\n",
    "        NCellsX = np.int(np.round(NCells*XBox/LBox))\n",
    "        NCellsY = np.int(np.round(NCells*YBox/LBox))\n",
    "    \n",
    "        NParticles = len(xx)\n",
    "        # sort particles into cells\n",
    "        x = xx.copy()\n",
    "        if x_pbc:\n",
    "            x += XBox/NCellsX*(np.random.random()-0.5) # to break Gallilean invariance #\n",
    "            x -= np.floor(x/XBox)*XBox # fold into box / minimum image convention for collisions #\n",
    "        y = yy.copy() \n",
    "        if y_pbc:\n",
    "            y += YBox/NCellsY*(np.random.random()-0.5) # to break Gallilean invariance #\n",
    "            y -= np.floor(y/YBox)*YBox\n",
    "        # cell numbers corresponding to x- and y-coordinates\n",
    "        i = np.floor(NCellsX*x/XBox).astype(int)\n",
    "        j = np.floor(NCellsY*y/YBox).astype(int)\n",
    "        # combine into absolute cell number\n",
    "        row = i + NCellsX*j\n",
    "        if debug:\n",
    "            print(\"row = \",row)\n",
    "        # particle numbers\n",
    "        col = np.array(range(NParticles))\n",
    "        # combine into projector from particles to cells\n",
    "        data = np.ones(NParticles)\n",
    "        sparse_cell_projector = sparse.coo_matrix((data,(row,col)),shape=(NCellsX*NCellsY,NParticles))\n",
    "        if debug:\n",
    "            print(\"projector = \",sparse_cell_projector.todense())\n",
    "        \n",
    "        return sparse_cell_projector.A.sum(axis=1) \n",
    "\n",
    "    \n",
    "    # vectorize application of individualCellOccupancy\n",
    "    if xx.ndim==1:\n",
    "        nOcc = individualCellOccupancy(NCells,xx,yy,xBox,yBox,x_pbc,y_pbc,debug)\n",
    "    elif xx.ndim==2:\n",
    "        # trajectory\n",
    "        nOcc = []\n",
    "        for i in range(xx.shape[0]):\n",
    "            nOcc.append(individualCellOccupancy(NCells,xx[i],yy[i],xBox,yBox,x_pbc,y_pbc,debug))\n",
    "    elif xx.ndim==3:\n",
    "        # trajectory\n",
    "        nOcc = []\n",
    "        for i in range(xx.shape[0]):\n",
    "            nOcc_tr = []\n",
    "            for j in range(xx.shape[1]):\n",
    "                nOcc_tr.append(individualCellOccupancy(NCells,xx[i,j],yy[i,j],xBox,yBox,x_pbc,y_pbc,debug))\n",
    "            nOcc.append(nOcc_tr)\n",
    "    else:\n",
    "        print(\"CellOccupancy_vec not defined beyond the ensemble level\")\n",
    "    return np.array(nOcc)"
   ]
  },
  {
   "cell_type": "code",
   "execution_count": 122,
   "metadata": {},
   "outputs": [
    {
     "name": "stdout",
     "output_type": "stream",
     "text": [
      "(16,)\n"
     ]
    },
    {
     "data": {
      "text/plain": [
       "array([ 11.,  20.,  22.,  17.,  20.,  23.,  22.,  15.,  15.,  19.,  10.,\n",
       "        13.,  13.,   7.,  14.,  15.])"
      ]
     },
     "execution_count": 122,
     "metadata": {},
     "output_type": "execute_result"
    }
   ],
   "source": [
    "cOcc = CellOccupancy(4,x,y,LBox,LBox,x_pbc=False,y_pbc=False,debug=False)\n",
    "print(cOcc.shape)\n",
    "cOcc"
   ]
  },
  {
   "cell_type": "code",
   "execution_count": 123,
   "metadata": {},
   "outputs": [
    {
     "name": "stdout",
     "output_type": "stream",
     "text": [
      "(3, 16)\n"
     ]
    },
    {
     "data": {
      "text/plain": [
       "array([[ 11.,  20.,  22.,  17.,  20.,  23.,  22.,  15.,  15.,  19.,  10.,\n",
       "         13.,  13.,   7.,  14.,  15.],\n",
       "       [ 11.,  20.,  22.,  17.,  20.,  23.,  22.,  15.,  15.,  19.,  10.,\n",
       "         13.,  13.,   7.,  14.,  15.],\n",
       "       [ 11.,  20.,  22.,  17.,  20.,  23.,  22.,  15.,  15.,  19.,  10.,\n",
       "         13.,  13.,   7.,  14.,  15.]])"
      ]
     },
     "execution_count": 123,
     "metadata": {},
     "output_type": "execute_result"
    }
   ],
   "source": [
    "cOcc = CellOccupancy(4,x_tr,y_tr,LBox,LBox,x_pbc=False,y_pbc=False,debug=False)\n",
    "print(cOcc.shape)\n",
    "cOcc"
   ]
  },
  {
   "cell_type": "code",
   "execution_count": 124,
   "metadata": {},
   "outputs": [
    {
     "name": "stdout",
     "output_type": "stream",
     "text": [
      "(2, 3, 16)\n"
     ]
    },
    {
     "data": {
      "text/plain": [
       "array([[[ 11.,  20.,  22.,  17.,  20.,  23.,  22.,  15.,  15.,  19.,  10.,\n",
       "          13.,  13.,   7.,  14.,  15.],\n",
       "        [ 11.,  20.,  22.,  17.,  20.,  23.,  22.,  15.,  15.,  19.,  10.,\n",
       "          13.,  13.,   7.,  14.,  15.],\n",
       "        [ 11.,  20.,  22.,  17.,  20.,  23.,  22.,  15.,  15.,  19.,  10.,\n",
       "          13.,  13.,   7.,  14.,  15.]],\n",
       "\n",
       "       [[ 11.,  20.,  22.,  17.,  20.,  23.,  22.,  15.,  15.,  19.,  10.,\n",
       "          13.,  13.,   7.,  14.,  15.],\n",
       "        [ 11.,  20.,  22.,  17.,  20.,  23.,  22.,  15.,  15.,  19.,  10.,\n",
       "          13.,  13.,   7.,  14.,  15.],\n",
       "        [ 11.,  20.,  22.,  17.,  20.,  23.,  22.,  15.,  15.,  19.,  10.,\n",
       "          13.,  13.,   7.,  14.,  15.]]])"
      ]
     },
     "execution_count": 124,
     "metadata": {},
     "output_type": "execute_result"
    }
   ],
   "source": [
    "cOcc = CellOccupancy(4,x_tr_ens,y_tr_ens,LBox,LBox,x_pbc=False,y_pbc=False,debug=False)\n",
    "print(cOcc.shape)\n",
    "cOcc"
   ]
  },
  {
   "cell_type": "markdown",
   "metadata": {},
   "source": [
    "## The structure of an ideal gas"
   ]
  },
  {
   "cell_type": "markdown",
   "metadata": {},
   "source": [
    "Now test this for an ideal gas \"trajectory\". "
   ]
  },
  {
   "cell_type": "code",
   "execution_count": 106,
   "metadata": {},
   "outputs": [
    {
     "name": "stdout",
     "output_type": "stream",
     "text": [
      "LBox =  22.627416998\n"
     ]
    }
   ],
   "source": [
    "# define system\n",
    "NParticles=256\n",
    "kT = 1\n",
    "m = np.ones(NParticles)\n",
    "sigma = 1\n",
    "epsilon = 1\n",
    "#unit of time\n",
    "tau = sigma*np.sqrt(m[0]/epsilon)      \n",
    "\n",
    "# density\n",
    "rho = 0.5/sigma**3\n",
    "LBox = np.power(NParticles/rho,1/2)\n",
    "print(\"LBox = \",LBox)\n",
    "\n",
    "# number of \"time steps\"\n",
    "NSteps = 100\n",
    "\n",
    "x_tr = []\n",
    "y_tr = []\n",
    "\n",
    "# define initial state\n",
    "for n in range(NSteps):\n",
    "    x_tr.append(MD.RandomPositions(LBox,NParticles))\n",
    "    y_tr.append(MD.RandomPositions(LBox,NParticles))\n",
    "\n",
    "x_tr = np.array(x_tr)\n",
    "y_tr = np.array(y_tr)\n",
    "\n",
    "nOcc_tr = CellOccupancy(4,x_tr,y_tr,LBox,LBox,x_pbc=False,y_pbc=False,debug=False)"
   ]
  },
  {
   "cell_type": "code",
   "execution_count": 107,
   "metadata": {},
   "outputs": [],
   "source": [
    "nOcc_hist, nOcc_bin_edges = np.histogram(nOcc_tr, 101, (-0.5,100.5), normed=None, weights=None, density=True)"
   ]
  },
  {
   "cell_type": "code",
   "execution_count": 108,
   "metadata": {
    "scrolled": true
   },
   "outputs": [
    {
     "data": {
      "text/plain": [
       "Text(0, 0.5, 'p(n)')"
      ]
     },
     "execution_count": 108,
     "metadata": {},
     "output_type": "execute_result"
    },
    {
     "data": {
      "image/png": "[encoded data removed]",
      "text/plain": [
       "<Figure size 432x288 with 1 Axes>"
      ]
     },
     "metadata": {
      "needs_background": "light"
     },
     "output_type": "display_data"
    }
   ],
   "source": [
    "plt.plot(MD.BinCenters(nOcc_bin_edges),nOcc_hist)\n",
    "plt.title(\"occupation number distribution\")\n",
    "plt.xlabel(\"n\")\n",
    "plt.ylabel(\"p(n)\")"
   ]
  },
  {
   "cell_type": "code",
   "execution_count": 109,
   "metadata": {},
   "outputs": [
    {
     "data": {
      "text/plain": [
       "1.0"
      ]
     },
     "execution_count": 109,
     "metadata": {},
     "output_type": "execute_result"
    }
   ],
   "source": [
    "np.sum(nOcc_hist)"
   ]
  },
  {
   "cell_type": "markdown",
   "metadata": {},
   "source": [
    "The pair correlation function reveals, that there is no structure."
   ]
  },
  {
   "cell_type": "code",
   "execution_count": 110,
   "metadata": {},
   "outputs": [
    {
     "data": {
      "image/png": "[encoded data removed]",
      "text/plain": [
       "<Figure size 432x288 with 1 Axes>"
      ]
     },
     "metadata": {
      "needs_background": "light"
     },
     "output_type": "display_data"
    }
   ],
   "source": [
    "MD.PlotMDConf(x_tr[-1],y_tr[-1],xBox=(0,LBox),yBox=(0,LBox),xpbc=True,ypbc=True,m=m)"
   ]
  },
  {
   "cell_type": "markdown",
   "metadata": {},
   "source": [
    "## The structure of a T=0 crystalline solid"
   ]
  },
  {
   "cell_type": "markdown",
   "metadata": {},
   "source": [
    "As an example for a crystalline solid we can choose the grid configurations we designed as initial states."
   ]
  },
  {
   "cell_type": "code",
   "execution_count": 111,
   "metadata": {},
   "outputs": [
    {
     "name": "stdout",
     "output_type": "stream",
     "text": [
      "LBox =  22.627416998\n"
     ]
    }
   ],
   "source": [
    "# define system\n",
    "NParticles=256\n",
    "kT = 1\n",
    "m = np.ones(NParticles)\n",
    "sigma = 1\n",
    "epsilon = 1\n",
    "#unit of time\n",
    "tau = sigma*np.sqrt(m[0]/epsilon)      \n",
    "\n",
    "# density\n",
    "rho = 0.5/sigma**3\n",
    "LBox = np.power(NParticles/rho,1/2)\n",
    "print(\"LBox = \",LBox)\n",
    "\n",
    "# number of \"time steps\"\n",
    "NSteps = 100\n",
    "\n",
    "x_tr = []\n",
    "y_tr = []\n",
    "\n",
    "# define initial state\n",
    "for n in range(NSteps):\n",
    "    x,y = MD.GridPositionsIn2d(LBox,LBox,NParticles)\n",
    "    x_tr.append(x)\n",
    "    y_tr.append(y)\n",
    "\n",
    "x_tr = np.array(x_tr)\n",
    "y_tr = np.array(y_tr)\n",
    "\n",
    "nOcc_tr = CellOccupancy(4,x_tr,y_tr,LBox,LBox,x_pbc=False,y_pbc=False,debug=False)\n",
    "\n",
    "nOcc_hist, nOcc_bin_edges = np.histogram(nOcc_tr, 101, (-0.5,100.5), normed=None, weights=None, density=True)"
   ]
  },
  {
   "cell_type": "code",
   "execution_count": 112,
   "metadata": {
    "scrolled": true
   },
   "outputs": [
    {
     "data": {
      "text/plain": [
       "Text(0, 0.5, 'p(n)')"
      ]
     },
     "execution_count": 112,
     "metadata": {},
     "output_type": "execute_result"
    },
    {
     "data": {
      "image/png": "[encoded data removed]",
      "text/plain": [
       "<Figure size 432x288 with 1 Axes>"
      ]
     },
     "metadata": {
      "needs_background": "light"
     },
     "output_type": "display_data"
    }
   ],
   "source": [
    "plt.plot(MD.BinCenters(nOcc_bin_edges),nOcc_hist)\n",
    "plt.title(\"occupation number distribution\")\n",
    "plt.xlabel(\"n\")\n",
    "plt.ylabel(\"p(n)\")"
   ]
  },
  {
   "cell_type": "markdown",
   "metadata": {},
   "source": [
    "There is a single occupied bin, because all cells contain an equal number of particles."
   ]
  },
  {
   "cell_type": "code",
   "execution_count": 113,
   "metadata": {},
   "outputs": [
    {
     "data": {
      "image/png": "[encoded data removed]",
      "text/plain": [
       "<Figure size 432x288 with 2 Axes>"
      ]
     },
     "metadata": {
      "needs_background": "light"
     },
     "output_type": "display_data"
    }
   ],
   "source": [
    "MD.PlotMDConf(x_tr[-1],y_tr[-1],xBox=(0,LBox),yBox=(0,LBox),xpbc=True,ypbc=True,m=m,c=m)"
   ]
  },
  {
   "cell_type": "markdown",
   "metadata": {},
   "source": [
    "## The structure of a liquid"
   ]
  },
  {
   "cell_type": "markdown",
   "metadata": {},
   "source": [
    "To test this for a liquid, we actually need to run a little simulation!"
   ]
  },
  {
   "cell_type": "code",
   "execution_count": 114,
   "metadata": {},
   "outputs": [
    {
     "name": "stdout",
     "output_type": "stream",
     "text": [
      "LBox =  19.1236577494\n",
      "Execution time:  31.49463480198756\n"
     ]
    }
   ],
   "source": [
    "# define system\n",
    "d=2\n",
    "NParticles=256\n",
    "kT = 1\n",
    "m = np.ones(NParticles)\n",
    "sigma = 1\n",
    "epsilon = 1\n",
    "#unit of time\n",
    "tau = sigma*np.sqrt(m[0]/epsilon)      \n",
    "\n",
    "# density\n",
    "rho = 0.7/sigma**d\n",
    "LBox = np.power(NParticles/rho,1/2)\n",
    "print(\"LBox = \",LBox)\n",
    "\n",
    "# define the length of the trajectory\n",
    "run_time = 10 * tau\n",
    "delta_t = tau / 100\n",
    "number_of_timesteps = int(np.round(run_time/delta_t))\n",
    "\n",
    "\n",
    "# to measure the computer time needed to calculate the ensemble of trajectory\n",
    "initialWallTime = time.perf_counter()\n",
    "\n",
    "# define initial state\n",
    "x,y = MD.GridPositionsIn2d(LBox,LBox,NParticles)\n",
    "vx = MD.RandomVelocities(m,kT)\n",
    "vy = MD.RandomVelocities(m,kT)\n",
    "t = 0\n",
    "\n",
    "fx,fy = MD.LJ_forces_as_a_function_of_positions(2,epsilon,sigma,LBox,(x,y))\n",
    "uPot = MD.LJ_energies_as_a_function_of_positions(2,epsilon,sigma,LBox,(x,y))\n",
    "P = MD.LJ_virial_pressure_as_a_function_of_positions(2,epsilon,sigma,LBox,(x,y)) + MD.KineticPressure_as_a_function_of_velocities(2,LBox,m,(vx,vy))\n",
    "\n",
    "#initialize Trajectory\n",
    "t_tr = [t]\n",
    "x_tr = [x]\n",
    "vx_tr = [vx]\n",
    "y_tr = [y]\n",
    "vy_tr = [vy]\n",
    "uPot_tr = [uPot]\n",
    "P_tr = [P]\n",
    "\n",
    "for timestep in range(number_of_timesteps):\n",
    "    (x,y),(vx,vy) = MD.VelocityVerletTimeStepPartOne(m,(x,y),(vx,vy),(fx,fy),delta_t)\n",
    "    fx,fy = MD.LJ_forces_as_a_function_of_positions(2,epsilon,sigma,LBox,(x,y))\n",
    "    (x,y),(vx,vy) = MD.VelocityVerletTimeStepPartTwo(m,(x,y),(vx,vy),(fx,fy),delta_t)\n",
    "    t += delta_t\n",
    "    uPot = MD.LJ_energies_as_a_function_of_positions(2,epsilon,sigma,LBox,(x,y))\n",
    "    P = MD.LJ_virial_pressure_as_a_function_of_positions(2,epsilon,sigma,LBox,(x,y)) + MD.KineticPressure_as_a_function_of_velocities(2,LBox,m,(vx,vy))\n",
    "\n",
    "    t_tr.append(t)\n",
    "    x_tr.append(x)\n",
    "    vx_tr.append(vx)\n",
    "    y_tr.append(y)\n",
    "    vy_tr.append(vy)\n",
    "    uPot_tr.append(uPot)   # do this at each time step, since routine is not (yet) suitable for analysing entire trajectories\n",
    "    P_tr.append(P)\n",
    "    \n",
    "# convert trajectory lists to arrays to simplify the data analysis\n",
    "t_tr = np.array(t_tr)\n",
    "x_tr = np.array(x_tr)\n",
    "vx_tr = np.array(vx_tr)\n",
    "y_tr = np.array(y_tr)\n",
    "vy_tr = np.array(vy_tr)\n",
    "uPot_tr = np.array(uPot_tr)\n",
    "P_tr = np.array(P_tr)\n",
    "\n",
    "# analyse results \n",
    "uKin_tr = MD.ParticleKineticEnergies(m,vx_tr) + MD.ParticleKineticEnergies(m,vy_tr)\n",
    "u_tr = np.sum(uKin_tr,axis=-1) + np.sum(uPot_tr,axis=-1)/2\n",
    "        \n",
    "print(\"Execution time: \",time.perf_counter() - initialWallTime)"
   ]
  },
  {
   "cell_type": "code",
   "execution_count": 115,
   "metadata": {},
   "outputs": [
    {
     "data": {
      "text/plain": [
       "(1001, 256)"
      ]
     },
     "execution_count": 115,
     "metadata": {},
     "output_type": "execute_result"
    }
   ],
   "source": [
    "y_tr.shape"
   ]
  },
  {
   "cell_type": "code",
   "execution_count": 116,
   "metadata": {},
   "outputs": [],
   "source": [
    "nOcc_tr = CellOccupancy(4,x_tr,y_tr,LBox,LBox,x_pbc=True,y_pbc=True,debug=False)\n",
    "\n",
    "nOcc_hist, nOcc_bin_edges = np.histogram(nOcc_tr, 101, (-0.5,100.5), normed=None, weights=None, density=True)"
   ]
  },
  {
   "cell_type": "code",
   "execution_count": 117,
   "metadata": {
    "scrolled": true
   },
   "outputs": [
    {
     "data": {
      "text/plain": [
       "Text(0, 0.5, 'p(n)')"
      ]
     },
     "execution_count": 117,
     "metadata": {},
     "output_type": "execute_result"
    },
    {
     "data": {
      "image/png": "[encoded data removed]",
      "text/plain": [
       "<Figure size 432x288 with 1 Axes>"
      ]
     },
     "metadata": {
      "needs_background": "light"
     },
     "output_type": "display_data"
    }
   ],
   "source": [
    "plt.plot(MD.BinCenters(nOcc_bin_edges),nOcc_hist)\n",
    "plt.title(\"occupation number distribution\")\n",
    "plt.xlabel(\"n\")\n",
    "plt.ylabel(\"p(n)\")"
   ]
  },
  {
   "cell_type": "markdown",
   "metadata": {},
   "source": [
    "Again we have a very narrow peak, because a liquid is nearly incompressible."
   ]
  },
  {
   "cell_type": "code",
   "execution_count": 118,
   "metadata": {},
   "outputs": [
    {
     "data": {
      "image/png": "[encoded data removed]",
      "text/plain": [
       "<Figure size 432x288 with 2 Axes>"
      ]
     },
     "metadata": {
      "needs_background": "light"
     },
     "output_type": "display_data"
    }
   ],
   "source": [
    "MD.PlotMDConf(x_tr[-1],y_tr[-1],xBox=(0,LBox),yBox=(0,LBox),xpbc=True,ypbc=True,m=m,c=uKin_tr[-1])"
   ]
  },
  {
   "cell_type": "markdown",
   "metadata": {},
   "source": [
    "## To do\n",
    "\n",
    "Formalize the relation between the fluctuations in the occupation number and the compressibility."
   ]
  }
 ],
 "metadata": {
  "kernelspec": {
   "display_name": "Python 3",
   "language": "python",
   "name": "python3"
  },
  "language_info": {
   "codemirror_mode": {
    "name": "ipython",
    "version": 3
   },
   "file_extension": ".py",
   "mimetype": "text/x-python",
   "name": "python",
   "nbconvert_exporter": "python",
   "pygments_lexer": "ipython3",
   "version": "3.8.12"
  }
 },
 "nbformat": 4,
 "nbformat_minor": 2
}
